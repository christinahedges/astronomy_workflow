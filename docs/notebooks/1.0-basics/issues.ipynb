{
 "cells": [
  {
   "cell_type": "markdown",
   "id": "d2fb255c",
   "metadata": {},
   "source": [
    "# GitHub Issues\n",
    "\n",
    "GitHub issues are a way to communicate to developers that their tools might have bugs or problems. Most people in astronomy develop tools for their own work, and can't necessarily respond to every issue with a quick fix. However, opening issues is always good practice. If you find a problem with a tool opening an issue\n",
    "\n",
    "1. Tells the developer that you've found something they may have missed\n",
    "2. Tells other users you have encountered a problem, and gives a space for others to speak up about the problem\n",
    "3. Gives a place for public discussion between you and the developer. This may be a feature, not a bug, and it may be useful to have a public record of the conversation around the issue.\n",
    "\n",
    "## So I should open issues?\n",
    "\n",
    "Yeah, pretty much. If you have a problem, opening an issue is better than emailing.\n",
    "\n",
    "## How?\n",
    "\n",
    "Below is an example of the issue page. Each repo on GitHub has a space to open issues, and you'll see past issues people have. By default you'll see \"open\" issues (ones that haven't been fixed).\n",
    "\n",
    "![GitHub issue page](figures/issue.png)\n",
    "\n",
    "When you open an issue on a repo you should include\n",
    "\n",
    "* What version of the code you were using\n",
    "* What version of the base coding language you were using \n",
    "* What sort of operating system you were running\n",
    "* What you were expecting the tool to do\n",
    "* Ideally, a minimal working example (MWE) that reproduces the problem you encounter.\n",
    "\n",
    "## When do issues get closed?\n",
    "\n",
    "Developers on the repository will usually either fix the problem and close your issue, or they will discuss why they aren't going to fix the problem and then close the issue. Sometimes people may ask you to open a PR (pull request) to fix the issue. If you're able, doing this is a great idea. You'll get credit as a developer of the tool, and the developers will be very happy you helped fix a bug."
   ]
  }
 ],
 "metadata": {
  "kernelspec": {
   "display_name": "Python 3",
   "language": "python",
   "name": "python3"
  },
  "language_info": {
   "codemirror_mode": {
    "name": "ipython",
    "version": 3
   },
   "file_extension": ".py",
   "mimetype": "text/x-python",
   "name": "python",
   "nbconvert_exporter": "python",
   "pygments_lexer": "ipython3",
   "version": "3.6.7"
  }
 },
 "nbformat": 4,
 "nbformat_minor": 5
}
