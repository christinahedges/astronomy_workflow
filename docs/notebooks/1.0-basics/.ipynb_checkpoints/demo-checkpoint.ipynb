{
 "cells": [
  {
   "cell_type": "markdown",
   "id": "49f8935e",
   "metadata": {},
   "source": [
    "# Demonstration\n",
    "\n",
    "In this notebook we're going to try to demonstrate using some things with `git`. Usually you'd do this in the terminal, not in a notebook, but it'll work for our purposes. First we'll make a directory to work in\n",
    "\n",
    "(**Note because we're executing this in a notebook, sometimes we need to use the '!' symbol to execute shell commands.**)"
   ]
  },
  {
   "cell_type": "code",
   "execution_count": 1,
   "id": "cfce87bd",
   "metadata": {},
   "outputs": [],
   "source": [
    "# Note I'm loading the autoreload extension so that we can load functions from two git branches\n",
    "%load_ext autoreload\n",
    "%autoreload 2"
   ]
  },
  {
   "cell_type": "code",
   "execution_count": 2,
   "id": "014f71cf",
   "metadata": {},
   "outputs": [],
   "source": [
    "mkdir demo"
   ]
  },
  {
   "cell_type": "code",
   "execution_count": 3,
   "id": "0d006ce2",
   "metadata": {},
   "outputs": [
    {
     "name": "stdout",
     "output_type": "stream",
     "text": [
      "/Users/ch/HST/repos/astronomy_workflow/docs/notebooks/1.0-basics/demo\n"
     ]
    }
   ],
   "source": [
    "cd demo"
   ]
  },
  {
   "cell_type": "code",
   "execution_count": 4,
   "id": "8983c014",
   "metadata": {},
   "outputs": [
    {
     "name": "stdout",
     "output_type": "stream",
     "text": [
      "Initialized empty Git repository in /Users/ch/HST/repos/astronomy_workflow/docs/notebooks/1.0-basics/demo/.git/\n"
     ]
    }
   ],
   "source": [
    "! git init"
   ]
  },
  {
   "cell_type": "code",
   "execution_count": 5,
   "id": "824c11c9",
   "metadata": {},
   "outputs": [
    {
     "name": "stdout",
     "output_type": "stream",
     "text": [
      "\u001b[34m.\u001b[m\u001b[m/    \u001b[34m..\u001b[m\u001b[m/   \u001b[34m.git\u001b[m\u001b[m/\n"
     ]
    }
   ],
   "source": [
    "ls -a"
   ]
  },
  {
   "cell_type": "markdown",
   "id": "e2a55375",
   "metadata": {},
   "source": [
    "You can see we now have a `.git` directory, which is going to do all the version controlling for us. Let's make a .gitignore file, and make a silly function in `example.py`"
   ]
  },
  {
   "cell_type": "code",
   "execution_count": 6,
   "id": "9f00540b",
   "metadata": {},
   "outputs": [
    {
     "name": "stdout",
     "output_type": "stream",
     "text": [
      "Writing .gitignore\n"
     ]
    }
   ],
   "source": [
    "%%writefile .gitignore\n",
    ".gitignore\n",
    "__pycache__"
   ]
  },
  {
   "cell_type": "code",
   "execution_count": 7,
   "id": "fe563cf8",
   "metadata": {},
   "outputs": [
    {
     "name": "stdout",
     "output_type": "stream",
     "text": [
      "Writing example.py\n"
     ]
    }
   ],
   "source": [
    "%%writefile example.py\n",
    "def my_func(name:str):\n",
    "    print(f\"Hello, {name}!\")"
   ]
  },
  {
   "cell_type": "markdown",
   "id": "22aaaaa5",
   "metadata": {},
   "source": [
    "We can check that the function works by importing it"
   ]
  },
  {
   "cell_type": "code",
   "execution_count": 8,
   "id": "42f1d782",
   "metadata": {},
   "outputs": [
    {
     "name": "stdout",
     "output_type": "stream",
     "text": [
      "Hello, Christina!\n"
     ]
    }
   ],
   "source": [
    "import example\n",
    "example.my_func('Christina')"
   ]
  },
  {
   "cell_type": "markdown",
   "id": "596c5c66",
   "metadata": {},
   "source": [
    "Looks great, let's see what `git` thinks"
   ]
  },
  {
   "cell_type": "code",
   "execution_count": 9,
   "id": "40904046",
   "metadata": {},
   "outputs": [
    {
     "name": "stdout",
     "output_type": "stream",
     "text": [
      "On branch master\n",
      "\n",
      "No commits yet\n",
      "\n",
      "Untracked files:\n",
      "  (use \"git add <file>...\" to include in what will be committed)\n",
      "\t\u001b[31mexample.py\u001b[m\n",
      "\n",
      "nothing added to commit but untracked files present (use \"git add\" to track)\n"
     ]
    }
   ],
   "source": [
    "! git status"
   ]
  },
  {
   "cell_type": "markdown",
   "id": "e4bb01db",
   "metadata": {},
   "source": [
    "`git` thinks that a file has been changed, and it isn't tracking that file. We can tell it to track the file with `add`"
   ]
  },
  {
   "cell_type": "code",
   "execution_count": 10,
   "id": "c4f11f31",
   "metadata": {},
   "outputs": [],
   "source": [
    "! git add example.py"
   ]
  },
  {
   "cell_type": "code",
   "execution_count": 11,
   "id": "53f486b2",
   "metadata": {},
   "outputs": [
    {
     "name": "stdout",
     "output_type": "stream",
     "text": [
      "On branch master\n",
      "\n",
      "No commits yet\n",
      "\n",
      "Changes to be committed:\n",
      "  (use \"git rm --cached <file>...\" to unstage)\n",
      "\t\u001b[32mnew file:   example.py\u001b[m\n",
      "\n"
     ]
    }
   ],
   "source": [
    "! git status"
   ]
  },
  {
   "cell_type": "markdown",
   "id": "db5125b0",
   "metadata": {},
   "source": [
    "Great, now, it knows about the file. Note that we're on the default `master` branch. If we're happy with our function, we can commit it."
   ]
  },
  {
   "cell_type": "code",
   "execution_count": 12,
   "id": "ef364f4b",
   "metadata": {},
   "outputs": [
    {
     "name": "stdout",
     "output_type": "stream",
     "text": [
      "[master (root-commit) d92de99] My first function\n",
      " 1 file changed, 2 insertions(+)\n",
      " create mode 100644 example.py\n"
     ]
    }
   ],
   "source": [
    "! git commit -m 'My first function'"
   ]
  },
  {
   "cell_type": "markdown",
   "id": "60a24c60",
   "metadata": {},
   "source": [
    "Commits need a message to go with them, and the `-m` flag lets us put the message in the same line. Great! This file is now committed, and if we ever need to roll back to this version we'll be able to. I think we need a new function. Because this is a bit change, we should open a new branch before developing it."
   ]
  },
  {
   "cell_type": "code",
   "execution_count": 13,
   "id": "631803ba",
   "metadata": {},
   "outputs": [
    {
     "name": "stdout",
     "output_type": "stream",
     "text": [
      "Switched to a new branch 'new-feature'\n"
     ]
    }
   ],
   "source": [
    "! git checkout -b new-feature"
   ]
  },
  {
   "cell_type": "markdown",
   "id": "eaa3f859",
   "metadata": {},
   "source": [
    "Ok, now we can add our new functionality"
   ]
  },
  {
   "cell_type": "code",
   "execution_count": 14,
   "id": "d35218cb",
   "metadata": {},
   "outputs": [
    {
     "name": "stdout",
     "output_type": "stream",
     "text": [
      "Overwriting example.py\n"
     ]
    }
   ],
   "source": [
    "%%writefile example.py\n",
    "def my_func(name:str, language:str='Python'):\n",
    "    print(f\"Hello, {name}! I like using {language}!\")"
   ]
  },
  {
   "cell_type": "code",
   "execution_count": 15,
   "id": "d42c2fc5",
   "metadata": {},
   "outputs": [
    {
     "name": "stdout",
     "output_type": "stream",
     "text": [
      "On branch new-feature\n",
      "Changes not staged for commit:\n",
      "  (use \"git add <file>...\" to update what will be committed)\n",
      "  (use \"git restore <file>...\" to discard changes in working directory)\n",
      "\t\u001b[31mmodified:   example.py\u001b[m\n",
      "\n",
      "no changes added to commit (use \"git add\" and/or \"git commit -a\")\n"
     ]
    }
   ],
   "source": [
    "! git status"
   ]
  },
  {
   "cell_type": "markdown",
   "id": "f007d214",
   "metadata": {},
   "source": [
    "`git` knows we've changed the file. Let's add it and commit it. This time, I'm going to use `git add .` to add all the files in the CWD."
   ]
  },
  {
   "cell_type": "code",
   "execution_count": 16,
   "id": "b439bafa",
   "metadata": {},
   "outputs": [],
   "source": [
    "! git add ."
   ]
  },
  {
   "cell_type": "code",
   "execution_count": 17,
   "id": "dc26c2d4",
   "metadata": {},
   "outputs": [
    {
     "name": "stdout",
     "output_type": "stream",
     "text": [
      "[new-feature a9b41ea] changed my_func to accept language keyword\n",
      " 1 file changed, 2 insertions(+), 2 deletions(-)\n"
     ]
    }
   ],
   "source": [
    "! git commit -m 'changed my_func to accept language keyword'"
   ]
  },
  {
   "cell_type": "markdown",
   "id": "2b2f5b3a",
   "metadata": {},
   "source": [
    "Great! Now we have a new commit on this branch! If we want to work with the old function, we can switch to the `master` branch."
   ]
  },
  {
   "cell_type": "code",
   "execution_count": 18,
   "id": "b69b2bef",
   "metadata": {},
   "outputs": [
    {
     "name": "stdout",
     "output_type": "stream",
     "text": [
      "Hello, christina! I like using Python!\n"
     ]
    }
   ],
   "source": [
    "import example\n",
    "example.my_func('christina')"
   ]
  },
  {
   "cell_type": "code",
   "execution_count": 19,
   "id": "44f662b8",
   "metadata": {},
   "outputs": [
    {
     "name": "stdout",
     "output_type": "stream",
     "text": [
      "Switched to branch 'master'\n",
      "Hello, christina! I like using Python!\n"
     ]
    }
   ],
   "source": [
    "! git checkout master\n",
    "import example\n",
    "example.my_func('christina')"
   ]
  },
  {
   "cell_type": "markdown",
   "id": "42d32187",
   "metadata": {},
   "source": [
    "Great, we can switch between branches to use different functionality. Maybe now we'd like to merge our work on `new-feature` onto `master`. Let's check we're on the right branch"
   ]
  },
  {
   "cell_type": "code",
   "execution_count": 20,
   "id": "a8286ab4",
   "metadata": {},
   "outputs": [
    {
     "name": "stdout",
     "output_type": "stream",
     "text": [
      "On branch master\n",
      "nothing to commit, working tree clean\n"
     ]
    }
   ],
   "source": [
    "! git status"
   ]
  },
  {
   "cell_type": "markdown",
   "id": "990ee164",
   "metadata": {},
   "source": [
    "Looks like we're on master, in that case let's merge!"
   ]
  },
  {
   "cell_type": "code",
   "execution_count": 21,
   "id": "4fa58917",
   "metadata": {},
   "outputs": [
    {
     "name": "stdout",
     "output_type": "stream",
     "text": [
      "Updating d92de99..a9b41ea\n",
      "Fast-forward\n",
      " example.py | 4 \u001b[32m++\u001b[m\u001b[31m--\u001b[m\n",
      " 1 file changed, 2 insertions(+), 2 deletions(-)\n"
     ]
    }
   ],
   "source": [
    "! git merge new-feature"
   ]
  },
  {
   "cell_type": "markdown",
   "id": "0d855c83",
   "metadata": {},
   "source": [
    "There were no conflicts, and it seems like the merge was successful. Let's check"
   ]
  },
  {
   "cell_type": "code",
   "execution_count": 22,
   "id": "98da4efd",
   "metadata": {},
   "outputs": [
    {
     "name": "stdout",
     "output_type": "stream",
     "text": [
      "Hello, christina! I like using julia!\n"
     ]
    }
   ],
   "source": [
    "import example\n",
    "example.my_func('christina', 'julia')"
   ]
  },
  {
   "cell_type": "markdown",
   "id": "1650b308",
   "metadata": {},
   "source": [
    "Yep, that looks great. Ok now we can remove out old `new-feature` branch, since we've already merged it in."
   ]
  },
  {
   "cell_type": "code",
   "execution_count": 23,
   "id": "f6089e91",
   "metadata": {},
   "outputs": [
    {
     "name": "stdout",
     "output_type": "stream",
     "text": [
      "Deleted branch new-feature (was a9b41ea).\n"
     ]
    }
   ],
   "source": [
    "! git branch -d new-feature"
   ]
  },
  {
   "cell_type": "markdown",
   "id": "a563cfab",
   "metadata": {},
   "source": [
    "Great! Now we might want to push these changes online to a GitHub repo. If we go to GitHub and click New Repository, we'll have to fill out this form:\n",
    "\n",
    "![New GitHub repo](figures/newrepo.png)\n",
    "\n",
    "Now that we have the remote repository set up, we can add the remote to our `git`."
   ]
  },
  {
   "cell_type": "code",
   "execution_count": 24,
   "id": "0a36b63b",
   "metadata": {},
   "outputs": [],
   "source": [
    "! git remote add origin https://github.com/christinahedges/demonstration.git"
   ]
  },
  {
   "cell_type": "markdown",
   "id": "060c0803",
   "metadata": {},
   "source": [
    "Let's check it worked"
   ]
  },
  {
   "cell_type": "code",
   "execution_count": 25,
   "id": "2f7d23de",
   "metadata": {},
   "outputs": [
    {
     "name": "stdout",
     "output_type": "stream",
     "text": [
      "origin\thttps://github.com/christinahedges/demonstration.git (fetch)\n",
      "origin\thttps://github.com/christinahedges/demonstration.git (push)\n"
     ]
    }
   ],
   "source": [
    "! git remote -v"
   ]
  },
  {
   "cell_type": "markdown",
   "id": "8c00ff2c",
   "metadata": {},
   "source": [
    "Looks great. `git` calls the first branch `master` by default, but that has some problematic connotations, so GitHub and others recommend we change the name to `main`."
   ]
  },
  {
   "cell_type": "code",
   "execution_count": 26,
   "id": "9739684d",
   "metadata": {},
   "outputs": [],
   "source": [
    "! git branch -M main"
   ]
  },
  {
   "cell_type": "code",
   "execution_count": 27,
   "id": "54f5da9b",
   "metadata": {},
   "outputs": [
    {
     "name": "stdout",
     "output_type": "stream",
     "text": [
      "On branch main\n",
      "nothing to commit, working tree clean\n"
     ]
    }
   ],
   "source": [
    "! git status"
   ]
  },
  {
   "cell_type": "markdown",
   "id": "435eddc1",
   "metadata": {},
   "source": [
    "Now we can push our `main` branch to the remote we set up, named `origin`:"
   ]
  },
  {
   "cell_type": "markdown",
   "id": "a43ca8e0",
   "metadata": {},
   "source": [
    "```git push -u origin main```"
   ]
  }
 ],
 "metadata": {
  "kernelspec": {
   "display_name": "Python 3",
   "language": "python",
   "name": "python3"
  },
  "language_info": {
   "codemirror_mode": {
    "name": "ipython",
    "version": 3
   },
   "file_extension": ".py",
   "mimetype": "text/x-python",
   "name": "python",
   "nbconvert_exporter": "python",
   "pygments_lexer": "ipython3",
   "version": "3.6.7"
  }
 },
 "nbformat": 4,
 "nbformat_minor": 5
}
