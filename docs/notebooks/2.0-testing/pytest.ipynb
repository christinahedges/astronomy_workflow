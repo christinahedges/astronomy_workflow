{
 "cells": [
  {
   "cell_type": "markdown",
   "id": "440b292f-c89c-4c89-a24b-7fc15f2896c4",
   "metadata": {},
   "source": [
    "# Making tests with pytest"
   ]
  },
  {
   "cell_type": "code",
   "execution_count": null,
   "id": "0b31539f-520e-4d0e-b1af-2807f6d7a5db",
   "metadata": {},
   "outputs": [],
   "source": []
  }
 ],
 "metadata": {
  "kernelspec": {
   "display_name": "Python 3",
   "language": "python",
   "name": "python3"
  },
  "language_info": {
   "codemirror_mode": {
    "name": "ipython",
    "version": 3
   },
   "file_extension": ".py",
   "mimetype": "text/x-python",
   "name": "python",
   "nbconvert_exporter": "python",
   "pygments_lexer": "ipython3",
   "version": "3.8.7"
  }
 },
 "nbformat": 4,
 "nbformat_minor": 5
}
