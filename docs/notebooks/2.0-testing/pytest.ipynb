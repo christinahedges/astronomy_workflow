{
 "cells": [
  {
   "cell_type": "markdown",
   "id": "440b292f-c89c-4c89-a24b-7fc15f2896c4",
   "metadata": {},
   "source": [
    "# Making tests for your Python tools with pytest\n",
    "\n",
    "*TL;DR: Testing let's you make tools that tell you when they're breaking. Tests are both a fantastic way to develop, and a fantastic resource for maintaining your tools.*\n",
    "\n",
    "You can click [here](https://colab.research.google.com/github/christinahedges/astronomy_workflow/blob/main/docs/notebooks/1.0-basics/demo.ipynb) to open this page in Google Colab, which will let you execute this tutorial!"
   ]
  },
  {
   "cell_type": "markdown",
   "id": "d8965ec9",
   "metadata": {},
   "source": [
    "## What are unit tests?\n",
    "\n",
    "Unit tests are small, simple functions which test (ideally) a single part of your tool. Tests check that all parts of your code work correctly (\"pass\") and can be run on different machines and architectures so you know your users won't have issues.\n",
    "\n",
    "## Do I have to make tests\n",
    "\n",
    "You don't have to, but it will make your package much more usable, and much easier to maintain and fix. It is recommended.\n",
    "\n",
    "## How should I make tests?\n",
    "\n",
    "This is really up to you, but there a few sorts of approaches;\n",
    "\n",
    "1. Build the code, and then test it. This lets you be flexible when designing, but can be a headache to actually test in the end.\n",
    "2. Build the tests, and then write the code. This is known as test driven development, and can be very powerful. You start with tests that should pass, and write code to make sure they do. \n",
    "3. Test as you go. This is a pretty good approach, as you're writing functions and tools, make sure you're adding tests for each new piece of functionality. This means that as you develop, you'll know whether your new functionality breaks your established functionality. \n",
    "\n",
    "If you find that you have a bug in your code, or something is not behaving in the way that you expected, starting by writing a test that should pass can be a great way to fix that problem and ensure that it doesn't happen again. \n",
    "\n",
    "## But really how should I write a test?\n",
    "\n",
    "We'll do some demos below.\n",
    "\n",
    "## Tests and merging pull requests\n",
    "\n",
    "Sometimes you or one or your users will open a pull request against your tool, or will try to add functionality. Having tests is an excellent way to ensure that features being added by new users do not break your original tool. It's good practice to make sure that any pull request that is opened against your tool includes testing.\n",
    "\n",
    "## Directory structures\n",
    "\n",
    "There are a few ways to structure your directories but this is the one I like\n",
    "\n",
    "```\n",
    "my-package/\n",
    "... src/\n",
    "....... my-package/\n",
    "........... __init__.py\n",
    "........... package.py\n",
    "........... data/\n",
    "........... package_data.fits\n",
    "... tests/\n",
    "....... __init__.py\n",
    "....... test_package.py\n",
    "....... data/\n",
    "........... test_data.fits\n",
    "          \n",
    "```\n",
    "\n",
    "## Coverage\n",
    "\n",
    "There are some tools (e.g. [codecov](https://about.codecov.io/)) which can test the \"coverage\" of your tests, i.e. how many lines of your code are being called by your tests. Having high coverage means less room for error. \n",
    "\n",
    "# Demonstration\n",
    "\n",
    "Here we'll go over a quick demonstration of how to test some functions. "
   ]
  },
  {
   "cell_type": "markdown",
   "id": "29a7f45d",
   "metadata": {},
   "source": [
    "First, we're going to make a very simple function, which adds 10 to a value we pass in.\n",
    "\n",
    "We're using the `writefile` jupyter magic to write this function to a file called `func.py`. "
   ]
  },
  {
   "cell_type": "code",
   "execution_count": 1,
   "id": "c0d38d38",
   "metadata": {},
   "outputs": [
    {
     "name": "stdout",
     "output_type": "stream",
     "text": [
      "Overwriting test_func.py\n"
     ]
    }
   ],
   "source": [
    "%%writefile test_func.py\n",
    "# Everything below here will get written\n",
    "import numpy as np\n",
    "def func(x):\n",
    "    return x + 10"
   ]
  },
  {
   "cell_type": "markdown",
   "id": "01810402",
   "metadata": {},
   "source": [
    "Now we're going to write a test for this function. To do this we'll make a new file called `test_func.py`. This file will have our test in it. We'll \n",
    "\n",
    "1. Import the function that we want to test\n",
    "2. Use the function\n",
    "3. Make assert statements that should be true"
   ]
  },
  {
   "cell_type": "code",
   "execution_count": 2,
   "id": "52c5a32c",
   "metadata": {},
   "outputs": [
    {
     "name": "stdout",
     "output_type": "stream",
     "text": [
      "Overwriting test_func.py\n"
     ]
    }
   ],
   "source": [
    "%%writefile test_func.py\n",
    "# Everything below here will get written\n",
    "from func import func\n",
    "def test_func():\n",
    "    y = func(10)\n",
    "    assert y == 20"
   ]
  },
  {
   "cell_type": "markdown",
   "id": "96a230d5",
   "metadata": {},
   "source": [
    "Then we can execute the test. Usually you'd do this from the terminal command line, but here we'll do it from within the notebook so that you can see it in this tutorial.\n",
    "\n",
    "To run the test we use \n",
    "\n",
    "```\n",
    "pytest test_func.py\n",
    "```\n",
    "\n",
    "but we could have also run \n",
    "\n",
    "```\n",
    "pytest .\n",
    "```\n",
    "to run in this directory or \n",
    "\n",
    "```\n",
    "pytest test_func.py::test_func\n",
    "```\n",
    "\n",
    "To run a specific test in the file.\n"
   ]
  },
  {
   "cell_type": "code",
   "execution_count": 3,
   "id": "66806529",
   "metadata": {},
   "outputs": [
    {
     "name": "stdout",
     "output_type": "stream",
     "text": [
      "\u001b[1m============================= test session starts ==============================\u001b[0m\n",
      "platform darwin -- Python 3.8.7, pytest-6.2.3, py-1.10.0, pluggy-0.13.1\n",
      "rootdir: /Users/ch/repos/astronomy_workflow/docs/notebooks/2.0-testing\n",
      "plugins: anyio-2.2.0\n",
      "collected 1 item                                                               \u001b[0m\n",
      "\n",
      "test_func.py \u001b[32m.\u001b[0m\u001b[32m                                                           [100%]\u001b[0m\n",
      "\n",
      "\u001b[32m============================== \u001b[32m\u001b[1m1 passed\u001b[0m\u001b[32m in 0.09s\u001b[0m\u001b[32m ===============================\u001b[0m\n"
     ]
    }
   ],
   "source": [
    "! pytest test_func.py"
   ]
  },
  {
   "cell_type": "markdown",
   "id": "3193611e",
   "metadata": {},
   "source": [
    "When we run the test we see first some information about how the tests were run, and then a progress bar next to the file. Green dots mean a passing test, yellow mean a test that passes but with a warning, and red is a failing test. Let's try making a failing test and see what that looks like"
   ]
  },
  {
   "cell_type": "code",
   "execution_count": 4,
   "id": "16649881",
   "metadata": {},
   "outputs": [
    {
     "name": "stdout",
     "output_type": "stream",
     "text": [
      "Overwriting test_func.py\n"
     ]
    }
   ],
   "source": [
    "%%writefile test_func.py\n",
    "# Everything below here will get written\n",
    "from func import func\n",
    "def test_func():\n",
    "    y = func(10)\n",
    "    assert y == 23"
   ]
  },
  {
   "cell_type": "code",
   "execution_count": 5,
   "id": "ac8c0de8",
   "metadata": {},
   "outputs": [
    {
     "name": "stdout",
     "output_type": "stream",
     "text": [
      "\u001b[1m============================= test session starts ==============================\u001b[0m\n",
      "platform darwin -- Python 3.8.7, pytest-6.2.3, py-1.10.0, pluggy-0.13.1\n",
      "rootdir: /Users/ch/repos/astronomy_workflow/docs/notebooks/2.0-testing\n",
      "plugins: anyio-2.2.0\n",
      "collected 1 item                                                               \u001b[0m\n",
      "\n",
      "test_func.py \u001b[32m.\u001b[0m\u001b[32m                                                           [100%]\u001b[0m\n",
      "\n",
      "\u001b[32m============================== \u001b[32m\u001b[1m1 passed\u001b[0m\u001b[32m in 0.07s\u001b[0m\u001b[32m ===============================\u001b[0m\n"
     ]
    }
   ],
   "source": [
    "! pytest test_func.py"
   ]
  },
  {
   "cell_type": "markdown",
   "id": "f9703ecc",
   "metadata": {},
   "source": [
    "This time the test failed, and pytest shows us exactly where the test failed. Let's try writing a second test."
   ]
  },
  {
   "cell_type": "code",
   "execution_count": 6,
   "id": "e9909a03",
   "metadata": {},
   "outputs": [
    {
     "name": "stdout",
     "output_type": "stream",
     "text": [
      "Overwriting test_func.py\n"
     ]
    }
   ],
   "source": [
    "%%writefile test_func.py\n",
    "# Everything below here will get written\n",
    "from func import func\n",
    "def test_func_int():\n",
    "    y = func(10)\n",
    "    assert y == 20\n",
    "    \n",
    "def test_func_str():\n",
    "    y = func('christina')\n",
    "    assert y == 20"
   ]
  },
  {
   "cell_type": "code",
   "execution_count": 7,
   "id": "d2e21183",
   "metadata": {},
   "outputs": [
    {
     "name": "stdout",
     "output_type": "stream",
     "text": [
      "\u001b[1m============================= test session starts ==============================\u001b[0m\n",
      "platform darwin -- Python 3.8.7, pytest-6.2.3, py-1.10.0, pluggy-0.13.1\n",
      "rootdir: /Users/ch/repos/astronomy_workflow/docs/notebooks/2.0-testing\n",
      "plugins: anyio-2.2.0\n",
      "collected 2 items                                                              \u001b[0m\n",
      "\n",
      "test_func.py \u001b[32m.\u001b[0m\u001b[31mF\u001b[0m\u001b[31m                                                          [100%]\u001b[0m\n",
      "\n",
      "=================================== FAILURES ===================================\n",
      "\u001b[31m\u001b[1m________________________________ test_func_str _________________________________\u001b[0m\n",
      "\n",
      "    \u001b[94mdef\u001b[39;49;00m \u001b[92mtest_func_str\u001b[39;49;00m():\n",
      ">       y = func(\u001b[33m'\u001b[39;49;00m\u001b[33mchristina\u001b[39;49;00m\u001b[33m'\u001b[39;49;00m)\n",
      "\n",
      "\u001b[1m\u001b[31mtest_func.py\u001b[0m:8: \n",
      "_ _ _ _ _ _ _ _ _ _ _ _ _ _ _ _ _ _ _ _ _ _ _ _ _ _ _ _ _ _ _ _ _ _ _ _ _ _ _ _ \n",
      "\n",
      "x = 'christina'\n",
      "\n",
      "    \u001b[94mdef\u001b[39;49;00m \u001b[92mfunc\u001b[39;49;00m(x):\n",
      ">       \u001b[94mreturn\u001b[39;49;00m x + \u001b[94m10\u001b[39;49;00m\n",
      "\u001b[1m\u001b[31mE       TypeError: can only concatenate str (not \"int\") to str\u001b[0m\n",
      "\n",
      "\u001b[1m\u001b[31mfunc.py\u001b[0m:3: TypeError\n",
      "=========================== short test summary info ============================\n",
      "FAILED test_func.py::test_func_str - TypeError: can only concatenate str (not...\n",
      "\u001b[31m========================= \u001b[31m\u001b[1m1 failed\u001b[0m, \u001b[32m1 passed\u001b[0m\u001b[31m in 0.17s\u001b[0m\u001b[31m ==========================\u001b[0m\n"
     ]
    }
   ],
   "source": [
    "! pytest test_func.py"
   ]
  },
  {
   "cell_type": "markdown",
   "id": "5b0405ed",
   "metadata": {},
   "source": [
    "This time, the first test passes, and the second one fails. We could use the debug command to try to inspect the variables if we wanted to\n",
    "\n",
    "```\n",
    "pytest --pdb test_func.py\n",
    "```\n",
    "\n",
    "Let's make this a passing test. First, let's tell the test if we pass a `string`, the test should fail."
   ]
  },
  {
   "cell_type": "code",
   "execution_count": 10,
   "id": "64a19b18",
   "metadata": {},
   "outputs": [
    {
     "name": "stdout",
     "output_type": "stream",
     "text": [
      "Overwriting test_func.py\n"
     ]
    }
   ],
   "source": [
    "%%writefile test_func.py\n",
    "# Everything below here will get written\n",
    "from func import func\n",
    "import pytest\n",
    "def test_func_int():\n",
    "    y = func(10)\n",
    "    assert y == 20\n",
    "    \n",
    "def test_func_str():\n",
    "    with pytest.raises(TypeError):\n",
    "        y = func('christina')"
   ]
  },
  {
   "cell_type": "code",
   "execution_count": 11,
   "id": "d8446f46",
   "metadata": {},
   "outputs": [
    {
     "name": "stdout",
     "output_type": "stream",
     "text": [
      "\u001b[1m============================= test session starts ==============================\u001b[0m\n",
      "platform darwin -- Python 3.8.7, pytest-6.2.3, py-1.10.0, pluggy-0.13.1\n",
      "rootdir: /Users/ch/repos/astronomy_workflow/docs/notebooks/2.0-testing\n",
      "plugins: anyio-2.2.0\n",
      "collected 2 items                                                              \u001b[0m\n",
      "\n",
      "test_func.py \u001b[32m.\u001b[0m\u001b[32m.\u001b[0m\u001b[32m                                                          [100%]\u001b[0m\n",
      "\n",
      "\u001b[32m============================== \u001b[32m\u001b[1m2 passed\u001b[0m\u001b[32m in 0.08s\u001b[0m\u001b[32m ===============================\u001b[0m\n"
     ]
    }
   ],
   "source": [
    "! pytest test_func.py"
   ]
  },
  {
   "cell_type": "markdown",
   "id": "7806ddf6",
   "metadata": {},
   "source": [
    "Now we've told pytest that if you pass a `string` to `func`, it should raise a TypeError. \n",
    "\n",
    "We can write more elaborate tests for more functions, but this should be enough to get you started. Once you've finished building tests, if you have your code archived on GitHub, you can set up actions to automatically run these tests and check your code is always passing!"
   ]
  }
 ],
 "metadata": {
  "kernelspec": {
   "display_name": "Python 3",
   "language": "python",
   "name": "python3"
  },
  "language_info": {
   "codemirror_mode": {
    "name": "ipython",
    "version": 3
   },
   "file_extension": ".py",
   "mimetype": "text/x-python",
   "name": "python",
   "nbconvert_exporter": "python",
   "pygments_lexer": "ipython3",
   "version": "3.8.7"
  }
 },
 "nbformat": 4,
 "nbformat_minor": 5
}
