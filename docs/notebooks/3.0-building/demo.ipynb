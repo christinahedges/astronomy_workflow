{
 "cells": [
  {
   "cell_type": "markdown",
   "id": "c849818c",
   "metadata": {},
   "source": [
    "# Demonstration: How to use these tools\n",
    "\n",
    "Just like in the previous section, we'll try making a demo. We're still going to be using a notebook, and usually you'd do some of these commands in a terminal, but it'll work for our purposes. You might also want to check out the next section which bundles these commands into a Makefile. \n",
    "\n",
    "(**Note because we're executing this in a notebook, sometimes we need to use the '!' symbol to execute shell commands.**)"
   ]
  },
  {
   "cell_type": "code",
   "execution_count": 1,
   "id": "1d2d6ab0",
   "metadata": {},
   "outputs": [],
   "source": [
    "# Note I'm loading the autoreload extension so that we can load functions from two git branches\n",
    "%load_ext autoreload\n",
    "%autoreload 2"
   ]
  },
  {
   "cell_type": "code",
   "execution_count": 2,
   "id": "7d545944",
   "metadata": {},
   "outputs": [],
   "source": [
    "mkdir demo"
   ]
  },
  {
   "cell_type": "code",
   "execution_count": 3,
   "id": "960ce93f",
   "metadata": {},
   "outputs": [
    {
     "name": "stdout",
     "output_type": "stream",
     "text": [
      "/Users/ch/HST/repos/astronomy_workflow/docs/notebooks/3.0-building/demo\n"
     ]
    }
   ],
   "source": [
    "cd demo"
   ]
  },
  {
   "cell_type": "markdown",
   "id": "978f5b92",
   "metadata": {},
   "source": [
    "Let's look at the python versions I have installed"
   ]
  },
  {
   "cell_type": "code",
   "execution_count": 6,
   "id": "74ae2b16",
   "metadata": {},
   "outputs": [
    {
     "name": "stdout",
     "output_type": "stream",
     "text": [
      "* system (set by /Users/ch/.pyenv/version)\n",
      "  3.7.9\n",
      "  3.8.0\n",
      "  3.8.0/envs/mappers\n",
      "  3.8.0/envs/ombre\n",
      "  3.8.7\n",
      "  mappers\n",
      "  ombre\n"
     ]
    }
   ],
   "source": [
    "! pyenv versions"
   ]
  },
  {
   "cell_type": "markdown",
   "id": "727d4dad",
   "metadata": {},
   "source": [
    "I have a few, and I have some special virtual environments with names. I think we'll use the 3.8.0 python version for this project. Let's make a virtual environment and call it `demo`"
   ]
  },
  {
   "cell_type": "code",
   "execution_count": 10,
   "id": "e073a982",
   "metadata": {},
   "outputs": [
    {
     "name": "stdout",
     "output_type": "stream",
     "text": [
      "Looking in links: /var/folders/yn/f2r51bxd7pj58243x2y_c6340000gn/T/tmpmuz1wv5b\n",
      "Requirement already satisfied: setuptools in /Users/ch/.pyenv/versions/3.8.0/envs/demo/lib/python3.8/site-packages (41.2.0)\n",
      "Requirement already satisfied: pip in /Users/ch/.pyenv/versions/3.8.0/envs/demo/lib/python3.8/site-packages (19.2.3)\n"
     ]
    }
   ],
   "source": [
    "! pyenv virtualenv 3.8.0 demo"
   ]
  },
  {
   "cell_type": "code",
   "execution_count": 11,
   "id": "51bb1af6",
   "metadata": {},
   "outputs": [
    {
     "name": "stdout",
     "output_type": "stream",
     "text": [
      "* system (set by /Users/ch/.pyenv/version)\n",
      "  3.7.9\n",
      "  3.8.0\n",
      "  3.8.0/envs/demo\n",
      "  3.8.0/envs/mappers\n",
      "  3.8.0/envs/ombre\n",
      "  3.8.7\n",
      "  demo\n",
      "  mappers\n",
      "  ombre\n"
     ]
    }
   ],
   "source": [
    "! pyenv versions"
   ]
  },
  {
   "cell_type": "markdown",
   "id": "e1e105e6",
   "metadata": {},
   "source": [
    "Great, demo is now listed in my versions. Let's set the local version to `demo`"
   ]
  },
  {
   "cell_type": "code",
   "execution_count": 18,
   "id": "7166e1af",
   "metadata": {},
   "outputs": [],
   "source": [
    "! pyenv local demo"
   ]
  },
  {
   "cell_type": "code",
   "execution_count": 26,
   "id": "759fa8a1",
   "metadata": {},
   "outputs": [
    {
     "name": "stdout",
     "output_type": "stream",
     "text": [
      "demo (set by /Users/ch/HST/repos/astronomy_workflow/docs/notebooks/3.0-building/demo/.python-version)\n"
     ]
    }
   ],
   "source": [
    "! pyenv version"
   ]
  },
  {
   "cell_type": "code",
   "execution_count": 31,
   "id": "57181814",
   "metadata": {},
   "outputs": [
    {
     "name": "stdout",
     "output_type": "stream",
     "text": [
      "/Users/ch/.pyenv/versions/demo/bin/pip\n"
     ]
    }
   ],
   "source": [
    "! pyenv which pip"
   ]
  },
  {
   "cell_type": "markdown",
   "id": "c6b07e97",
   "metadata": {},
   "source": [
    "This is a new virtual environment, so we won't have anything installed, let's install poetry"
   ]
  },
  {
   "cell_type": "code",
   "execution_count": 33,
   "id": "f0f98353",
   "metadata": {},
   "outputs": [
    {
     "name": "stdout",
     "output_type": "stream",
     "text": [
      "Collecting poetry\n",
      "  Downloading poetry-1.1.6-py2.py3-none-any.whl (172 kB)\n",
      "\u001b[K     |████████████████████████████████| 172 kB 611 kB/s eta 0:00:01\n",
      "\u001b[?25hRequirement already satisfied: pip in /Users/ch/miniconda3/lib/python3.6/site-packages (21.1.2)\n",
      "Requirement already satisfied: packaging<21.0,>=20.4 in /Users/ch/miniconda3/lib/python3.6/site-packages (from poetry) (20.9)\n",
      "Collecting poetry-core<1.1.0,>=1.0.3\n",
      "  Using cached poetry_core-1.0.3-py2.py3-none-any.whl (424 kB)\n",
      "Collecting virtualenv<21.0.0,>=20.0.26\n",
      "  Downloading virtualenv-20.4.7-py2.py3-none-any.whl (7.2 MB)\n",
      "\u001b[K     |████████████████████████████████| 7.2 MB 808 kB/s eta 0:00:01\n",
      "\u001b[?25hCollecting importlib-metadata<2.0.0,>=1.6.0\n",
      "  Using cached importlib_metadata-1.7.0-py2.py3-none-any.whl (31 kB)\n",
      "Collecting pexpect<5.0.0,>=4.7.0\n",
      "  Using cached pexpect-4.8.0-py2.py3-none-any.whl (59 kB)\n",
      "Collecting clikit<0.7.0,>=0.6.2\n",
      "  Downloading clikit-0.6.2-py2.py3-none-any.whl (91 kB)\n",
      "\u001b[K     |████████████████████████████████| 91 kB 1.0 MB/s eta 0:00:01\n",
      "\u001b[?25hRequirement already satisfied: pkginfo<2.0,>=1.4 in /Users/ch/miniconda3/lib/python3.6/site-packages (from poetry) (1.4.2)\n",
      "Collecting crashtest<0.4.0,>=0.3.0\n",
      "  Downloading crashtest-0.3.1-py3-none-any.whl (7.0 kB)\n",
      "Collecting keyring<22.0.0,>=21.2.0\n",
      "  Downloading keyring-21.8.0-py3-none-any.whl (32 kB)\n",
      "Collecting requests-toolbelt<0.10.0,>=0.9.1\n",
      "  Downloading requests_toolbelt-0.9.1-py2.py3-none-any.whl (54 kB)\n",
      "\u001b[K     |████████████████████████████████| 54 kB 1.3 MB/s eta 0:00:01\n",
      "\u001b[?25hCollecting shellingham<2.0,>=1.1\n",
      "  Downloading shellingham-1.4.0-py2.py3-none-any.whl (9.4 kB)\n",
      "Collecting tomlkit<1.0.0,>=0.7.0\n",
      "  Downloading tomlkit-0.7.2-py2.py3-none-any.whl (32 kB)\n",
      "Collecting cleo<0.9.0,>=0.8.1\n",
      "  Downloading cleo-0.8.1-py2.py3-none-any.whl (21 kB)\n",
      "Collecting cachy<0.4.0,>=0.3.0\n",
      "  Downloading cachy-0.3.0-py2.py3-none-any.whl (20 kB)\n",
      "Requirement already satisfied: html5lib<2.0,>=1.0 in /Users/ch/miniconda3/lib/python3.6/site-packages (from poetry) (1.0.1)\n",
      "Collecting cachecontrol[filecache]<0.13.0,>=0.12.4\n",
      "  Downloading CacheControl-0.12.6-py2.py3-none-any.whl (19 kB)\n",
      "Requirement already satisfied: requests<3.0,>=2.18 in /Users/ch/miniconda3/lib/python3.6/site-packages (from poetry) (2.25.1)\n",
      "Requirement already satisfied: msgpack>=0.5.2 in /Users/ch/miniconda3/lib/python3.6/site-packages (from cachecontrol[filecache]<0.13.0,>=0.12.4->poetry) (1.0.0)\n",
      "Collecting lockfile>=0.9\n",
      "  Downloading lockfile-0.12.2-py2.py3-none-any.whl (13 kB)\n",
      "Collecting pastel<0.3.0,>=0.2.0\n",
      "  Downloading pastel-0.2.1-py2.py3-none-any.whl (6.0 kB)\n",
      "Collecting pylev<2.0,>=1.3\n",
      "  Downloading pylev-1.4.0-py2.py3-none-any.whl (6.1 kB)\n",
      "Requirement already satisfied: webencodings in /Users/ch/miniconda3/lib/python3.6/site-packages (from html5lib<2.0,>=1.0->poetry) (0.5.1)\n",
      "Requirement already satisfied: six>=1.9 in /Users/ch/miniconda3/lib/python3.6/site-packages (from html5lib<2.0,>=1.0->poetry) (1.15.0)\n",
      "Requirement already satisfied: zipp>=0.5 in /Users/ch/miniconda3/lib/python3.6/site-packages (from importlib-metadata<2.0.0,>=1.6.0->poetry) (3.4.0)\n",
      "Requirement already satisfied: pyparsing>=2.0.2 in /Users/ch/miniconda3/lib/python3.6/site-packages (from packaging<21.0,>=20.4->poetry) (2.2.0)\n",
      "Requirement already satisfied: ptyprocess>=0.5 in /Users/ch/miniconda3/lib/python3.6/site-packages (from pexpect<5.0.0,>=4.7.0->poetry) (0.5.2)\n",
      "Requirement already satisfied: certifi>=2017.4.17 in /Users/ch/miniconda3/lib/python3.6/site-packages (from requests<3.0,>=2.18->poetry) (2020.11.8)\n",
      "Requirement already satisfied: chardet<5,>=3.0.2 in /Users/ch/miniconda3/lib/python3.6/site-packages (from requests<3.0,>=2.18->poetry) (3.0.4)\n",
      "Requirement already satisfied: idna<3,>=2.5 in /Users/ch/miniconda3/lib/python3.6/site-packages (from requests<3.0,>=2.18->poetry) (2.10)\n",
      "Requirement already satisfied: urllib3<1.27,>=1.21.1 in /Users/ch/miniconda3/lib/python3.6/site-packages (from requests<3.0,>=2.18->poetry) (1.22)\n",
      "Collecting importlib-resources>=1.0\n",
      "  Downloading importlib_resources-5.1.4-py3-none-any.whl (26 kB)\n",
      "Requirement already satisfied: filelock<4,>=3.0.0 in /Users/ch/miniconda3/lib/python3.6/site-packages (from virtualenv<21.0.0,>=20.0.26->poetry) (3.0.12)\n",
      "Requirement already satisfied: appdirs<2,>=1.4.3 in /Users/ch/miniconda3/lib/python3.6/site-packages (from virtualenv<21.0.0,>=20.0.26->poetry) (1.4.3)\n",
      "Collecting distlib<1,>=0.3.1\n",
      "  Downloading distlib-0.3.2-py2.py3-none-any.whl (338 kB)\n",
      "\u001b[K     |████████████████████████████████| 338 kB 1.0 MB/s eta 0:00:01\n",
      "\u001b[?25hInstalling collected packages: pylev, pastel, crashtest, lockfile, importlib-resources, importlib-metadata, distlib, clikit, cachecontrol, virtualenv, tomlkit, shellingham, requests-toolbelt, poetry-core, pexpect, keyring, cleo, cachy, poetry\n",
      "  Attempting uninstall: importlib-metadata\n",
      "    Found existing installation: importlib-metadata 4.5.0\n",
      "    Uninstalling importlib-metadata-4.5.0:\n",
      "      Successfully uninstalled importlib-metadata-4.5.0\n",
      "  Attempting uninstall: virtualenv\n",
      "    Found existing installation: virtualenv 15.1.0\n",
      "    Uninstalling virtualenv-15.1.0:\n",
      "      Successfully uninstalled virtualenv-15.1.0\n",
      "  Attempting uninstall: requests-toolbelt\n",
      "    Found existing installation: requests-toolbelt 0.8.0\n",
      "    Uninstalling requests-toolbelt-0.8.0:\n",
      "      Successfully uninstalled requests-toolbelt-0.8.0\n",
      "  Attempting uninstall: pexpect\n",
      "    Found existing installation: pexpect 4.4.0\n",
      "\u001b[31mERROR: Cannot uninstall 'pexpect'. It is a distutils installed project and thus we cannot accurately determine which files belong to it which would lead to only a partial uninstall.\u001b[0m\n"
     ]
    }
   ],
   "source": [
    "! pip install -U poetry pip;"
   ]
  },
  {
   "cell_type": "markdown",
   "id": "d79f62f6",
   "metadata": {},
   "source": [
    "Beautiful. Now we can initialize a new poetry project called `demo` with the `new` command. We use `--src` because that makes the directory structure that I personally like."
   ]
  },
  {
   "cell_type": "code",
   "execution_count": 35,
   "id": "cfcaf769",
   "metadata": {},
   "outputs": [
    {
     "name": "stdout",
     "output_type": "stream",
     "text": [
      "Created package \u001b[34mdemo\u001b[0m in \u001b[34mdemo\u001b[0m\n"
     ]
    }
   ],
   "source": [
    "! poetry new --src demo"
   ]
  },
  {
   "cell_type": "code",
   "execution_count": 38,
   "id": "46cd74af",
   "metadata": {},
   "outputs": [
    {
     "name": "stdout",
     "output_type": "stream",
     "text": [
      "/Users/ch/HST/repos/astronomy_workflow/docs/notebooks/3.0-building/demo/demo\n"
     ]
    }
   ],
   "source": [
    "cd demo"
   ]
  },
  {
   "cell_type": "code",
   "execution_count": 39,
   "id": "f683eaf3",
   "metadata": {},
   "outputs": [
    {
     "name": "stdout",
     "output_type": "stream",
     "text": [
      "README.rst      pyproject.toml  \u001b[34msrc\u001b[m\u001b[m/            \u001b[34mtests\u001b[m\u001b[m/\n"
     ]
    }
   ],
   "source": [
    "ls"
   ]
  },
  {
   "cell_type": "markdown",
   "id": "fa9bf855",
   "metadata": {},
   "source": [
    "Now we can see that poetry has made a README, a pyproject.toml file, and a directory for tests and code. Let's add some development dependencies."
   ]
  },
  {
   "cell_type": "code",
   "execution_count": null,
   "id": "2ffe0ac1",
   "metadata": {},
   "outputs": [],
   "source": []
  }
 ],
 "metadata": {
  "kernelspec": {
   "display_name": "Python 3",
   "language": "python",
   "name": "python3"
  },
  "language_info": {
   "codemirror_mode": {
    "name": "ipython",
    "version": 3
   },
   "file_extension": ".py",
   "mimetype": "text/x-python",
   "name": "python",
   "nbconvert_exporter": "python",
   "pygments_lexer": "ipython3",
   "version": "3.6.7"
  }
 },
 "nbformat": 4,
 "nbformat_minor": 5
}
