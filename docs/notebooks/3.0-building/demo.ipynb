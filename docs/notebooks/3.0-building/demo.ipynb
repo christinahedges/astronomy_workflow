{
 "cells": [
  {
   "cell_type": "markdown",
   "id": "c849818c",
   "metadata": {},
   "source": [
    "# Demonstration: How to use these tools\n",
    "\n",
    "Just like in the previous section, we'll try making a demo. We're still going to be using a notebook, and usually you'd do some of these commands in a terminal, but it'll work for our purposes. You might also want to check out the next section which bundles these commands into a Makefile. \n",
    "\n",
    "(**Note because we're executing this in a notebook, sometimes we need to use the '!' symbol to execute shell commands.**)"
   ]
  },
  {
   "cell_type": "code",
   "execution_count": 1,
   "id": "1d2d6ab0",
   "metadata": {},
   "outputs": [],
   "source": [
    "# Note I'm loading the autoreload extension so that we can load functions from two git branches\n",
    "%load_ext autoreload\n",
    "%autoreload 2"
   ]
  },
  {
   "cell_type": "code",
   "execution_count": 2,
   "id": "7d545944",
   "metadata": {},
   "outputs": [],
   "source": [
    "mkdir demo"
   ]
  },
  {
   "cell_type": "code",
   "execution_count": 3,
   "id": "960ce93f",
   "metadata": {},
   "outputs": [
    {
     "name": "stdout",
     "output_type": "stream",
     "text": [
      "/Users/ch/repos/astronomy_workflow/docs/notebooks/3.0-building/demo\n"
     ]
    }
   ],
   "source": [
    "cd demo"
   ]
  },
  {
   "cell_type": "markdown",
   "id": "978f5b92",
   "metadata": {},
   "source": [
    "Let's look at the python versions I have installed"
   ]
  },
  {
   "cell_type": "code",
   "execution_count": 4,
   "id": "74ae2b16",
   "metadata": {},
   "outputs": [
    {
     "name": "stdout",
     "output_type": "stream",
     "text": [
      "  system\n",
      "* 3.8.7 (set by PYENV_VERSION environment variable)\n",
      "  3.8.7/envs/tess-asteroids\n",
      "  3.9.1\n",
      "  3.9.1/envs/tess-backdrop\n",
      "  tess-asteroids\n",
      "  tess-backdrop\n"
     ]
    }
   ],
   "source": [
    "! pyenv versions"
   ]
  },
  {
   "cell_type": "markdown",
   "id": "727d4dad",
   "metadata": {},
   "source": [
    "I have a few, and I have some special virtual environments with names. I think we'll use the 3.8.0 python version for this project. Let's make a virtual environment and call it `demo`"
   ]
  },
  {
   "cell_type": "code",
   "execution_count": 7,
   "id": "e073a982",
   "metadata": {},
   "outputs": [
    {
     "name": "stdout",
     "output_type": "stream",
     "text": [
      "created virtual environment CPython3.8.7.final.0-64 in 313ms\n",
      "  creator CPython3Posix(dest=/Users/ch/.pyenv/versions/3.8.7/envs/demo, clear=False, no_vcs_ignore=False, global=False)\n",
      "  seeder FromAppData(download=False, pip=bundle, setuptools=bundle, wheel=bundle, via=copy, app_data_dir=/Users/ch/Library/Application Support/virtualenv)\n",
      "    added seed packages: pip==21.0.1, setuptools==56.2.0, wheel==0.36.2\n",
      "  activators BashActivator,CShellActivator,FishActivator,PowerShellActivator,PythonActivator,XonshActivator\n",
      "Looking in links: /var/folders/pz/0x8sm5hj44q6gx0qg_6n00xw0000gn/T/tmpyjn36ke2\n",
      "Requirement already satisfied: setuptools in /Users/ch/.pyenv/versions/3.8.7/envs/demo/lib/python3.8/site-packages (56.2.0)\n",
      "Requirement already satisfied: pip in /Users/ch/.pyenv/versions/3.8.7/envs/demo/lib/python3.8/site-packages (21.0.1)\n"
     ]
    }
   ],
   "source": [
    "! pyenv virtualenv 3.8.7 demo"
   ]
  },
  {
   "cell_type": "code",
   "execution_count": 8,
   "id": "51bb1af6",
   "metadata": {},
   "outputs": [
    {
     "name": "stdout",
     "output_type": "stream",
     "text": [
      "  system\n",
      "* 3.8.7 (set by PYENV_VERSION environment variable)\n",
      "  3.8.7/envs/demo\n",
      "  3.8.7/envs/tess-asteroids\n",
      "  3.9.1\n",
      "  3.9.1/envs/tess-backdrop\n",
      "  demo\n",
      "  tess-asteroids\n",
      "  tess-backdrop\n"
     ]
    }
   ],
   "source": [
    "! pyenv versions"
   ]
  },
  {
   "cell_type": "markdown",
   "id": "e1e105e6",
   "metadata": {},
   "source": [
    "Great, demo is now listed in my versions. Let's set the local version to `demo`"
   ]
  },
  {
   "cell_type": "code",
   "execution_count": 9,
   "id": "7166e1af",
   "metadata": {},
   "outputs": [],
   "source": [
    "! pyenv local demo"
   ]
  },
  {
   "cell_type": "code",
   "execution_count": 10,
   "id": "759fa8a1",
   "metadata": {},
   "outputs": [
    {
     "name": "stdout",
     "output_type": "stream",
     "text": [
      "3.8.7 (set by PYENV_VERSION environment variable)\r\n"
     ]
    }
   ],
   "source": [
    "! pyenv version"
   ]
  },
  {
   "cell_type": "code",
   "execution_count": 11,
   "id": "57181814",
   "metadata": {},
   "outputs": [
    {
     "name": "stdout",
     "output_type": "stream",
     "text": [
      "/Users/ch/.pyenv/versions/3.8.7/bin/pip\r\n"
     ]
    }
   ],
   "source": [
    "! pyenv which pip"
   ]
  },
  {
   "cell_type": "markdown",
   "id": "c6b07e97",
   "metadata": {},
   "source": [
    "This is a new virtual environment, so we won't have anything installed, let's install poetry"
   ]
  },
  {
   "cell_type": "code",
   "execution_count": 12,
   "id": "f0f98353",
   "metadata": {},
   "outputs": [
    {
     "name": "stdout",
     "output_type": "stream",
     "text": [
      "Requirement already satisfied: poetry in /Users/ch/.pyenv/versions/3.8.7/lib/python3.8/site-packages (1.1.6)\n",
      "Requirement already satisfied: pip in /Users/ch/.pyenv/versions/3.8.7/lib/python3.8/site-packages (21.1.2)\n",
      "Requirement already satisfied: requests-toolbelt<0.10.0,>=0.9.1 in /Users/ch/.pyenv/versions/3.8.7/lib/python3.8/site-packages (from poetry) (0.9.1)\n",
      "Requirement already satisfied: shellingham<2.0,>=1.1 in /Users/ch/.pyenv/versions/3.8.7/lib/python3.8/site-packages (from poetry) (1.4.0)\n",
      "Requirement already satisfied: tomlkit<1.0.0,>=0.7.0 in /Users/ch/.pyenv/versions/3.8.7/lib/python3.8/site-packages (from poetry) (0.7.0)\n",
      "Requirement already satisfied: pexpect<5.0.0,>=4.7.0 in /Users/ch/.pyenv/versions/3.8.7/lib/python3.8/site-packages (from poetry) (4.8.0)\n",
      "Requirement already satisfied: cleo<0.9.0,>=0.8.1 in /Users/ch/.pyenv/versions/3.8.7/lib/python3.8/site-packages (from poetry) (0.8.1)\n",
      "Requirement already satisfied: cachecontrol[filecache]<0.13.0,>=0.12.4 in /Users/ch/.pyenv/versions/3.8.7/lib/python3.8/site-packages (from poetry) (0.12.6)\n",
      "Requirement already satisfied: requests<3.0,>=2.18 in /Users/ch/.pyenv/versions/3.8.7/lib/python3.8/site-packages (from poetry) (2.25.1)\n",
      "Requirement already satisfied: pkginfo<2.0,>=1.4 in /Users/ch/.pyenv/versions/3.8.7/lib/python3.8/site-packages (from poetry) (1.7.0)\n",
      "Requirement already satisfied: crashtest<0.4.0,>=0.3.0 in /Users/ch/.pyenv/versions/3.8.7/lib/python3.8/site-packages (from poetry) (0.3.1)\n",
      "Requirement already satisfied: poetry-core<1.1.0,>=1.0.3 in /Users/ch/.pyenv/versions/3.8.7/lib/python3.8/site-packages (from poetry) (1.0.3)\n",
      "Requirement already satisfied: packaging<21.0,>=20.4 in /Users/ch/.pyenv/versions/3.8.7/lib/python3.8/site-packages (from poetry) (20.9)\n",
      "Requirement already satisfied: virtualenv<21.0.0,>=20.0.26 in /Users/ch/.pyenv/versions/3.8.7/lib/python3.8/site-packages (from poetry) (20.4.4)\n",
      "Requirement already satisfied: clikit<0.7.0,>=0.6.2 in /Users/ch/.pyenv/versions/3.8.7/lib/python3.8/site-packages (from poetry) (0.6.2)\n",
      "Requirement already satisfied: html5lib<2.0,>=1.0 in /Users/ch/.pyenv/versions/3.8.7/lib/python3.8/site-packages (from poetry) (1.1)\n",
      "Requirement already satisfied: cachy<0.4.0,>=0.3.0 in /Users/ch/.pyenv/versions/3.8.7/lib/python3.8/site-packages (from poetry) (0.3.0)\n",
      "Requirement already satisfied: keyring<22.0.0,>=21.2.0 in /Users/ch/.pyenv/versions/3.8.7/lib/python3.8/site-packages (from poetry) (21.8.0)\n",
      "Requirement already satisfied: msgpack>=0.5.2 in /Users/ch/.pyenv/versions/3.8.7/lib/python3.8/site-packages (from cachecontrol[filecache]<0.13.0,>=0.12.4->poetry) (1.0.2)\n",
      "Requirement already satisfied: lockfile>=0.9 in /Users/ch/.pyenv/versions/3.8.7/lib/python3.8/site-packages (from cachecontrol[filecache]<0.13.0,>=0.12.4->poetry) (0.12.2)\n",
      "Requirement already satisfied: pastel<0.3.0,>=0.2.0 in /Users/ch/.pyenv/versions/3.8.7/lib/python3.8/site-packages (from clikit<0.7.0,>=0.6.2->poetry) (0.2.1)\n",
      "Requirement already satisfied: pylev<2.0,>=1.3 in /Users/ch/.pyenv/versions/3.8.7/lib/python3.8/site-packages (from clikit<0.7.0,>=0.6.2->poetry) (1.3.0)\n",
      "Requirement already satisfied: six>=1.9 in /Users/ch/.pyenv/versions/3.8.7/lib/python3.8/site-packages (from html5lib<2.0,>=1.0->poetry) (1.15.0)\n",
      "Requirement already satisfied: webencodings in /Users/ch/.pyenv/versions/3.8.7/lib/python3.8/site-packages (from html5lib<2.0,>=1.0->poetry) (0.5.1)\n",
      "Requirement already satisfied: pyparsing>=2.0.2 in /Users/ch/.pyenv/versions/3.8.7/lib/python3.8/site-packages (from packaging<21.0,>=20.4->poetry) (2.4.7)\n",
      "Requirement already satisfied: ptyprocess>=0.5 in /Users/ch/.pyenv/versions/3.8.7/lib/python3.8/site-packages (from pexpect<5.0.0,>=4.7.0->poetry) (0.7.0)\n",
      "Requirement already satisfied: urllib3<1.27,>=1.21.1 in /Users/ch/.pyenv/versions/3.8.7/lib/python3.8/site-packages (from requests<3.0,>=2.18->poetry) (1.26.4)\n",
      "Requirement already satisfied: certifi>=2017.4.17 in /Users/ch/.pyenv/versions/3.8.7/lib/python3.8/site-packages (from requests<3.0,>=2.18->poetry) (2020.12.5)\n",
      "Requirement already satisfied: idna<3,>=2.5 in /Users/ch/.pyenv/versions/3.8.7/lib/python3.8/site-packages (from requests<3.0,>=2.18->poetry) (2.10)\n",
      "Requirement already satisfied: chardet<5,>=3.0.2 in /Users/ch/.pyenv/versions/3.8.7/lib/python3.8/site-packages (from requests<3.0,>=2.18->poetry) (4.0.0)\n",
      "Requirement already satisfied: filelock<4,>=3.0.0 in /Users/ch/.pyenv/versions/3.8.7/lib/python3.8/site-packages (from virtualenv<21.0.0,>=20.0.26->poetry) (3.0.12)\n",
      "Requirement already satisfied: distlib<1,>=0.3.1 in /Users/ch/.pyenv/versions/3.8.7/lib/python3.8/site-packages (from virtualenv<21.0.0,>=20.0.26->poetry) (0.3.1)\n",
      "Requirement already satisfied: appdirs<2,>=1.4.3 in /Users/ch/.pyenv/versions/3.8.7/lib/python3.8/site-packages (from virtualenv<21.0.0,>=20.0.26->poetry) (1.4.4)\n"
     ]
    }
   ],
   "source": [
    "! pip install -U poetry pip;"
   ]
  },
  {
   "cell_type": "markdown",
   "id": "d79f62f6",
   "metadata": {},
   "source": [
    "Beautiful. Now we can initialize a new poetry project called `demo` with the `new` command. We use `--src` because that makes the directory structure that I personally like."
   ]
  },
  {
   "cell_type": "code",
   "execution_count": 13,
   "id": "cfcaf769",
   "metadata": {},
   "outputs": [
    {
     "name": "stdout",
     "output_type": "stream",
     "text": [
      "Created package \u001b[34mdemo\u001b[0m in \u001b[34mdemo\u001b[0m\r\n"
     ]
    }
   ],
   "source": [
    "! poetry new --src demo"
   ]
  },
  {
   "cell_type": "code",
   "execution_count": 14,
   "id": "46cd74af",
   "metadata": {},
   "outputs": [
    {
     "name": "stdout",
     "output_type": "stream",
     "text": [
      "/Users/ch/repos/astronomy_workflow/docs/notebooks/3.0-building/demo/demo\n"
     ]
    }
   ],
   "source": [
    "cd demo"
   ]
  },
  {
   "cell_type": "code",
   "execution_count": 15,
   "id": "f683eaf3",
   "metadata": {},
   "outputs": [
    {
     "name": "stdout",
     "output_type": "stream",
     "text": [
      "README.rst      pyproject.toml  \u001b[34msrc\u001b[m\u001b[m/            \u001b[34mtests\u001b[m\u001b[m/\r\n"
     ]
    }
   ],
   "source": [
    "ls"
   ]
  },
  {
   "cell_type": "markdown",
   "id": "fa9bf855",
   "metadata": {},
   "source": [
    "Now we can see that poetry has made a README, a pyproject.toml file, and a directory for tests and code. Let's add some dependencies."
   ]
  },
  {
   "cell_type": "code",
   "execution_count": 18,
   "id": "3f109dff",
   "metadata": {
    "scrolled": true
   },
   "outputs": [
    {
     "name": "stdout",
     "output_type": "stream",
     "text": [
      "Using version \u001b[1m^1.20.3\u001b[0m for \u001b[36mnumpy\u001b[0m\n",
      "\n",
      "\u001b[34mUpdating dependencies\u001b[0m\n",
      "\u001b[2K\u001b[34mResolving dependencies...\u001b[0m \u001b[39;2m(0.2s)\u001b[0m\n",
      "\n",
      "\u001b[34mWriting lock file\u001b[0m\n",
      "\n",
      "\u001b[1mPackage operations\u001b[0m: \u001b[34m1\u001b[0m install, \u001b[34m0\u001b[0m updates, \u001b[34m0\u001b[0m removals\n",
      "\n",
      "  \u001b[34;1m•\u001b[0m \u001b[39mInstalling \u001b[0m\u001b[36mnumpy\u001b[0m\u001b[39m (\u001b[0m\u001b[39;1m1.20.3\u001b[0m\u001b[39m)\u001b[0m: \u001b[34mPending...\u001b[0m\n",
      "\u001b[1A\u001b[0J  \u001b[34;1m•\u001b[0m \u001b[39mInstalling \u001b[0m\u001b[36mnumpy\u001b[0m\u001b[39m (\u001b[0m\u001b[39;1m1.20.3\u001b[0m\u001b[39m)\u001b[0m: \u001b[34mInstalling...\u001b[0m\n",
      "\u001b[1A\u001b[0J  \u001b[32;1m•\u001b[0m \u001b[39mInstalling \u001b[0m\u001b[36mnumpy\u001b[0m\u001b[39m (\u001b[0m\u001b[32m1.20.3\u001b[0m\u001b[39m)\u001b[0m\n"
     ]
    }
   ],
   "source": [
    "! poetry add numpy"
   ]
  },
  {
   "cell_type": "markdown",
   "id": "11ed0d4e",
   "metadata": {},
   "source": [
    "This looks great, we've installed `numpy` as a dependency of our tool. If we like, we can also install development dependencies. "
   ]
  },
  {
   "cell_type": "code",
   "execution_count": 17,
   "id": "2ffe0ac1",
   "metadata": {},
   "outputs": [
    {
     "name": "stdout",
     "output_type": "stream",
     "text": [
      "The following packages are already present in the pyproject.toml and will be skipped:\r\n",
      "\r\n",
      "  • \u001b[36mjupyterlab\u001b[0m\r\n",
      "\r\n",
      "If you want to update it to the latest compatible version, you can use `poetry update package`.\r\n",
      "If you prefer to upgrade it to the latest available version, you can use `poetry add package@latest`.\r\n",
      "\r\n",
      "Nothing to add.\r\n"
     ]
    }
   ],
   "source": [
    "# I've run this twice, the output is very long!\n",
    "! poetry add -D jupyterlab"
   ]
  },
  {
   "cell_type": "markdown",
   "id": "56bc0285",
   "metadata": {},
   "source": [
    "Note that adding in the `-D` flag makes sure we're only adding this tool in development mode. We don't want users to be forced to add `jupyterlab` just to install our tool! If we want to use the `mkdocs` tool to make our docs, we might also want to install `mkdocs` as a development dependency."
   ]
  },
  {
   "cell_type": "code",
   "execution_count": 20,
   "id": "b4446ac4",
   "metadata": {},
   "outputs": [
    {
     "name": "stdout",
     "output_type": "stream",
     "text": [
      "Using version \u001b[1m^1.2.1\u001b[0m for \u001b[36mmkdocs\u001b[0m\n",
      "Using version \u001b[1m^0.15.2\u001b[0m for \u001b[36mmkdocstrings\u001b[0m\n",
      "Using version \u001b[1m^7.1.8\u001b[0m for \u001b[36mmkdocs-material\u001b[0m\n",
      "\n",
      "\u001b[34mUpdating dependencies\u001b[0m\n",
      "\u001b[2K\u001b[34mResolving dependencies...\u001b[0m \u001b[39;2m(2.5s)\u001b[0m\u001b[34mResolving dependencies...\u001b[0m \u001b[39;2m(0.8s)\u001b[0m\u001b[34mResolving dependencies...\u001b[0m \u001b[39;2m(2.3s)\u001b[0m\n",
      "\n",
      "\u001b[34mWriting lock file\u001b[0m\n",
      "\n",
      "\u001b[1mPackage operations\u001b[0m: \u001b[34m15\u001b[0m installs, \u001b[34m0\u001b[0m updates, \u001b[34m0\u001b[0m removals\n",
      "\n",
      "  \u001b[34;1m•\u001b[0m \u001b[39mInstalling \u001b[0m\u001b[36mpyyaml\u001b[0m\u001b[39m (\u001b[0m\u001b[39;1m5.4.1\u001b[0m\u001b[39m)\u001b[0m: \u001b[34mPending...\u001b[0m\n",
      "  \u001b[34;1m•\u001b[0m \u001b[39mInstalling \u001b[0m\u001b[36mzipp\u001b[0m\u001b[39m (\u001b[0m\u001b[39;1m3.4.1\u001b[0m\u001b[39m)\u001b[0m: \u001b[34mPending...\u001b[0m\n",
      "\u001b[2A\u001b[0J  \u001b[34;1m•\u001b[0m \u001b[39mInstalling \u001b[0m\u001b[36mzipp\u001b[0m\u001b[39m (\u001b[0m\u001b[39;1m3.4.1\u001b[0m\u001b[39m)\u001b[0m: \u001b[34mPending...\u001b[0m\n",
      "\u001b[1A\u001b[0J  \u001b[34;1m•\u001b[0m \u001b[39mInstalling \u001b[0m\u001b[36mpyyaml\u001b[0m\u001b[39m (\u001b[0m\u001b[39;1m5.4.1\u001b[0m\u001b[39m)\u001b[0m: \u001b[34mInstalling...\u001b[0m\n",
      "  \u001b[34;1m•\u001b[0m \u001b[39mInstalling \u001b[0m\u001b[36mzipp\u001b[0m\u001b[39m (\u001b[0m\u001b[39;1m3.4.1\u001b[0m\u001b[39m)\u001b[0m: \u001b[34mPending...\u001b[0m\n",
      "\u001b[1A\u001b[0J  \u001b[34;1m•\u001b[0m \u001b[39mInstalling \u001b[0m\u001b[36mzipp\u001b[0m\u001b[39m (\u001b[0m\u001b[39;1m3.4.1\u001b[0m\u001b[39m)\u001b[0m: \u001b[34mInstalling...\u001b[0m\n",
      "\u001b[1A\u001b[0J  \u001b[32;1m•\u001b[0m \u001b[39mInstalling \u001b[0m\u001b[36mzipp\u001b[0m\u001b[39m (\u001b[0m\u001b[32m3.4.1\u001b[0m\u001b[39m)\u001b[0m\n",
      "\u001b[2A\u001b[0J  \u001b[32;1m•\u001b[0m \u001b[39mInstalling \u001b[0m\u001b[36mzipp\u001b[0m\u001b[39m (\u001b[0m\u001b[32m3.4.1\u001b[0m\u001b[39m)\u001b[0m\n",
      "\u001b[1A\u001b[0J  \u001b[32;1m•\u001b[0m \u001b[39mInstalling \u001b[0m\u001b[36mpyyaml\u001b[0m\u001b[39m (\u001b[0m\u001b[32m5.4.1\u001b[0m\u001b[39m)\u001b[0m\n",
      "  \u001b[32;1m•\u001b[0m \u001b[39mInstalling \u001b[0m\u001b[36mzipp\u001b[0m\u001b[39m (\u001b[0m\u001b[32m3.4.1\u001b[0m\u001b[39m)\u001b[0m\n",
      "  \u001b[34;1m•\u001b[0m \u001b[39mInstalling \u001b[0m\u001b[36mclick\u001b[0m\u001b[39m (\u001b[0m\u001b[39;1m8.0.1\u001b[0m\u001b[39m)\u001b[0m: \u001b[34mPending...\u001b[0m\n",
      "  \u001b[34;1m•\u001b[0m \u001b[39mInstalling \u001b[0m\u001b[36mghp-import\u001b[0m\u001b[39m (\u001b[0m\u001b[39;1m2.0.1\u001b[0m\u001b[39m)\u001b[0m: \u001b[34mPending...\u001b[0m\n",
      "  \u001b[34;1m•\u001b[0m \u001b[39mInstalling \u001b[0m\u001b[36mimportlib-metadata\u001b[0m\u001b[39m (\u001b[0m\u001b[39;1m4.5.0\u001b[0m\u001b[39m)\u001b[0m: \u001b[34mPending...\u001b[0m\n",
      "  \u001b[34;1m•\u001b[0m \u001b[39mInstalling \u001b[0m\u001b[36mmarkdown\u001b[0m\u001b[39m (\u001b[0m\u001b[39;1m3.3.4\u001b[0m\u001b[39m)\u001b[0m: \u001b[34mPending...\u001b[0m\n",
      "  \u001b[34;1m•\u001b[0m \u001b[39mInstalling \u001b[0m\u001b[36mmergedeep\u001b[0m\u001b[39m (\u001b[0m\u001b[39;1m1.3.4\u001b[0m\u001b[39m)\u001b[0m: \u001b[34mPending...\u001b[0m\n",
      "  \u001b[34;1m•\u001b[0m \u001b[39mInstalling \u001b[0m\u001b[36mpyyaml-env-tag\u001b[0m\u001b[39m (\u001b[0m\u001b[39;1m0.1\u001b[0m\u001b[39m)\u001b[0m: \u001b[34mPending...\u001b[0m\n",
      "  \u001b[34;1m•\u001b[0m \u001b[39mInstalling \u001b[0m\u001b[36mwatchdog\u001b[0m\u001b[39m (\u001b[0m\u001b[39;1m2.1.2\u001b[0m\u001b[39m)\u001b[0m: \u001b[34mPending...\u001b[0m\n",
      "\u001b[7A\u001b[0J  \u001b[34;1m•\u001b[0m \u001b[39mInstalling \u001b[0m\u001b[36mghp-import\u001b[0m\u001b[39m (\u001b[0m\u001b[39;1m2.0.1\u001b[0m\u001b[39m)\u001b[0m: \u001b[34mPending...\u001b[0m\n",
      "  \u001b[34;1m•\u001b[0m \u001b[39mInstalling \u001b[0m\u001b[36mimportlib-metadata\u001b[0m\u001b[39m (\u001b[0m\u001b[39;1m4.5.0\u001b[0m\u001b[39m)\u001b[0m: \u001b[34mPending...\u001b[0m\n",
      "  \u001b[34;1m•\u001b[0m \u001b[39mInstalling \u001b[0m\u001b[36mmarkdown\u001b[0m\u001b[39m (\u001b[0m\u001b[39;1m3.3.4\u001b[0m\u001b[39m)\u001b[0m: \u001b[34mPending...\u001b[0m\n",
      "  \u001b[34;1m•\u001b[0m \u001b[39mInstalling \u001b[0m\u001b[36mmergedeep\u001b[0m\u001b[39m (\u001b[0m\u001b[39;1m1.3.4\u001b[0m\u001b[39m)\u001b[0m: \u001b[34mPending...\u001b[0m\n",
      "  \u001b[34;1m•\u001b[0m \u001b[39mInstalling \u001b[0m\u001b[36mpyyaml-env-tag\u001b[0m\u001b[39m (\u001b[0m\u001b[39;1m0.1\u001b[0m\u001b[39m)\u001b[0m: \u001b[34mPending...\u001b[0m\n",
      "  \u001b[34;1m•\u001b[0m \u001b[39mInstalling \u001b[0m\u001b[36mwatchdog\u001b[0m\u001b[39m (\u001b[0m\u001b[39;1m2.1.2\u001b[0m\u001b[39m)\u001b[0m: \u001b[34mPending...\u001b[0m\n",
      "\u001b[6A\u001b[0J  \u001b[34;1m•\u001b[0m \u001b[39mInstalling \u001b[0m\u001b[36mclick\u001b[0m\u001b[39m (\u001b[0m\u001b[39;1m8.0.1\u001b[0m\u001b[39m)\u001b[0m: \u001b[34mInstalling...\u001b[0m\n",
      "  \u001b[34;1m•\u001b[0m \u001b[39mInstalling \u001b[0m\u001b[36mghp-import\u001b[0m\u001b[39m (\u001b[0m\u001b[39;1m2.0.1\u001b[0m\u001b[39m)\u001b[0m: \u001b[34mPending...\u001b[0m\n",
      "  \u001b[34;1m•\u001b[0m \u001b[39mInstalling \u001b[0m\u001b[36mimportlib-metadata\u001b[0m\u001b[39m (\u001b[0m\u001b[39;1m4.5.0\u001b[0m\u001b[39m)\u001b[0m: \u001b[34mPending...\u001b[0m\n",
      "  \u001b[34;1m•\u001b[0m \u001b[39mInstalling \u001b[0m\u001b[36mmarkdown\u001b[0m\u001b[39m (\u001b[0m\u001b[39;1m3.3.4\u001b[0m\u001b[39m)\u001b[0m: \u001b[34mPending...\u001b[0m\n",
      "  \u001b[34;1m•\u001b[0m \u001b[39mInstalling \u001b[0m\u001b[36mmergedeep\u001b[0m\u001b[39m (\u001b[0m\u001b[39;1m1.3.4\u001b[0m\u001b[39m)\u001b[0m: \u001b[34mPending...\u001b[0m\n",
      "  \u001b[34;1m•\u001b[0m \u001b[39mInstalling \u001b[0m\u001b[36mpyyaml-env-tag\u001b[0m\u001b[39m (\u001b[0m\u001b[39;1m0.1\u001b[0m\u001b[39m)\u001b[0m: \u001b[34mPending...\u001b[0m\n",
      "  \u001b[34;1m•\u001b[0m \u001b[39mInstalling \u001b[0m\u001b[36mwatchdog\u001b[0m\u001b[39m (\u001b[0m\u001b[39;1m2.1.2\u001b[0m\u001b[39m)\u001b[0m: \u001b[34mPending...\u001b[0m\n",
      "\u001b[6A\u001b[0J  \u001b[34;1m•\u001b[0m \u001b[39mInstalling \u001b[0m\u001b[36mimportlib-metadata\u001b[0m\u001b[39m (\u001b[0m\u001b[39;1m4.5.0\u001b[0m\u001b[39m)\u001b[0m: \u001b[34mPending...\u001b[0m\n",
      "  \u001b[34;1m•\u001b[0m \u001b[39mInstalling \u001b[0m\u001b[36mmarkdown\u001b[0m\u001b[39m (\u001b[0m\u001b[39;1m3.3.4\u001b[0m\u001b[39m)\u001b[0m: \u001b[34mPending...\u001b[0m\n",
      "  \u001b[34;1m•\u001b[0m \u001b[39mInstalling \u001b[0m\u001b[36mmergedeep\u001b[0m\u001b[39m (\u001b[0m\u001b[39;1m1.3.4\u001b[0m\u001b[39m)\u001b[0m: \u001b[34mPending...\u001b[0m\n",
      "  \u001b[34;1m•\u001b[0m \u001b[39mInstalling \u001b[0m\u001b[36mpyyaml-env-tag\u001b[0m\u001b[39m (\u001b[0m\u001b[39;1m0.1\u001b[0m\u001b[39m)\u001b[0m: \u001b[34mPending...\u001b[0m\n",
      "  \u001b[34;1m•\u001b[0m \u001b[39mInstalling \u001b[0m\u001b[36mwatchdog\u001b[0m\u001b[39m (\u001b[0m\u001b[39;1m2.1.2\u001b[0m\u001b[39m)\u001b[0m: \u001b[34mPending...\u001b[0m\n",
      "\u001b[5A\u001b[0J  \u001b[34;1m•\u001b[0m \u001b[39mInstalling \u001b[0m\u001b[36mghp-import\u001b[0m\u001b[39m (\u001b[0m\u001b[39;1m2.0.1\u001b[0m\u001b[39m)\u001b[0m: \u001b[34mDownloading...\u001b[0m \u001b[1m0%\u001b[0m\n",
      "  \u001b[34;1m•\u001b[0m \u001b[39mInstalling \u001b[0m\u001b[36mimportlib-metadata\u001b[0m\u001b[39m (\u001b[0m\u001b[39;1m4.5.0\u001b[0m\u001b[39m)\u001b[0m: \u001b[34mPending...\u001b[0m\n",
      "  \u001b[34;1m•\u001b[0m \u001b[39mInstalling \u001b[0m\u001b[36mmarkdown\u001b[0m\u001b[39m (\u001b[0m\u001b[39;1m3.3.4\u001b[0m\u001b[39m)\u001b[0m: \u001b[34mPending...\u001b[0m\n",
      "  \u001b[34;1m•\u001b[0m \u001b[39mInstalling \u001b[0m\u001b[36mmergedeep\u001b[0m\u001b[39m (\u001b[0m\u001b[39;1m1.3.4\u001b[0m\u001b[39m)\u001b[0m: \u001b[34mPending...\u001b[0m\n",
      "  \u001b[34;1m•\u001b[0m \u001b[39mInstalling \u001b[0m\u001b[36mpyyaml-env-tag\u001b[0m\u001b[39m (\u001b[0m\u001b[39;1m0.1\u001b[0m\u001b[39m)\u001b[0m: \u001b[34mPending...\u001b[0m\n",
      "  \u001b[34;1m•\u001b[0m \u001b[39mInstalling \u001b[0m\u001b[36mwatchdog\u001b[0m\u001b[39m (\u001b[0m\u001b[39;1m2.1.2\u001b[0m\u001b[39m)\u001b[0m: \u001b[34mPending...\u001b[0m\n",
      "\u001b[3A\u001b[0J  \u001b[34;1m•\u001b[0m \u001b[39mInstalling \u001b[0m\u001b[36mpyyaml-env-tag\u001b[0m\u001b[39m (\u001b[0m\u001b[39;1m0.1\u001b[0m\u001b[39m)\u001b[0m: \u001b[34mPending...\u001b[0m\n",
      "  \u001b[34;1m•\u001b[0m \u001b[39mInstalling \u001b[0m\u001b[36mwatchdog\u001b[0m\u001b[39m (\u001b[0m\u001b[39;1m2.1.2\u001b[0m\u001b[39m)\u001b[0m: \u001b[34mPending...\u001b[0m\n",
      "\u001b[2A\u001b[0J  \u001b[34;1m•\u001b[0m \u001b[39mInstalling \u001b[0m\u001b[36mmergedeep\u001b[0m\u001b[39m (\u001b[0m\u001b[39;1m1.3.4\u001b[0m\u001b[39m)\u001b[0m: \u001b[34mDownloading...\u001b[0m \u001b[1m0%\u001b[0m\n",
      "  \u001b[34;1m•\u001b[0m \u001b[39mInstalling \u001b[0m\u001b[36mpyyaml-env-tag\u001b[0m\u001b[39m (\u001b[0m\u001b[39;1m0.1\u001b[0m\u001b[39m)\u001b[0m: \u001b[34mPending...\u001b[0m\n",
      "  \u001b[34;1m•\u001b[0m \u001b[39mInstalling \u001b[0m\u001b[36mwatchdog\u001b[0m\u001b[39m (\u001b[0m\u001b[39;1m2.1.2\u001b[0m\u001b[39m)\u001b[0m: \u001b[34mPending...\u001b[0m\n",
      "\u001b[5A\u001b[0J  \u001b[34;1m•\u001b[0m \u001b[39mInstalling \u001b[0m\u001b[36mmarkdown\u001b[0m\u001b[39m (\u001b[0m\u001b[39;1m3.3.4\u001b[0m\u001b[39m)\u001b[0m: \u001b[34mPending...\u001b[0m\n",
      "  \u001b[34;1m•\u001b[0m \u001b[39mInstalling \u001b[0m\u001b[36mmergedeep\u001b[0m\u001b[39m (\u001b[0m\u001b[39;1m1.3.4\u001b[0m\u001b[39m)\u001b[0m: \u001b[34mDownloading...\u001b[0m \u001b[1m0%\u001b[0m\n",
      "  \u001b[34;1m•\u001b[0m \u001b[39mInstalling \u001b[0m\u001b[36mpyyaml-env-tag\u001b[0m\u001b[39m (\u001b[0m\u001b[39;1m0.1\u001b[0m\u001b[39m)\u001b[0m: \u001b[34mPending...\u001b[0m\n",
      "  \u001b[34;1m•\u001b[0m \u001b[39mInstalling \u001b[0m\u001b[36mwatchdog\u001b[0m\u001b[39m (\u001b[0m\u001b[39;1m2.1.2\u001b[0m\u001b[39m)\u001b[0m: \u001b[34mPending...\u001b[0m\n",
      "\u001b[4A\u001b[0J  \u001b[34;1m•\u001b[0m \u001b[39mInstalling \u001b[0m\u001b[36mimportlib-metadata\u001b[0m\u001b[39m (\u001b[0m\u001b[39;1m4.5.0\u001b[0m\u001b[39m)\u001b[0m: \u001b[34mDownloading...\u001b[0m \u001b[1m0%\u001b[0m\n",
      "  \u001b[34;1m•\u001b[0m \u001b[39mInstalling \u001b[0m\u001b[36mmarkdown\u001b[0m\u001b[39m (\u001b[0m\u001b[39;1m3.3.4\u001b[0m\u001b[39m)\u001b[0m: \u001b[34mPending...\u001b[0m\n",
      "  \u001b[34;1m•\u001b[0m \u001b[39mInstalling \u001b[0m\u001b[36mmergedeep\u001b[0m\u001b[39m (\u001b[0m\u001b[39;1m1.3.4\u001b[0m\u001b[39m)\u001b[0m: \u001b[34mDownloading...\u001b[0m \u001b[1m0%\u001b[0m\n",
      "  \u001b[34;1m•\u001b[0m \u001b[39mInstalling \u001b[0m\u001b[36mpyyaml-env-tag\u001b[0m\u001b[39m (\u001b[0m\u001b[39;1m0.1\u001b[0m\u001b[39m)\u001b[0m: \u001b[34mPending...\u001b[0m\n",
      "  \u001b[34;1m•\u001b[0m \u001b[39mInstalling \u001b[0m\u001b[36mwatchdog\u001b[0m\u001b[39m (\u001b[0m\u001b[39;1m2.1.2\u001b[0m\u001b[39m)\u001b[0m: \u001b[34mPending...\u001b[0m\n",
      "\u001b[2A\u001b[0J  \u001b[34;1m•\u001b[0m \u001b[39mInstalling \u001b[0m\u001b[36mwatchdog\u001b[0m\u001b[39m (\u001b[0m\u001b[39;1m2.1.2\u001b[0m\u001b[39m)\u001b[0m: \u001b[34mPending...\u001b[0m\n",
      "\u001b[1A\u001b[0J  \u001b[34;1m•\u001b[0m \u001b[39mInstalling \u001b[0m\u001b[36mpyyaml-env-tag\u001b[0m\u001b[39m (\u001b[0m\u001b[39;1m0.1\u001b[0m\u001b[39m)\u001b[0m: \u001b[34mDownloading...\u001b[0m \u001b[1m0%\u001b[0m\n",
      "  \u001b[34;1m•\u001b[0m \u001b[39mInstalling \u001b[0m\u001b[36mwatchdog\u001b[0m\u001b[39m (\u001b[0m\u001b[39;1m2.1.2\u001b[0m\u001b[39m)\u001b[0m: \u001b[34mPending...\u001b[0m\n",
      "\u001b[6A\u001b[0J  \u001b[34;1m•\u001b[0m \u001b[39mInstalling \u001b[0m\u001b[36mimportlib-metadata\u001b[0m\u001b[39m (\u001b[0m\u001b[39;1m4.5.0\u001b[0m\u001b[39m)\u001b[0m: \u001b[34mDownloading...\u001b[0m \u001b[1m0%\u001b[0m\n",
      "  \u001b[34;1m•\u001b[0m \u001b[39mInstalling \u001b[0m\u001b[36mmarkdown\u001b[0m\u001b[39m (\u001b[0m\u001b[39;1m3.3.4\u001b[0m\u001b[39m)\u001b[0m: \u001b[34mPending...\u001b[0m\n",
      "  \u001b[34;1m•\u001b[0m \u001b[39mInstalling \u001b[0m\u001b[36mmergedeep\u001b[0m\u001b[39m (\u001b[0m\u001b[39;1m1.3.4\u001b[0m\u001b[39m)\u001b[0m: \u001b[34mDownloading...\u001b[0m \u001b[1m0%\u001b[0m\n",
      "  \u001b[34;1m•\u001b[0m \u001b[39mInstalling \u001b[0m\u001b[36mpyyaml-env-tag\u001b[0m\u001b[39m (\u001b[0m\u001b[39;1m0.1\u001b[0m\u001b[39m)\u001b[0m: \u001b[34mDownloading...\u001b[0m \u001b[1m0%\u001b[0m\n",
      "  \u001b[34;1m•\u001b[0m \u001b[39mInstalling \u001b[0m\u001b[36mwatchdog\u001b[0m\u001b[39m (\u001b[0m\u001b[39;1m2.1.2\u001b[0m\u001b[39m)\u001b[0m: \u001b[34mPending...\u001b[0m\n",
      "\u001b[5A\u001b[0J  \u001b[34;1m•\u001b[0m \u001b[39mInstalling \u001b[0m\u001b[36mghp-import\u001b[0m\u001b[39m (\u001b[0m\u001b[39;1m2.0.1\u001b[0m\u001b[39m)\u001b[0m: \u001b[34mDownloading...\u001b[0m \u001b[1m100%\u001b[0m\n",
      "  \u001b[34;1m•\u001b[0m \u001b[39mInstalling \u001b[0m\u001b[36mimportlib-metadata\u001b[0m\u001b[39m (\u001b[0m\u001b[39;1m4.5.0\u001b[0m\u001b[39m)\u001b[0m: \u001b[34mDownloading...\u001b[0m \u001b[1m0%\u001b[0m\n",
      "  \u001b[34;1m•\u001b[0m \u001b[39mInstalling \u001b[0m\u001b[36mmarkdown\u001b[0m\u001b[39m (\u001b[0m\u001b[39;1m3.3.4\u001b[0m\u001b[39m)\u001b[0m: \u001b[34mPending...\u001b[0m\n",
      "  \u001b[34;1m•\u001b[0m \u001b[39mInstalling \u001b[0m\u001b[36mmergedeep\u001b[0m\u001b[39m (\u001b[0m\u001b[39;1m1.3.4\u001b[0m\u001b[39m)\u001b[0m: \u001b[34mDownloading...\u001b[0m \u001b[1m0%\u001b[0m\n",
      "  \u001b[34;1m•\u001b[0m \u001b[39mInstalling \u001b[0m\u001b[36mpyyaml-env-tag\u001b[0m\u001b[39m (\u001b[0m\u001b[39;1m0.1\u001b[0m\u001b[39m)\u001b[0m: \u001b[34mDownloading...\u001b[0m \u001b[1m0%\u001b[0m\n",
      "  \u001b[34;1m•\u001b[0m \u001b[39mInstalling \u001b[0m\u001b[36mwatchdog\u001b[0m\u001b[39m (\u001b[0m\u001b[39;1m2.1.2\u001b[0m\u001b[39m)\u001b[0m: \u001b[34mPending...\u001b[0m\n"
     ]
    },
    {
     "name": "stdout",
     "output_type": "stream",
     "text": [
      "\u001b[1A\u001b[0J  \u001b[34;1m•\u001b[0m \u001b[39mInstalling \u001b[0m\u001b[36mwatchdog\u001b[0m\u001b[39m (\u001b[0m\u001b[39;1m2.1.2\u001b[0m\u001b[39m)\u001b[0m: \u001b[34mDownloading...\u001b[0m \u001b[1m0%\u001b[0m\r\n",
      "\u001b[6A\u001b[0J  \u001b[34;1m•\u001b[0m \u001b[39mInstalling \u001b[0m\u001b[36mimportlib-metadata\u001b[0m\u001b[39m (\u001b[0m\u001b[39;1m4.5.0\u001b[0m\u001b[39m)\u001b[0m: \u001b[34mDownloading...\u001b[0m \u001b[1m0%\u001b[0m\r\n",
      "  \u001b[34;1m•\u001b[0m \u001b[39mInstalling \u001b[0m\u001b[36mmarkdown\u001b[0m\u001b[39m (\u001b[0m\u001b[39;1m3.3.4\u001b[0m\u001b[39m)\u001b[0m: \u001b[34mPending...\u001b[0m\r\n",
      "  \u001b[34;1m•\u001b[0m \u001b[39mInstalling \u001b[0m\u001b[36mmergedeep\u001b[0m\u001b[39m (\u001b[0m\u001b[39;1m1.3.4\u001b[0m\u001b[39m)\u001b[0m: \u001b[34mDownloading...\u001b[0m \u001b[1m0%\u001b[0m\r\n",
      "  \u001b[34;1m•\u001b[0m \u001b[39mInstalling \u001b[0m\u001b[36mpyyaml-env-tag\u001b[0m\u001b[39m (\u001b[0m\u001b[39;1m0.1\u001b[0m\u001b[39m)\u001b[0m: \u001b[34mDownloading...\u001b[0m \u001b[1m0%\u001b[0m\r\n",
      "  \u001b[34;1m•\u001b[0m \u001b[39mInstalling \u001b[0m\u001b[36mwatchdog\u001b[0m\u001b[39m (\u001b[0m\u001b[39;1m2.1.2\u001b[0m\u001b[39m)\u001b[0m: \u001b[34mDownloading...\u001b[0m \u001b[1m0%\u001b[0m\r\n",
      "\u001b[5A\u001b[0J  \u001b[34;1m•\u001b[0m \u001b[39mInstalling \u001b[0m\u001b[36mghp-import\u001b[0m\u001b[39m (\u001b[0m\u001b[39;1m2.0.1\u001b[0m\u001b[39m)\u001b[0m: \u001b[34mDownloading...\u001b[0m \u001b[1m100%\u001b[0m\r\n",
      "  \u001b[34;1m•\u001b[0m \u001b[39mInstalling \u001b[0m\u001b[36mimportlib-metadata\u001b[0m\u001b[39m (\u001b[0m\u001b[39;1m4.5.0\u001b[0m\u001b[39m)\u001b[0m: \u001b[34mDownloading...\u001b[0m \u001b[1m0%\u001b[0m\r\n",
      "  \u001b[34;1m•\u001b[0m \u001b[39mInstalling \u001b[0m\u001b[36mmarkdown\u001b[0m\u001b[39m (\u001b[0m\u001b[39;1m3.3.4\u001b[0m\u001b[39m)\u001b[0m: \u001b[34mPending...\u001b[0m\r\n",
      "  \u001b[34;1m•\u001b[0m \u001b[39mInstalling \u001b[0m\u001b[36mmergedeep\u001b[0m\u001b[39m (\u001b[0m\u001b[39;1m1.3.4\u001b[0m\u001b[39m)\u001b[0m: \u001b[34mDownloading...\u001b[0m \u001b[1m0%\u001b[0m\r\n",
      "  \u001b[34;1m•\u001b[0m \u001b[39mInstalling \u001b[0m\u001b[36mpyyaml-env-tag\u001b[0m\u001b[39m (\u001b[0m\u001b[39;1m0.1\u001b[0m\u001b[39m)\u001b[0m: \u001b[34mDownloading...\u001b[0m \u001b[1m0%\u001b[0m\r\n",
      "  \u001b[34;1m•\u001b[0m \u001b[39mInstalling \u001b[0m\u001b[36mwatchdog\u001b[0m\u001b[39m (\u001b[0m\u001b[39;1m2.1.2\u001b[0m\u001b[39m)\u001b[0m: \u001b[34mDownloading...\u001b[0m \u001b[1m0%\u001b[0m\r\n",
      "\u001b[6A\u001b[0J  \u001b[34;1m•\u001b[0m \u001b[39mInstalling \u001b[0m\u001b[36mimportlib-metadata\u001b[0m\u001b[39m (\u001b[0m\u001b[39;1m4.5.0\u001b[0m\u001b[39m)\u001b[0m: \u001b[34mDownloading...\u001b[0m \u001b[1m0%\u001b[0m\r\n",
      "  \u001b[34;1m•\u001b[0m \u001b[39mInstalling \u001b[0m\u001b[36mmarkdown\u001b[0m\u001b[39m (\u001b[0m\u001b[39;1m3.3.4\u001b[0m\u001b[39m)\u001b[0m: \u001b[34mPending...\u001b[0m\r\n",
      "  \u001b[34;1m•\u001b[0m \u001b[39mInstalling \u001b[0m\u001b[36mmergedeep\u001b[0m\u001b[39m (\u001b[0m\u001b[39;1m1.3.4\u001b[0m\u001b[39m)\u001b[0m: \u001b[34mDownloading...\u001b[0m \u001b[1m0%\u001b[0m\r\n",
      "  \u001b[34;1m•\u001b[0m \u001b[39mInstalling \u001b[0m\u001b[36mpyyaml-env-tag\u001b[0m\u001b[39m (\u001b[0m\u001b[39;1m0.1\u001b[0m\u001b[39m)\u001b[0m: \u001b[34mDownloading...\u001b[0m \u001b[1m0%\u001b[0m\r\n",
      "  \u001b[34;1m•\u001b[0m \u001b[39mInstalling \u001b[0m\u001b[36mwatchdog\u001b[0m\u001b[39m (\u001b[0m\u001b[39;1m2.1.2\u001b[0m\u001b[39m)\u001b[0m: \u001b[34mDownloading...\u001b[0m \u001b[1m0%\u001b[0m\r\n",
      "\u001b[5A\u001b[0J  \u001b[34;1m•\u001b[0m \u001b[39mInstalling \u001b[0m\u001b[36mghp-import\u001b[0m\u001b[39m (\u001b[0m\u001b[39;1m2.0.1\u001b[0m\u001b[39m)\u001b[0m: \u001b[34mInstalling...\u001b[0m\r\n",
      "  \u001b[34;1m•\u001b[0m \u001b[39mInstalling \u001b[0m\u001b[36mimportlib-metadata\u001b[0m\u001b[39m (\u001b[0m\u001b[39;1m4.5.0\u001b[0m\u001b[39m)\u001b[0m: \u001b[34mDownloading...\u001b[0m \u001b[1m0%\u001b[0m\r\n",
      "  \u001b[34;1m•\u001b[0m \u001b[39mInstalling \u001b[0m\u001b[36mmarkdown\u001b[0m\u001b[39m (\u001b[0m\u001b[39;1m3.3.4\u001b[0m\u001b[39m)\u001b[0m: \u001b[34mPending...\u001b[0m\r\n",
      "  \u001b[34;1m•\u001b[0m \u001b[39mInstalling \u001b[0m\u001b[36mmergedeep\u001b[0m\u001b[39m (\u001b[0m\u001b[39;1m1.3.4\u001b[0m\u001b[39m)\u001b[0m: \u001b[34mDownloading...\u001b[0m \u001b[1m0%\u001b[0m\r\n",
      "  \u001b[34;1m•\u001b[0m \u001b[39mInstalling \u001b[0m\u001b[36mpyyaml-env-tag\u001b[0m\u001b[39m (\u001b[0m\u001b[39;1m0.1\u001b[0m\u001b[39m)\u001b[0m: \u001b[34mDownloading...\u001b[0m \u001b[1m0%\u001b[0m\r\n",
      "  \u001b[34;1m•\u001b[0m \u001b[39mInstalling \u001b[0m\u001b[36mwatchdog\u001b[0m\u001b[39m (\u001b[0m\u001b[39;1m2.1.2\u001b[0m\u001b[39m)\u001b[0m: \u001b[34mDownloading...\u001b[0m \u001b[1m0%\u001b[0m\r\n",
      "\u001b[3A\u001b[0J  \u001b[34;1m•\u001b[0m \u001b[39mInstalling \u001b[0m\u001b[36mpyyaml-env-tag\u001b[0m\u001b[39m (\u001b[0m\u001b[39;1m0.1\u001b[0m\u001b[39m)\u001b[0m: \u001b[34mDownloading...\u001b[0m \u001b[1m0%\u001b[0m\r\n",
      "  \u001b[34;1m•\u001b[0m \u001b[39mInstalling \u001b[0m\u001b[36mwatchdog\u001b[0m\u001b[39m (\u001b[0m\u001b[39;1m2.1.2\u001b[0m\u001b[39m)\u001b[0m: \u001b[34mDownloading...\u001b[0m \u001b[1m0%\u001b[0m\r\n",
      "\u001b[2A\u001b[0J  \u001b[34;1m•\u001b[0m \u001b[39mInstalling \u001b[0m\u001b[36mmergedeep\u001b[0m\u001b[39m (\u001b[0m\u001b[39;1m1.3.4\u001b[0m\u001b[39m)\u001b[0m: \u001b[34mDownloading...\u001b[0m \u001b[1m100%\u001b[0m\r\n",
      "  \u001b[34;1m•\u001b[0m \u001b[39mInstalling \u001b[0m\u001b[36mpyyaml-env-tag\u001b[0m\u001b[39m (\u001b[0m\u001b[39;1m0.1\u001b[0m\u001b[39m)\u001b[0m: \u001b[34mDownloading...\u001b[0m \u001b[1m0%\u001b[0m\r\n",
      "  \u001b[34;1m•\u001b[0m \u001b[39mInstalling \u001b[0m\u001b[36mwatchdog\u001b[0m\u001b[39m (\u001b[0m\u001b[39;1m2.1.2\u001b[0m\u001b[39m)\u001b[0m: \u001b[34mDownloading...\u001b[0m \u001b[1m0%\u001b[0m\r\n",
      "\u001b[2A\u001b[0J  \u001b[34;1m•\u001b[0m \u001b[39mInstalling \u001b[0m\u001b[36mwatchdog\u001b[0m\u001b[39m (\u001b[0m\u001b[39;1m2.1.2\u001b[0m\u001b[39m)\u001b[0m: \u001b[34mDownloading...\u001b[0m \u001b[1m0%\u001b[0m\r\n",
      "\u001b[1A\u001b[0J  \u001b[34;1m•\u001b[0m \u001b[39mInstalling \u001b[0m\u001b[36mpyyaml-env-tag\u001b[0m\u001b[39m (\u001b[0m\u001b[39;1m0.1\u001b[0m\u001b[39m)\u001b[0m: \u001b[34mDownloading...\u001b[0m \u001b[1m100%\u001b[0m\r\n",
      "  \u001b[34;1m•\u001b[0m \u001b[39mInstalling \u001b[0m\u001b[36mwatchdog\u001b[0m\u001b[39m (\u001b[0m\u001b[39;1m2.1.2\u001b[0m\u001b[39m)\u001b[0m: \u001b[34mDownloading...\u001b[0m \u001b[1m0%\u001b[0m\r\n",
      "\u001b[2A\u001b[0J  \u001b[34;1m•\u001b[0m \u001b[39mInstalling \u001b[0m\u001b[36mwatchdog\u001b[0m\u001b[39m (\u001b[0m\u001b[39;1m2.1.2\u001b[0m\u001b[39m)\u001b[0m: \u001b[34mDownloading...\u001b[0m \u001b[1m0%\u001b[0m\r\n",
      "\u001b[1A\u001b[0J  \u001b[34;1m•\u001b[0m \u001b[39mInstalling \u001b[0m\u001b[36mpyyaml-env-tag\u001b[0m\u001b[39m (\u001b[0m\u001b[39;1m0.1\u001b[0m\u001b[39m)\u001b[0m: \u001b[34mDownloading...\u001b[0m \u001b[1m100%\u001b[0m\r\n",
      "  \u001b[34;1m•\u001b[0m \u001b[39mInstalling \u001b[0m\u001b[36mwatchdog\u001b[0m\u001b[39m (\u001b[0m\u001b[39;1m2.1.2\u001b[0m\u001b[39m)\u001b[0m: \u001b[34mDownloading...\u001b[0m \u001b[1m0%\u001b[0m\r\n",
      "\u001b[3A\u001b[0J  \u001b[34;1m•\u001b[0m \u001b[39mInstalling \u001b[0m\u001b[36mpyyaml-env-tag\u001b[0m\u001b[39m (\u001b[0m\u001b[39;1m0.1\u001b[0m\u001b[39m)\u001b[0m: \u001b[34mDownloading...\u001b[0m \u001b[1m100%\u001b[0m\r\n",
      "  \u001b[34;1m•\u001b[0m \u001b[39mInstalling \u001b[0m\u001b[36mwatchdog\u001b[0m\u001b[39m (\u001b[0m\u001b[39;1m2.1.2\u001b[0m\u001b[39m)\u001b[0m: \u001b[34mDownloading...\u001b[0m \u001b[1m0%\u001b[0m\r\n",
      "\u001b[2A\u001b[0J  \u001b[34;1m•\u001b[0m \u001b[39mInstalling \u001b[0m\u001b[36mmergedeep\u001b[0m\u001b[39m (\u001b[0m\u001b[39;1m1.3.4\u001b[0m\u001b[39m)\u001b[0m: \u001b[34mDownloading...\u001b[0m \u001b[1m100%\u001b[0m\r\n",
      "  \u001b[34;1m•\u001b[0m \u001b[39mInstalling \u001b[0m\u001b[36mpyyaml-env-tag\u001b[0m\u001b[39m (\u001b[0m\u001b[39;1m0.1\u001b[0m\u001b[39m)\u001b[0m: \u001b[34mDownloading...\u001b[0m \u001b[1m100%\u001b[0m\r\n",
      "  \u001b[34;1m•\u001b[0m \u001b[39mInstalling \u001b[0m\u001b[36mwatchdog\u001b[0m\u001b[39m (\u001b[0m\u001b[39;1m2.1.2\u001b[0m\u001b[39m)\u001b[0m: \u001b[34mDownloading...\u001b[0m \u001b[1m0%\u001b[0m\r\n",
      "\u001b[3A\u001b[0J  \u001b[34;1m•\u001b[0m \u001b[39mInstalling \u001b[0m\u001b[36mpyyaml-env-tag\u001b[0m\u001b[39m (\u001b[0m\u001b[39;1m0.1\u001b[0m\u001b[39m)\u001b[0m: \u001b[34mDownloading...\u001b[0m \u001b[1m100%\u001b[0m\r\n",
      "  \u001b[34;1m•\u001b[0m \u001b[39mInstalling \u001b[0m\u001b[36mwatchdog\u001b[0m\u001b[39m (\u001b[0m\u001b[39;1m2.1.2\u001b[0m\u001b[39m)\u001b[0m: \u001b[34mDownloading...\u001b[0m \u001b[1m0%\u001b[0m\r\n",
      "\u001b[2A\u001b[0J  \u001b[34;1m•\u001b[0m \u001b[39mInstalling \u001b[0m\u001b[36mmergedeep\u001b[0m\u001b[39m (\u001b[0m\u001b[39;1m1.3.4\u001b[0m\u001b[39m)\u001b[0m: \u001b[34mInstalling...\u001b[0m\r\n",
      "  \u001b[34;1m•\u001b[0m \u001b[39mInstalling \u001b[0m\u001b[36mpyyaml-env-tag\u001b[0m\u001b[39m (\u001b[0m\u001b[39;1m0.1\u001b[0m\u001b[39m)\u001b[0m: \u001b[34mDownloading...\u001b[0m \u001b[1m100%\u001b[0m\r\n",
      "  \u001b[34;1m•\u001b[0m \u001b[39mInstalling \u001b[0m\u001b[36mwatchdog\u001b[0m\u001b[39m (\u001b[0m\u001b[39;1m2.1.2\u001b[0m\u001b[39m)\u001b[0m: \u001b[34mDownloading...\u001b[0m \u001b[1m0%\u001b[0m\r\n",
      "\u001b[5A\u001b[0J  \u001b[34;1m•\u001b[0m \u001b[39mInstalling \u001b[0m\u001b[36mmarkdown\u001b[0m\u001b[39m (\u001b[0m\u001b[39;1m3.3.4\u001b[0m\u001b[39m)\u001b[0m: \u001b[34mPending...\u001b[0m\r\n",
      "  \u001b[34;1m•\u001b[0m \u001b[39mInstalling \u001b[0m\u001b[36mmergedeep\u001b[0m\u001b[39m (\u001b[0m\u001b[39;1m1.3.4\u001b[0m\u001b[39m)\u001b[0m: \u001b[34mInstalling...\u001b[0m\r\n",
      "  \u001b[34;1m•\u001b[0m \u001b[39mInstalling \u001b[0m\u001b[36mpyyaml-env-tag\u001b[0m\u001b[39m (\u001b[0m\u001b[39;1m0.1\u001b[0m\u001b[39m)\u001b[0m: \u001b[34mDownloading...\u001b[0m \u001b[1m100%\u001b[0m\r\n",
      "  \u001b[34;1m•\u001b[0m \u001b[39mInstalling \u001b[0m\u001b[36mwatchdog\u001b[0m\u001b[39m (\u001b[0m\u001b[39;1m2.1.2\u001b[0m\u001b[39m)\u001b[0m: \u001b[34mDownloading...\u001b[0m \u001b[1m0%\u001b[0m\r\n",
      "\u001b[4A\u001b[0J  \u001b[34;1m•\u001b[0m \u001b[39mInstalling \u001b[0m\u001b[36mimportlib-metadata\u001b[0m\u001b[39m (\u001b[0m\u001b[39;1m4.5.0\u001b[0m\u001b[39m)\u001b[0m: \u001b[34mDownloading...\u001b[0m \u001b[1m100%\u001b[0m\r\n",
      "  \u001b[34;1m•\u001b[0m \u001b[39mInstalling \u001b[0m\u001b[36mmarkdown\u001b[0m\u001b[39m (\u001b[0m\u001b[39;1m3.3.4\u001b[0m\u001b[39m)\u001b[0m: \u001b[34mPending...\u001b[0m\r\n",
      "  \u001b[34;1m•\u001b[0m \u001b[39mInstalling \u001b[0m\u001b[36mmergedeep\u001b[0m\u001b[39m (\u001b[0m\u001b[39;1m1.3.4\u001b[0m\u001b[39m)\u001b[0m: \u001b[34mInstalling...\u001b[0m\r\n",
      "  \u001b[34;1m•\u001b[0m \u001b[39mInstalling \u001b[0m\u001b[36mpyyaml-env-tag\u001b[0m\u001b[39m (\u001b[0m\u001b[39;1m0.1\u001b[0m\u001b[39m)\u001b[0m: \u001b[34mDownloading...\u001b[0m \u001b[1m100%\u001b[0m\r\n",
      "  \u001b[34;1m•\u001b[0m \u001b[39mInstalling \u001b[0m\u001b[36mwatchdog\u001b[0m\u001b[39m (\u001b[0m\u001b[39;1m2.1.2\u001b[0m\u001b[39m)\u001b[0m: \u001b[34mDownloading...\u001b[0m \u001b[1m0%\u001b[0m\r\n",
      "\u001b[5A\u001b[0J  \u001b[34;1m•\u001b[0m \u001b[39mInstalling \u001b[0m\u001b[36mmarkdown\u001b[0m\u001b[39m (\u001b[0m\u001b[39;1m3.3.4\u001b[0m\u001b[39m)\u001b[0m: \u001b[34mPending...\u001b[0m\r\n",
      "  \u001b[34;1m•\u001b[0m \u001b[39mInstalling \u001b[0m\u001b[36mmergedeep\u001b[0m\u001b[39m (\u001b[0m\u001b[39;1m1.3.4\u001b[0m\u001b[39m)\u001b[0m: \u001b[34mInstalling...\u001b[0m\r\n",
      "  \u001b[34;1m•\u001b[0m \u001b[39mInstalling \u001b[0m\u001b[36mpyyaml-env-tag\u001b[0m\u001b[39m (\u001b[0m\u001b[39;1m0.1\u001b[0m\u001b[39m)\u001b[0m: \u001b[34mDownloading...\u001b[0m \u001b[1m100%\u001b[0m\r\n",
      "  \u001b[34;1m•\u001b[0m \u001b[39mInstalling \u001b[0m\u001b[36mwatchdog\u001b[0m\u001b[39m (\u001b[0m\u001b[39;1m2.1.2\u001b[0m\u001b[39m)\u001b[0m: \u001b[34mDownloading...\u001b[0m \u001b[1m0%\u001b[0m\r\n",
      "\u001b[4A\u001b[0J  \u001b[34;1m•\u001b[0m \u001b[39mInstalling \u001b[0m\u001b[36mimportlib-metadata\u001b[0m\u001b[39m (\u001b[0m\u001b[39;1m4.5.0\u001b[0m\u001b[39m)\u001b[0m: \u001b[34mDownloading...\u001b[0m \u001b[1m100%\u001b[0m\r\n",
      "  \u001b[34;1m•\u001b[0m \u001b[39mInstalling \u001b[0m\u001b[36mmarkdown\u001b[0m\u001b[39m (\u001b[0m\u001b[39;1m3.3.4\u001b[0m\u001b[39m)\u001b[0m: \u001b[34mPending...\u001b[0m\r\n",
      "  \u001b[34;1m•\u001b[0m \u001b[39mInstalling \u001b[0m\u001b[36mmergedeep\u001b[0m\u001b[39m (\u001b[0m\u001b[39;1m1.3.4\u001b[0m\u001b[39m)\u001b[0m: \u001b[34mInstalling...\u001b[0m\r\n",
      "  \u001b[34;1m•\u001b[0m \u001b[39mInstalling \u001b[0m\u001b[36mpyyaml-env-tag\u001b[0m\u001b[39m (\u001b[0m\u001b[39;1m0.1\u001b[0m\u001b[39m)\u001b[0m: \u001b[34mDownloading...\u001b[0m \u001b[1m100%\u001b[0m\r\n",
      "  \u001b[34;1m•\u001b[0m \u001b[39mInstalling \u001b[0m\u001b[36mwatchdog\u001b[0m\u001b[39m (\u001b[0m\u001b[39;1m2.1.2\u001b[0m\u001b[39m)\u001b[0m: \u001b[34mDownloading...\u001b[0m \u001b[1m0%\u001b[0m\r\n",
      "\u001b[2A\u001b[0J  \u001b[34;1m•\u001b[0m \u001b[39mInstalling \u001b[0m\u001b[36mwatchdog\u001b[0m\u001b[39m (\u001b[0m\u001b[39;1m2.1.2\u001b[0m\u001b[39m)\u001b[0m: \u001b[34mDownloading...\u001b[0m \u001b[1m0%\u001b[0m\r\n",
      "\u001b[1A\u001b[0J  \u001b[34;1m•\u001b[0m \u001b[39mInstalling \u001b[0m\u001b[36mpyyaml-env-tag\u001b[0m\u001b[39m (\u001b[0m\u001b[39;1m0.1\u001b[0m\u001b[39m)\u001b[0m: \u001b[34mInstalling...\u001b[0m\r\n",
      "  \u001b[34;1m•\u001b[0m \u001b[39mInstalling \u001b[0m\u001b[36mwatchdog\u001b[0m\u001b[39m (\u001b[0m\u001b[39;1m2.1.2\u001b[0m\u001b[39m)\u001b[0m: \u001b[34mDownloading...\u001b[0m \u001b[1m0%\u001b[0m\r\n",
      "\u001b[5A\u001b[0J  \u001b[34;1m•\u001b[0m \u001b[39mInstalling \u001b[0m\u001b[36mmarkdown\u001b[0m\u001b[39m (\u001b[0m\u001b[39;1m3.3.4\u001b[0m\u001b[39m)\u001b[0m: \u001b[34mPending...\u001b[0m\r\n",
      "  \u001b[34;1m•\u001b[0m \u001b[39mInstalling \u001b[0m\u001b[36mmergedeep\u001b[0m\u001b[39m (\u001b[0m\u001b[39;1m1.3.4\u001b[0m\u001b[39m)\u001b[0m: \u001b[34mInstalling...\u001b[0m\r\n",
      "  \u001b[34;1m•\u001b[0m \u001b[39mInstalling \u001b[0m\u001b[36mpyyaml-env-tag\u001b[0m\u001b[39m (\u001b[0m\u001b[39;1m0.1\u001b[0m\u001b[39m)\u001b[0m: \u001b[34mInstalling...\u001b[0m\r\n",
      "  \u001b[34;1m•\u001b[0m \u001b[39mInstalling \u001b[0m\u001b[36mwatchdog\u001b[0m\u001b[39m (\u001b[0m\u001b[39;1m2.1.2\u001b[0m\u001b[39m)\u001b[0m: \u001b[34mDownloading...\u001b[0m \u001b[1m0%\u001b[0m\r\n",
      "\u001b[4A\u001b[0J  \u001b[34;1m•\u001b[0m \u001b[39mInstalling \u001b[0m\u001b[36mimportlib-metadata\u001b[0m\u001b[39m (\u001b[0m\u001b[39;1m4.5.0\u001b[0m\u001b[39m)\u001b[0m: \u001b[34mInstalling...\u001b[0m\r\n",
      "  \u001b[34;1m•\u001b[0m \u001b[39mInstalling \u001b[0m\u001b[36mmarkdown\u001b[0m\u001b[39m (\u001b[0m\u001b[39;1m3.3.4\u001b[0m\u001b[39m)\u001b[0m: \u001b[34mPending...\u001b[0m\r\n",
      "  \u001b[34;1m•\u001b[0m \u001b[39mInstalling \u001b[0m\u001b[36mmergedeep\u001b[0m\u001b[39m (\u001b[0m\u001b[39;1m1.3.4\u001b[0m\u001b[39m)\u001b[0m: \u001b[34mInstalling...\u001b[0m\r\n",
      "  \u001b[34;1m•\u001b[0m \u001b[39mInstalling \u001b[0m\u001b[36mpyyaml-env-tag\u001b[0m\u001b[39m (\u001b[0m\u001b[39;1m0.1\u001b[0m\u001b[39m)\u001b[0m: \u001b[34mInstalling...\u001b[0m\r\n",
      "  \u001b[34;1m•\u001b[0m \u001b[39mInstalling \u001b[0m\u001b[36mwatchdog\u001b[0m\u001b[39m (\u001b[0m\u001b[39;1m2.1.2\u001b[0m\u001b[39m)\u001b[0m: \u001b[34mDownloading...\u001b[0m \u001b[1m0%\u001b[0m\r\n"
     ]
    },
    {
     "name": "stdout",
     "output_type": "stream",
     "text": [
      "\u001b[1A\u001b[0J  \u001b[34;1m•\u001b[0m \u001b[39mInstalling \u001b[0m\u001b[36mwatchdog\u001b[0m\u001b[39m (\u001b[0m\u001b[39;1m2.1.2\u001b[0m\u001b[39m)\u001b[0m: \u001b[34mDownloading...\u001b[0m \u001b[1m100%\u001b[0m\n",
      "\u001b[1A\u001b[0J  \u001b[34;1m•\u001b[0m \u001b[39mInstalling \u001b[0m\u001b[36mwatchdog\u001b[0m\u001b[39m (\u001b[0m\u001b[39;1m2.1.2\u001b[0m\u001b[39m)\u001b[0m: \u001b[34mDownloading...\u001b[0m \u001b[1m100%\u001b[0m\n",
      "\u001b[1A\u001b[0J  \u001b[34;1m•\u001b[0m \u001b[39mInstalling \u001b[0m\u001b[36mwatchdog\u001b[0m\u001b[39m (\u001b[0m\u001b[39;1m2.1.2\u001b[0m\u001b[39m)\u001b[0m: \u001b[34mInstalling...\u001b[0m\n",
      "\u001b[4A\u001b[0J  \u001b[34;1m•\u001b[0m \u001b[39mInstalling \u001b[0m\u001b[36mmergedeep\u001b[0m\u001b[39m (\u001b[0m\u001b[39;1m1.3.4\u001b[0m\u001b[39m)\u001b[0m: \u001b[34mInstalling...\u001b[0m\n",
      "  \u001b[34;1m•\u001b[0m \u001b[39mInstalling \u001b[0m\u001b[36mpyyaml-env-tag\u001b[0m\u001b[39m (\u001b[0m\u001b[39;1m0.1\u001b[0m\u001b[39m)\u001b[0m: \u001b[34mInstalling...\u001b[0m\n",
      "  \u001b[34;1m•\u001b[0m \u001b[39mInstalling \u001b[0m\u001b[36mwatchdog\u001b[0m\u001b[39m (\u001b[0m\u001b[39;1m2.1.2\u001b[0m\u001b[39m)\u001b[0m: \u001b[34mInstalling...\u001b[0m\n",
      "\u001b[3A\u001b[0J  \u001b[34;1m•\u001b[0m \u001b[39mInstalling \u001b[0m\u001b[36mmarkdown\u001b[0m\u001b[39m (\u001b[0m\u001b[39;1m3.3.4\u001b[0m\u001b[39m)\u001b[0m: \u001b[34mInstalling...\u001b[0m\n",
      "  \u001b[34;1m•\u001b[0m \u001b[39mInstalling \u001b[0m\u001b[36mmergedeep\u001b[0m\u001b[39m (\u001b[0m\u001b[39;1m1.3.4\u001b[0m\u001b[39m)\u001b[0m: \u001b[34mInstalling...\u001b[0m\n",
      "  \u001b[34;1m•\u001b[0m \u001b[39mInstalling \u001b[0m\u001b[36mpyyaml-env-tag\u001b[0m\u001b[39m (\u001b[0m\u001b[39;1m0.1\u001b[0m\u001b[39m)\u001b[0m: \u001b[34mInstalling...\u001b[0m\n",
      "  \u001b[34;1m•\u001b[0m \u001b[39mInstalling \u001b[0m\u001b[36mwatchdog\u001b[0m\u001b[39m (\u001b[0m\u001b[39;1m2.1.2\u001b[0m\u001b[39m)\u001b[0m: \u001b[34mInstalling...\u001b[0m\n",
      "\u001b[7A\u001b[0J  \u001b[34;1m•\u001b[0m \u001b[39mInstalling \u001b[0m\u001b[36mghp-import\u001b[0m\u001b[39m (\u001b[0m\u001b[39;1m2.0.1\u001b[0m\u001b[39m)\u001b[0m: \u001b[34mInstalling...\u001b[0m\n",
      "  \u001b[34;1m•\u001b[0m \u001b[39mInstalling \u001b[0m\u001b[36mimportlib-metadata\u001b[0m\u001b[39m (\u001b[0m\u001b[39;1m4.5.0\u001b[0m\u001b[39m)\u001b[0m: \u001b[34mInstalling...\u001b[0m\n",
      "  \u001b[34;1m•\u001b[0m \u001b[39mInstalling \u001b[0m\u001b[36mmarkdown\u001b[0m\u001b[39m (\u001b[0m\u001b[39;1m3.3.4\u001b[0m\u001b[39m)\u001b[0m: \u001b[34mInstalling...\u001b[0m\n",
      "  \u001b[34;1m•\u001b[0m \u001b[39mInstalling \u001b[0m\u001b[36mmergedeep\u001b[0m\u001b[39m (\u001b[0m\u001b[39;1m1.3.4\u001b[0m\u001b[39m)\u001b[0m: \u001b[34mInstalling...\u001b[0m\n",
      "  \u001b[34;1m•\u001b[0m \u001b[39mInstalling \u001b[0m\u001b[36mpyyaml-env-tag\u001b[0m\u001b[39m (\u001b[0m\u001b[39;1m0.1\u001b[0m\u001b[39m)\u001b[0m: \u001b[34mInstalling...\u001b[0m\n",
      "  \u001b[34;1m•\u001b[0m \u001b[39mInstalling \u001b[0m\u001b[36mwatchdog\u001b[0m\u001b[39m (\u001b[0m\u001b[39;1m2.1.2\u001b[0m\u001b[39m)\u001b[0m: \u001b[34mInstalling...\u001b[0m\n",
      "\u001b[6A\u001b[0J  \u001b[32;1m•\u001b[0m \u001b[39mInstalling \u001b[0m\u001b[36mclick\u001b[0m\u001b[39m (\u001b[0m\u001b[32m8.0.1\u001b[0m\u001b[39m)\u001b[0m\n",
      "  \u001b[34;1m•\u001b[0m \u001b[39mInstalling \u001b[0m\u001b[36mghp-import\u001b[0m\u001b[39m (\u001b[0m\u001b[39;1m2.0.1\u001b[0m\u001b[39m)\u001b[0m: \u001b[34mInstalling...\u001b[0m\n",
      "  \u001b[34;1m•\u001b[0m \u001b[39mInstalling \u001b[0m\u001b[36mimportlib-metadata\u001b[0m\u001b[39m (\u001b[0m\u001b[39;1m4.5.0\u001b[0m\u001b[39m)\u001b[0m: \u001b[34mInstalling...\u001b[0m\n",
      "  \u001b[34;1m•\u001b[0m \u001b[39mInstalling \u001b[0m\u001b[36mmarkdown\u001b[0m\u001b[39m (\u001b[0m\u001b[39;1m3.3.4\u001b[0m\u001b[39m)\u001b[0m: \u001b[34mInstalling...\u001b[0m\n",
      "  \u001b[34;1m•\u001b[0m \u001b[39mInstalling \u001b[0m\u001b[36mmergedeep\u001b[0m\u001b[39m (\u001b[0m\u001b[39;1m1.3.4\u001b[0m\u001b[39m)\u001b[0m: \u001b[34mInstalling...\u001b[0m\n",
      "  \u001b[34;1m•\u001b[0m \u001b[39mInstalling \u001b[0m\u001b[36mpyyaml-env-tag\u001b[0m\u001b[39m (\u001b[0m\u001b[39;1m0.1\u001b[0m\u001b[39m)\u001b[0m: \u001b[34mInstalling...\u001b[0m\n",
      "  \u001b[34;1m•\u001b[0m \u001b[39mInstalling \u001b[0m\u001b[36mwatchdog\u001b[0m\u001b[39m (\u001b[0m\u001b[39;1m2.1.2\u001b[0m\u001b[39m)\u001b[0m: \u001b[34mInstalling...\u001b[0m\n",
      "\u001b[3A\u001b[0J  \u001b[34;1m•\u001b[0m \u001b[39mInstalling \u001b[0m\u001b[36mpyyaml-env-tag\u001b[0m\u001b[39m (\u001b[0m\u001b[39;1m0.1\u001b[0m\u001b[39m)\u001b[0m: \u001b[34mInstalling...\u001b[0m\n",
      "  \u001b[34;1m•\u001b[0m \u001b[39mInstalling \u001b[0m\u001b[36mwatchdog\u001b[0m\u001b[39m (\u001b[0m\u001b[39;1m2.1.2\u001b[0m\u001b[39m)\u001b[0m: \u001b[34mInstalling...\u001b[0m\n",
      "\u001b[2A\u001b[0J  \u001b[32;1m•\u001b[0m \u001b[39mInstalling \u001b[0m\u001b[36mmergedeep\u001b[0m\u001b[39m (\u001b[0m\u001b[32m1.3.4\u001b[0m\u001b[39m)\u001b[0m\n",
      "  \u001b[34;1m•\u001b[0m \u001b[39mInstalling \u001b[0m\u001b[36mpyyaml-env-tag\u001b[0m\u001b[39m (\u001b[0m\u001b[39;1m0.1\u001b[0m\u001b[39m)\u001b[0m: \u001b[34mInstalling...\u001b[0m\n",
      "  \u001b[34;1m•\u001b[0m \u001b[39mInstalling \u001b[0m\u001b[36mwatchdog\u001b[0m\u001b[39m (\u001b[0m\u001b[39;1m2.1.2\u001b[0m\u001b[39m)\u001b[0m: \u001b[34mInstalling...\u001b[0m\n",
      "\u001b[5A\u001b[0J  \u001b[34;1m•\u001b[0m \u001b[39mInstalling \u001b[0m\u001b[36mmarkdown\u001b[0m\u001b[39m (\u001b[0m\u001b[39;1m3.3.4\u001b[0m\u001b[39m)\u001b[0m: \u001b[34mInstalling...\u001b[0m\n",
      "  \u001b[32;1m•\u001b[0m \u001b[39mInstalling \u001b[0m\u001b[36mmergedeep\u001b[0m\u001b[39m (\u001b[0m\u001b[32m1.3.4\u001b[0m\u001b[39m)\u001b[0m\n",
      "  \u001b[34;1m•\u001b[0m \u001b[39mInstalling \u001b[0m\u001b[36mpyyaml-env-tag\u001b[0m\u001b[39m (\u001b[0m\u001b[39;1m0.1\u001b[0m\u001b[39m)\u001b[0m: \u001b[34mInstalling...\u001b[0m\n",
      "  \u001b[34;1m•\u001b[0m \u001b[39mInstalling \u001b[0m\u001b[36mwatchdog\u001b[0m\u001b[39m (\u001b[0m\u001b[39;1m2.1.2\u001b[0m\u001b[39m)\u001b[0m: \u001b[34mInstalling...\u001b[0m\n",
      "\u001b[4A\u001b[0J  \u001b[32;1m•\u001b[0m \u001b[39mInstalling \u001b[0m\u001b[36mimportlib-metadata\u001b[0m\u001b[39m (\u001b[0m\u001b[32m4.5.0\u001b[0m\u001b[39m)\u001b[0m\n",
      "  \u001b[34;1m•\u001b[0m \u001b[39mInstalling \u001b[0m\u001b[36mmarkdown\u001b[0m\u001b[39m (\u001b[0m\u001b[39;1m3.3.4\u001b[0m\u001b[39m)\u001b[0m: \u001b[34mInstalling...\u001b[0m\n",
      "  \u001b[32;1m•\u001b[0m \u001b[39mInstalling \u001b[0m\u001b[36mmergedeep\u001b[0m\u001b[39m (\u001b[0m\u001b[32m1.3.4\u001b[0m\u001b[39m)\u001b[0m\n",
      "  \u001b[34;1m•\u001b[0m \u001b[39mInstalling \u001b[0m\u001b[36mpyyaml-env-tag\u001b[0m\u001b[39m (\u001b[0m\u001b[39;1m0.1\u001b[0m\u001b[39m)\u001b[0m: \u001b[34mInstalling...\u001b[0m\n",
      "  \u001b[34;1m•\u001b[0m \u001b[39mInstalling \u001b[0m\u001b[36mwatchdog\u001b[0m\u001b[39m (\u001b[0m\u001b[39;1m2.1.2\u001b[0m\u001b[39m)\u001b[0m: \u001b[34mInstalling...\u001b[0m\n",
      "\u001b[2A\u001b[0J  \u001b[34;1m•\u001b[0m \u001b[39mInstalling \u001b[0m\u001b[36mwatchdog\u001b[0m\u001b[39m (\u001b[0m\u001b[39;1m2.1.2\u001b[0m\u001b[39m)\u001b[0m: \u001b[34mInstalling...\u001b[0m\n",
      "\u001b[1A\u001b[0J  \u001b[32;1m•\u001b[0m \u001b[39mInstalling \u001b[0m\u001b[36mpyyaml-env-tag\u001b[0m\u001b[39m (\u001b[0m\u001b[32m0.1\u001b[0m\u001b[39m)\u001b[0m\n",
      "  \u001b[34;1m•\u001b[0m \u001b[39mInstalling \u001b[0m\u001b[36mwatchdog\u001b[0m\u001b[39m (\u001b[0m\u001b[39;1m2.1.2\u001b[0m\u001b[39m)\u001b[0m: \u001b[34mInstalling...\u001b[0m\n",
      "\u001b[1A\u001b[0J  \u001b[32;1m•\u001b[0m \u001b[39mInstalling \u001b[0m\u001b[36mwatchdog\u001b[0m\u001b[39m (\u001b[0m\u001b[32m2.1.2\u001b[0m\u001b[39m)\u001b[0m\n",
      "\u001b[4A\u001b[0J  \u001b[32;1m•\u001b[0m \u001b[39mInstalling \u001b[0m\u001b[36mmergedeep\u001b[0m\u001b[39m (\u001b[0m\u001b[32m1.3.4\u001b[0m\u001b[39m)\u001b[0m\n",
      "  \u001b[32;1m•\u001b[0m \u001b[39mInstalling \u001b[0m\u001b[36mpyyaml-env-tag\u001b[0m\u001b[39m (\u001b[0m\u001b[32m0.1\u001b[0m\u001b[39m)\u001b[0m\n",
      "  \u001b[32;1m•\u001b[0m \u001b[39mInstalling \u001b[0m\u001b[36mwatchdog\u001b[0m\u001b[39m (\u001b[0m\u001b[32m2.1.2\u001b[0m\u001b[39m)\u001b[0m\n",
      "\u001b[3A\u001b[0J  \u001b[32;1m•\u001b[0m \u001b[39mInstalling \u001b[0m\u001b[36mmarkdown\u001b[0m\u001b[39m (\u001b[0m\u001b[32m3.3.4\u001b[0m\u001b[39m)\u001b[0m\n",
      "  \u001b[32;1m•\u001b[0m \u001b[39mInstalling \u001b[0m\u001b[36mmergedeep\u001b[0m\u001b[39m (\u001b[0m\u001b[32m1.3.4\u001b[0m\u001b[39m)\u001b[0m\n",
      "  \u001b[32;1m•\u001b[0m \u001b[39mInstalling \u001b[0m\u001b[36mpyyaml-env-tag\u001b[0m\u001b[39m (\u001b[0m\u001b[32m0.1\u001b[0m\u001b[39m)\u001b[0m\n",
      "  \u001b[32;1m•\u001b[0m \u001b[39mInstalling \u001b[0m\u001b[36mwatchdog\u001b[0m\u001b[39m (\u001b[0m\u001b[32m2.1.2\u001b[0m\u001b[39m)\u001b[0m\n",
      "\u001b[6A\u001b[0J  \u001b[32;1m•\u001b[0m \u001b[39mInstalling \u001b[0m\u001b[36mimportlib-metadata\u001b[0m\u001b[39m (\u001b[0m\u001b[32m4.5.0\u001b[0m\u001b[39m)\u001b[0m\n",
      "  \u001b[32;1m•\u001b[0m \u001b[39mInstalling \u001b[0m\u001b[36mmarkdown\u001b[0m\u001b[39m (\u001b[0m\u001b[32m3.3.4\u001b[0m\u001b[39m)\u001b[0m\n",
      "  \u001b[32;1m•\u001b[0m \u001b[39mInstalling \u001b[0m\u001b[36mmergedeep\u001b[0m\u001b[39m (\u001b[0m\u001b[32m1.3.4\u001b[0m\u001b[39m)\u001b[0m\n",
      "  \u001b[32;1m•\u001b[0m \u001b[39mInstalling \u001b[0m\u001b[36mpyyaml-env-tag\u001b[0m\u001b[39m (\u001b[0m\u001b[32m0.1\u001b[0m\u001b[39m)\u001b[0m\n",
      "  \u001b[32;1m•\u001b[0m \u001b[39mInstalling \u001b[0m\u001b[36mwatchdog\u001b[0m\u001b[39m (\u001b[0m\u001b[32m2.1.2\u001b[0m\u001b[39m)\u001b[0m\n",
      "\u001b[5A\u001b[0J  \u001b[32;1m•\u001b[0m \u001b[39mInstalling \u001b[0m\u001b[36mghp-import\u001b[0m\u001b[39m (\u001b[0m\u001b[32m2.0.1\u001b[0m\u001b[39m)\u001b[0m\n",
      "  \u001b[32;1m•\u001b[0m \u001b[39mInstalling \u001b[0m\u001b[36mimportlib-metadata\u001b[0m\u001b[39m (\u001b[0m\u001b[32m4.5.0\u001b[0m\u001b[39m)\u001b[0m\n",
      "  \u001b[32;1m•\u001b[0m \u001b[39mInstalling \u001b[0m\u001b[36mmarkdown\u001b[0m\u001b[39m (\u001b[0m\u001b[32m3.3.4\u001b[0m\u001b[39m)\u001b[0m\n",
      "  \u001b[32;1m•\u001b[0m \u001b[39mInstalling \u001b[0m\u001b[36mmergedeep\u001b[0m\u001b[39m (\u001b[0m\u001b[32m1.3.4\u001b[0m\u001b[39m)\u001b[0m\n",
      "  \u001b[32;1m•\u001b[0m \u001b[39mInstalling \u001b[0m\u001b[36mpyyaml-env-tag\u001b[0m\u001b[39m (\u001b[0m\u001b[32m0.1\u001b[0m\u001b[39m)\u001b[0m\n",
      "  \u001b[32;1m•\u001b[0m \u001b[39mInstalling \u001b[0m\u001b[36mwatchdog\u001b[0m\u001b[39m (\u001b[0m\u001b[32m2.1.2\u001b[0m\u001b[39m)\u001b[0m\n",
      "  \u001b[34;1m•\u001b[0m \u001b[39mInstalling \u001b[0m\u001b[36mmkdocs\u001b[0m\u001b[39m (\u001b[0m\u001b[39;1m1.2.1\u001b[0m\u001b[39m)\u001b[0m: \u001b[34mPending...\u001b[0m\n",
      "\u001b[1A\u001b[0J  \u001b[34;1m•\u001b[0m \u001b[39mInstalling \u001b[0m\u001b[36mmkdocs\u001b[0m\u001b[39m (\u001b[0m\u001b[39;1m1.2.1\u001b[0m\u001b[39m)\u001b[0m: \u001b[34mDownloading...\u001b[0m \u001b[1m0%\u001b[0m\n",
      "\u001b[1A\u001b[0J  \u001b[34;1m•\u001b[0m \u001b[39mInstalling \u001b[0m\u001b[36mmkdocs\u001b[0m\u001b[39m (\u001b[0m\u001b[39;1m1.2.1\u001b[0m\u001b[39m)\u001b[0m: \u001b[34mDownloading...\u001b[0m \u001b[1m10%\u001b[0m\n",
      "\u001b[1A\u001b[0J  \u001b[34;1m•\u001b[0m \u001b[39mInstalling \u001b[0m\u001b[36mmkdocs\u001b[0m\u001b[39m (\u001b[0m\u001b[39;1m1.2.1\u001b[0m\u001b[39m)\u001b[0m: \u001b[34mDownloading...\u001b[0m \u001b[1m40%\u001b[0m\n",
      "\u001b[1A\u001b[0J  \u001b[34;1m•\u001b[0m \u001b[39mInstalling \u001b[0m\u001b[36mmkdocs\u001b[0m\u001b[39m (\u001b[0m\u001b[39;1m1.2.1\u001b[0m\u001b[39m)\u001b[0m: \u001b[34mDownloading...\u001b[0m \u001b[1m70%\u001b[0m\n",
      "\u001b[1A\u001b[0J  \u001b[34;1m•\u001b[0m \u001b[39mInstalling \u001b[0m\u001b[36mmkdocs\u001b[0m\u001b[39m (\u001b[0m\u001b[39;1m1.2.1\u001b[0m\u001b[39m)\u001b[0m: \u001b[34mDownloading...\u001b[0m \u001b[1m100%\u001b[0m\n",
      "\u001b[1A\u001b[0J  \u001b[34;1m•\u001b[0m \u001b[39mInstalling \u001b[0m\u001b[36mmkdocs\u001b[0m\u001b[39m (\u001b[0m\u001b[39;1m1.2.1\u001b[0m\u001b[39m)\u001b[0m: \u001b[34mDownloading...\u001b[0m \u001b[1m100%\u001b[0m\n",
      "\u001b[1A\u001b[0J  \u001b[34;1m•\u001b[0m \u001b[39mInstalling \u001b[0m\u001b[36mmkdocs\u001b[0m\u001b[39m (\u001b[0m\u001b[39;1m1.2.1\u001b[0m\u001b[39m)\u001b[0m: \u001b[34mInstalling...\u001b[0m\n",
      "\u001b[1A\u001b[0J  \u001b[32;1m•\u001b[0m \u001b[39mInstalling \u001b[0m\u001b[36mmkdocs\u001b[0m\u001b[39m (\u001b[0m\u001b[32m1.2.1\u001b[0m\u001b[39m)\u001b[0m\n",
      "  \u001b[34;1m•\u001b[0m \u001b[39mInstalling \u001b[0m\u001b[36mmkdocs-autorefs\u001b[0m\u001b[39m (\u001b[0m\u001b[39;1m0.2.1\u001b[0m\u001b[39m)\u001b[0m: \u001b[34mPending...\u001b[0m\n",
      "  \u001b[34;1m•\u001b[0m \u001b[39mInstalling \u001b[0m\u001b[36mmkdocs-material-extensions\u001b[0m\u001b[39m (\u001b[0m\u001b[39;1m1.0.1\u001b[0m\u001b[39m)\u001b[0m: \u001b[34mPending...\u001b[0m\n",
      "  \u001b[34;1m•\u001b[0m \u001b[39mInstalling \u001b[0m\u001b[36mpymdown-extensions\u001b[0m\u001b[39m (\u001b[0m\u001b[39;1m8.2\u001b[0m\u001b[39m)\u001b[0m: \u001b[34mPending...\u001b[0m\n",
      "\u001b[2A\u001b[0J  \u001b[34;1m•\u001b[0m \u001b[39mInstalling \u001b[0m\u001b[36mpymdown-extensions\u001b[0m\u001b[39m (\u001b[0m\u001b[39;1m8.2\u001b[0m\u001b[39m)\u001b[0m: \u001b[34mPending...\u001b[0m\n",
      "\u001b[1A\u001b[0J  \u001b[34;1m•\u001b[0m \u001b[39mInstalling \u001b[0m\u001b[36mmkdocs-material-extensions\u001b[0m\u001b[39m (\u001b[0m\u001b[39;1m1.0.1\u001b[0m\u001b[39m)\u001b[0m: \u001b[34mInstalling...\u001b[0m\n",
      "  \u001b[34;1m•\u001b[0m \u001b[39mInstalling \u001b[0m\u001b[36mpymdown-extensions\u001b[0m\u001b[39m (\u001b[0m\u001b[39;1m8.2\u001b[0m\u001b[39m)\u001b[0m: \u001b[34mPending...\u001b[0m\n",
      "\u001b[1A\u001b[0J  \u001b[34;1m•\u001b[0m \u001b[39mInstalling \u001b[0m\u001b[36mpymdown-extensions\u001b[0m\u001b[39m (\u001b[0m\u001b[39;1m8.2\u001b[0m\u001b[39m)\u001b[0m: \u001b[34mInstalling...\u001b[0m\n",
      "\u001b[3A\u001b[0J  \u001b[34;1m•\u001b[0m \u001b[39mInstalling \u001b[0m\u001b[36mmkdocs-material-extensions\u001b[0m\u001b[39m (\u001b[0m\u001b[39;1m1.0.1\u001b[0m\u001b[39m)\u001b[0m: \u001b[34mInstalling...\u001b[0m\n",
      "  \u001b[34;1m•\u001b[0m \u001b[39mInstalling \u001b[0m\u001b[36mpymdown-extensions\u001b[0m\u001b[39m (\u001b[0m\u001b[39;1m8.2\u001b[0m\u001b[39m)\u001b[0m: \u001b[34mInstalling...\u001b[0m\n",
      "\u001b[2A\u001b[0J  \u001b[34;1m•\u001b[0m \u001b[39mInstalling \u001b[0m\u001b[36mmkdocs-autorefs\u001b[0m\u001b[39m (\u001b[0m\u001b[39;1m0.2.1\u001b[0m\u001b[39m)\u001b[0m: \u001b[34mInstalling...\u001b[0m\n",
      "  \u001b[34;1m•\u001b[0m \u001b[39mInstalling \u001b[0m\u001b[36mmkdocs-material-extensions\u001b[0m\u001b[39m (\u001b[0m\u001b[39;1m1.0.1\u001b[0m\u001b[39m)\u001b[0m: \u001b[34mInstalling...\u001b[0m\n",
      "  \u001b[34;1m•\u001b[0m \u001b[39mInstalling \u001b[0m\u001b[36mpymdown-extensions\u001b[0m\u001b[39m (\u001b[0m\u001b[39;1m8.2\u001b[0m\u001b[39m)\u001b[0m: \u001b[34mInstalling...\u001b[0m\n"
     ]
    },
    {
     "name": "stdout",
     "output_type": "stream",
     "text": [
      "\u001b[2A\u001b[0J  \u001b[34;1m•\u001b[0m \u001b[39mInstalling \u001b[0m\u001b[36mpymdown-extensions\u001b[0m\u001b[39m (\u001b[0m\u001b[39;1m8.2\u001b[0m\u001b[39m)\u001b[0m: \u001b[34mInstalling...\u001b[0m\n",
      "\u001b[1A\u001b[0J  \u001b[32;1m•\u001b[0m \u001b[39mInstalling \u001b[0m\u001b[36mmkdocs-material-extensions\u001b[0m\u001b[39m (\u001b[0m\u001b[32m1.0.1\u001b[0m\u001b[39m)\u001b[0m\n",
      "  \u001b[34;1m•\u001b[0m \u001b[39mInstalling \u001b[0m\u001b[36mpymdown-extensions\u001b[0m\u001b[39m (\u001b[0m\u001b[39;1m8.2\u001b[0m\u001b[39m)\u001b[0m: \u001b[34mInstalling...\u001b[0m\n",
      "\u001b[3A\u001b[0J  \u001b[32;1m•\u001b[0m \u001b[39mInstalling \u001b[0m\u001b[36mmkdocs-material-extensions\u001b[0m\u001b[39m (\u001b[0m\u001b[32m1.0.1\u001b[0m\u001b[39m)\u001b[0m\n",
      "  \u001b[34;1m•\u001b[0m \u001b[39mInstalling \u001b[0m\u001b[36mpymdown-extensions\u001b[0m\u001b[39m (\u001b[0m\u001b[39;1m8.2\u001b[0m\u001b[39m)\u001b[0m: \u001b[34mInstalling...\u001b[0m\n",
      "\u001b[2A\u001b[0J  \u001b[32;1m•\u001b[0m \u001b[39mInstalling \u001b[0m\u001b[36mmkdocs-autorefs\u001b[0m\u001b[39m (\u001b[0m\u001b[32m0.2.1\u001b[0m\u001b[39m)\u001b[0m\n",
      "  \u001b[32;1m•\u001b[0m \u001b[39mInstalling \u001b[0m\u001b[36mmkdocs-material-extensions\u001b[0m\u001b[39m (\u001b[0m\u001b[32m1.0.1\u001b[0m\u001b[39m)\u001b[0m\n",
      "  \u001b[34;1m•\u001b[0m \u001b[39mInstalling \u001b[0m\u001b[36mpymdown-extensions\u001b[0m\u001b[39m (\u001b[0m\u001b[39;1m8.2\u001b[0m\u001b[39m)\u001b[0m: \u001b[34mInstalling...\u001b[0m\n",
      "\u001b[1A\u001b[0J  \u001b[32;1m•\u001b[0m \u001b[39mInstalling \u001b[0m\u001b[36mpymdown-extensions\u001b[0m\u001b[39m (\u001b[0m\u001b[32m8.2\u001b[0m\u001b[39m)\u001b[0m\n",
      "  \u001b[34;1m•\u001b[0m \u001b[39mInstalling \u001b[0m\u001b[36mmkdocs-material\u001b[0m\u001b[39m (\u001b[0m\u001b[39;1m7.1.8\u001b[0m\u001b[39m)\u001b[0m: \u001b[34mPending...\u001b[0m\n",
      "  \u001b[34;1m•\u001b[0m \u001b[39mInstalling \u001b[0m\u001b[36mmkdocstrings\u001b[0m\u001b[39m (\u001b[0m\u001b[39;1m0.15.2\u001b[0m\u001b[39m)\u001b[0m: \u001b[34mPending...\u001b[0m\n",
      "\u001b[1A\u001b[0J  \u001b[34;1m•\u001b[0m \u001b[39mInstalling \u001b[0m\u001b[36mmkdocstrings\u001b[0m\u001b[39m (\u001b[0m\u001b[39;1m0.15.2\u001b[0m\u001b[39m)\u001b[0m: \u001b[34mDownloading...\u001b[0m \u001b[1m0%\u001b[0m\n",
      "\u001b[1A\u001b[0J  \u001b[34;1m•\u001b[0m \u001b[39mInstalling \u001b[0m\u001b[36mmkdocstrings\u001b[0m\u001b[39m (\u001b[0m\u001b[39;1m0.15.2\u001b[0m\u001b[39m)\u001b[0m: \u001b[34mDownloading...\u001b[0m \u001b[1m100%\u001b[0m\n",
      "\u001b[1A\u001b[0J  \u001b[34;1m•\u001b[0m \u001b[39mInstalling \u001b[0m\u001b[36mmkdocstrings\u001b[0m\u001b[39m (\u001b[0m\u001b[39;1m0.15.2\u001b[0m\u001b[39m)\u001b[0m: \u001b[34mDownloading...\u001b[0m \u001b[1m100%\u001b[0m\n",
      "\u001b[1A\u001b[0J  \u001b[34;1m•\u001b[0m \u001b[39mInstalling \u001b[0m\u001b[36mmkdocstrings\u001b[0m\u001b[39m (\u001b[0m\u001b[39;1m0.15.2\u001b[0m\u001b[39m)\u001b[0m: \u001b[34mInstalling...\u001b[0m\n",
      "\u001b[2A\u001b[0J  \u001b[34;1m•\u001b[0m \u001b[39mInstalling \u001b[0m\u001b[36mmkdocstrings\u001b[0m\u001b[39m (\u001b[0m\u001b[39;1m0.15.2\u001b[0m\u001b[39m)\u001b[0m: \u001b[34mInstalling...\u001b[0m\n",
      "\u001b[1A\u001b[0J  \u001b[34;1m•\u001b[0m \u001b[39mInstalling \u001b[0m\u001b[36mmkdocs-material\u001b[0m\u001b[39m (\u001b[0m\u001b[39;1m7.1.8\u001b[0m\u001b[39m)\u001b[0m: \u001b[34mDownloading...\u001b[0m \u001b[1m0%\u001b[0m\n",
      "  \u001b[34;1m•\u001b[0m \u001b[39mInstalling \u001b[0m\u001b[36mmkdocstrings\u001b[0m\u001b[39m (\u001b[0m\u001b[39;1m0.15.2\u001b[0m\u001b[39m)\u001b[0m: \u001b[34mInstalling...\u001b[0m\n",
      "\u001b[2A\u001b[0J  \u001b[34;1m•\u001b[0m \u001b[39mInstalling \u001b[0m\u001b[36mmkdocstrings\u001b[0m\u001b[39m (\u001b[0m\u001b[39;1m0.15.2\u001b[0m\u001b[39m)\u001b[0m: \u001b[34mInstalling...\u001b[0m\n",
      "\u001b[1A\u001b[0J  \u001b[34;1m•\u001b[0m \u001b[39mInstalling \u001b[0m\u001b[36mmkdocs-material\u001b[0m\u001b[39m (\u001b[0m\u001b[39;1m7.1.8\u001b[0m\u001b[39m)\u001b[0m: \u001b[34mDownloading...\u001b[0m \u001b[1m30%\u001b[0m\n",
      "  \u001b[34;1m•\u001b[0m \u001b[39mInstalling \u001b[0m\u001b[36mmkdocstrings\u001b[0m\u001b[39m (\u001b[0m\u001b[39;1m0.15.2\u001b[0m\u001b[39m)\u001b[0m: \u001b[34mInstalling...\u001b[0m\n",
      "\u001b[2A\u001b[0J  \u001b[34;1m•\u001b[0m \u001b[39mInstalling \u001b[0m\u001b[36mmkdocstrings\u001b[0m\u001b[39m (\u001b[0m\u001b[39;1m0.15.2\u001b[0m\u001b[39m)\u001b[0m: \u001b[34mInstalling...\u001b[0m\n",
      "\u001b[1A\u001b[0J  \u001b[34;1m•\u001b[0m \u001b[39mInstalling \u001b[0m\u001b[36mmkdocs-material\u001b[0m\u001b[39m (\u001b[0m\u001b[39;1m7.1.8\u001b[0m\u001b[39m)\u001b[0m: \u001b[34mDownloading...\u001b[0m \u001b[1m80%\u001b[0m\n",
      "  \u001b[34;1m•\u001b[0m \u001b[39mInstalling \u001b[0m\u001b[36mmkdocstrings\u001b[0m\u001b[39m (\u001b[0m\u001b[39;1m0.15.2\u001b[0m\u001b[39m)\u001b[0m: \u001b[34mInstalling...\u001b[0m\n",
      "\u001b[2A\u001b[0J  \u001b[34;1m•\u001b[0m \u001b[39mInstalling \u001b[0m\u001b[36mmkdocstrings\u001b[0m\u001b[39m (\u001b[0m\u001b[39;1m0.15.2\u001b[0m\u001b[39m)\u001b[0m: \u001b[34mInstalling...\u001b[0m\n",
      "\u001b[1A\u001b[0J  \u001b[34;1m•\u001b[0m \u001b[39mInstalling \u001b[0m\u001b[36mmkdocs-material\u001b[0m\u001b[39m (\u001b[0m\u001b[39;1m7.1.8\u001b[0m\u001b[39m)\u001b[0m: \u001b[34mDownloading...\u001b[0m \u001b[1m100%\u001b[0m\n",
      "  \u001b[34;1m•\u001b[0m \u001b[39mInstalling \u001b[0m\u001b[36mmkdocstrings\u001b[0m\u001b[39m (\u001b[0m\u001b[39;1m0.15.2\u001b[0m\u001b[39m)\u001b[0m: \u001b[34mInstalling...\u001b[0m\n",
      "\u001b[2A\u001b[0J  \u001b[34;1m•\u001b[0m \u001b[39mInstalling \u001b[0m\u001b[36mmkdocstrings\u001b[0m\u001b[39m (\u001b[0m\u001b[39;1m0.15.2\u001b[0m\u001b[39m)\u001b[0m: \u001b[34mInstalling...\u001b[0m\n",
      "\u001b[1A\u001b[0J  \u001b[34;1m•\u001b[0m \u001b[39mInstalling \u001b[0m\u001b[36mmkdocs-material\u001b[0m\u001b[39m (\u001b[0m\u001b[39;1m7.1.8\u001b[0m\u001b[39m)\u001b[0m: \u001b[34mDownloading...\u001b[0m \u001b[1m100%\u001b[0m\n",
      "  \u001b[34;1m•\u001b[0m \u001b[39mInstalling \u001b[0m\u001b[36mmkdocstrings\u001b[0m\u001b[39m (\u001b[0m\u001b[39;1m0.15.2\u001b[0m\u001b[39m)\u001b[0m: \u001b[34mInstalling...\u001b[0m\n",
      "\u001b[2A\u001b[0J  \u001b[34;1m•\u001b[0m \u001b[39mInstalling \u001b[0m\u001b[36mmkdocstrings\u001b[0m\u001b[39m (\u001b[0m\u001b[39;1m0.15.2\u001b[0m\u001b[39m)\u001b[0m: \u001b[34mInstalling...\u001b[0m\n",
      "\u001b[1A\u001b[0J  \u001b[34;1m•\u001b[0m \u001b[39mInstalling \u001b[0m\u001b[36mmkdocs-material\u001b[0m\u001b[39m (\u001b[0m\u001b[39;1m7.1.8\u001b[0m\u001b[39m)\u001b[0m: \u001b[34mInstalling...\u001b[0m\n",
      "  \u001b[34;1m•\u001b[0m \u001b[39mInstalling \u001b[0m\u001b[36mmkdocstrings\u001b[0m\u001b[39m (\u001b[0m\u001b[39;1m0.15.2\u001b[0m\u001b[39m)\u001b[0m: \u001b[34mInstalling...\u001b[0m\n",
      "\u001b[1A\u001b[0J  \u001b[32;1m•\u001b[0m \u001b[39mInstalling \u001b[0m\u001b[36mmkdocstrings\u001b[0m\u001b[39m (\u001b[0m\u001b[32m0.15.2\u001b[0m\u001b[39m)\u001b[0m\n",
      "\u001b[2A\u001b[0J  \u001b[32;1m•\u001b[0m \u001b[39mInstalling \u001b[0m\u001b[36mmkdocstrings\u001b[0m\u001b[39m (\u001b[0m\u001b[32m0.15.2\u001b[0m\u001b[39m)\u001b[0m\n",
      "\u001b[1A\u001b[0J  \u001b[32;1m•\u001b[0m \u001b[39mInstalling \u001b[0m\u001b[36mmkdocs-material\u001b[0m\u001b[39m (\u001b[0m\u001b[32m7.1.8\u001b[0m\u001b[39m)\u001b[0m\n",
      "  \u001b[32;1m•\u001b[0m \u001b[39mInstalling \u001b[0m\u001b[36mmkdocstrings\u001b[0m\u001b[39m (\u001b[0m\u001b[32m0.15.2\u001b[0m\u001b[39m)\u001b[0m\n",
      "The following packages are already present in the pyproject.toml and will be skipped:\n",
      "\n",
      "  • \u001b[36mpytkdocs\u001b[0m\n",
      "\n",
      "If you want to update it to the latest compatible version, you can use `poetry update package`.\n",
      "If you prefer to upgrade it to the latest available version, you can use `poetry add package@latest`.\n",
      "\n",
      "Nothing to add.\n"
     ]
    }
   ],
   "source": [
    "# These install mkdocs, the mkdocstrings add-on for parsing doc strings and the material theme\n",
    "! poetry add -D mkdocs mkdocstrings mkdocs-material\n",
    "# This installs the numpy-style for pytkdocs so mkdocs can parse our numpy-doc style doc strings\n",
    "! poetry add -D pytkdocs -E numpy-style"
   ]
  },
  {
   "cell_type": "markdown",
   "id": "21c67e8d",
   "metadata": {},
   "source": [
    "Now that we have `mkdocs` installed, we could initialize some docs"
   ]
  },
  {
   "cell_type": "code",
   "execution_count": 21,
   "id": "79bc73c4",
   "metadata": {},
   "outputs": [
    {
     "name": "stdout",
     "output_type": "stream",
     "text": [
      "INFO     -  Writing config file: ./mkdocs.yml\r\n",
      "INFO     -  Writing initial docs: ./docs/index.md\r\n"
     ]
    }
   ],
   "source": [
    "! poetry run mkdocs new ."
   ]
  },
  {
   "cell_type": "code",
   "execution_count": 23,
   "id": "eeda9fe7",
   "metadata": {},
   "outputs": [
    {
     "name": "stdout",
     "output_type": "stream",
     "text": [
      "README.rst     mkdocs.yml     pyproject.toml \u001b[34mtests\u001b[m\u001b[m\r\n",
      "\u001b[34mdocs\u001b[m\u001b[m           poetry.lock    \u001b[34msrc\u001b[m\u001b[m\r\n"
     ]
    }
   ],
   "source": [
    "! ls"
   ]
  },
  {
   "cell_type": "markdown",
   "id": "37b752d2",
   "metadata": {},
   "source": [
    "Now we have a `mkdocs.yml` file, and a `docs` directory. "
   ]
  },
  {
   "cell_type": "code",
   "execution_count": 24,
   "id": "eece4515",
   "metadata": {},
   "outputs": [
    {
     "name": "stdout",
     "output_type": "stream",
     "text": [
      "index.md\r\n"
     ]
    }
   ],
   "source": [
    "! ls docs"
   ]
  },
  {
   "cell_type": "markdown",
   "id": "049d98d9",
   "metadata": {},
   "source": [
    "Easy! Let's write a function. "
   ]
  },
  {
   "cell_type": "code",
   "execution_count": 29,
   "id": "8f09dd4d",
   "metadata": {},
   "outputs": [
    {
     "name": "stdout",
     "output_type": "stream",
     "text": [
      "Writing src/demo/demo.py\n"
     ]
    }
   ],
   "source": [
    "%%writefile src/demo/demo.py\n",
    "import numpy as np\n",
    "def sin(x):\n",
    "    \"\"\"Function to create sin(x)\n",
    "    \n",
    "    Parameters\n",
    "    ----------\n",
    "    x : np.ndarray, float \n",
    "        Input x values\n",
    "    \n",
    "    Returns\n",
    "    -------\n",
    "    result : np.ndarray\n",
    "        Sine of x.\n",
    "    \"\"\"\n",
    "    return np.sin(x)"
   ]
  },
  {
   "cell_type": "markdown",
   "id": "7a62eb92",
   "metadata": {},
   "source": [
    "Now let's write a test!"
   ]
  },
  {
   "cell_type": "code",
   "execution_count": 39,
   "id": "f5fdbda4",
   "metadata": {},
   "outputs": [
    {
     "name": "stdout",
     "output_type": "stream",
     "text": [
      "Writing tests/test_sin.py\n"
     ]
    }
   ],
   "source": [
    "%%writefile tests/test_sin.py\n",
    "import numpy as np\n",
    "from demo.demo import sin\n",
    "def test_sin():\n",
    "    \"\"\"Test that `sin` produces the correct result\"\"\"\n",
    "    assert sin(0) == 0\n",
    "    assert sin(np.pi/2) == 1    "
   ]
  },
  {
   "cell_type": "markdown",
   "id": "0073518b",
   "metadata": {},
   "source": [
    "Now we can run `pytest`, and check out tests pass! (Note, you might have to add pytest as a development dependency!)"
   ]
  },
  {
   "cell_type": "code",
   "execution_count": 41,
   "id": "2825855b",
   "metadata": {},
   "outputs": [
    {
     "name": "stdout",
     "output_type": "stream",
     "text": [
      "\u001b[1m============================= test session starts ==============================\u001b[0m\n",
      "platform darwin -- Python 3.8.7, pytest-5.4.3, py-1.10.0, pluggy-0.13.1\n",
      "rootdir: /Users/ch/repos/astronomy_workflow/docs/notebooks/3.0-building/demo/demo\n",
      "plugins: anyio-3.1.0\n",
      "collected 0 items / 2 errors                                                   \u001b[0m\u001b[1m\n",
      "\n",
      "==================================== ERRORS ====================================\n",
      "\u001b[31m\u001b[1m_____________________ ERROR collecting tests/test_demo.py ______________________\u001b[0m\n",
      "\u001b[31mImportError while importing test module '/Users/ch/repos/astronomy_workflow/docs/notebooks/3.0-building/demo/demo/tests/test_demo.py'.\n",
      "Hint: make sure your test modules/packages have valid Python names.\n",
      "Traceback:\n",
      "tests/test_demo.py:1: in <module>\n",
      "    from demo import __version__\n",
      "E   ModuleNotFoundError: No module named 'demo'\u001b[0m\n",
      "\u001b[31m\u001b[1m______________________ ERROR collecting tests/test_sin.py ______________________\u001b[0m\n",
      "\u001b[31mImportError while importing test module '/Users/ch/repos/astronomy_workflow/docs/notebooks/3.0-building/demo/demo/tests/test_sin.py'.\n",
      "Hint: make sure your test modules/packages have valid Python names.\n",
      "Traceback:\n",
      "tests/test_sin.py:2: in <module>\n",
      "    from demo.demo import sin\n",
      "E   ModuleNotFoundError: No module named 'demo'\u001b[0m\n",
      "=========================== short test summary info ============================\n",
      "ERROR tests/test_demo.py\n",
      "ERROR tests/test_sin.py\n",
      "!!!!!!!!!!!!!!!!!!! Interrupted: 2 errors during collection !!!!!!!!!!!!!!!!!!!!\n",
      "\u001b[31m============================== \u001b[31m\u001b[1m2 errors\u001b[0m\u001b[31m in 5.09s\u001b[0m\u001b[31m ===============================\u001b[0m\n"
     ]
    }
   ],
   "source": [
    "! poetry run pytest src/ tests/"
   ]
  },
  {
   "cell_type": "markdown",
   "id": "f609563e",
   "metadata": {},
   "source": [
    "Uh oh, no module named demo?\n",
    "\n",
    "We never actually installed our own package! Let's do that now"
   ]
  },
  {
   "cell_type": "code",
   "execution_count": 42,
   "id": "3ef1fefc",
   "metadata": {},
   "outputs": [
    {
     "name": "stdout",
     "output_type": "stream",
     "text": [
      "\u001b[34mInstalling dependencies from lock file\u001b[0m\n",
      "\n",
      "No dependencies to install or update\n",
      "\n",
      "\u001b[1mInstalling\u001b[0m the current project: \u001b[36mdemo\u001b[0m (\u001b[39;1m0.1.0\u001b[0\u001b[1mInstalling\u001b[0m the current project: \u001b[36mdemo\u001b[0m (\u001b[32m0.1.0\u001b[0m)\n"
     ]
    }
   ],
   "source": [
    "! poetry install"
   ]
  },
  {
   "cell_type": "markdown",
   "id": "31e9dda7",
   "metadata": {},
   "source": [
    "Now we've installed our package, our tests should pass."
   ]
  },
  {
   "cell_type": "code",
   "execution_count": 43,
   "id": "e9e7f2b9",
   "metadata": {},
   "outputs": [
    {
     "name": "stdout",
     "output_type": "stream",
     "text": [
      "\u001b[1m============================= test session starts ==============================\u001b[0m\n",
      "platform darwin -- Python 3.8.7, pytest-5.4.3, py-1.10.0, pluggy-0.13.1\n",
      "rootdir: /Users/ch/repos/astronomy_workflow/docs/notebooks/3.0-building/demo/demo\n",
      "plugins: anyio-3.1.0\n",
      "collected 2 items                                                              \u001b[0m\n",
      "\n",
      "tests/test_demo.py \u001b[32m.\u001b[0m\u001b[32m                                                     [ 50%]\u001b[0m\n",
      "tests/test_sin.py \u001b[32m.\u001b[0m\u001b[32m                                                      [100%]\u001b[0m\n",
      "\n",
      "\u001b[32m============================== \u001b[32m\u001b[1m2 passed\u001b[0m\u001b[32m in 0.08s\u001b[0m\u001b[32m ===============================\u001b[0m\n"
     ]
    }
   ],
   "source": [
    "! poetry run pytest src/ tests/"
   ]
  },
  {
   "cell_type": "markdown",
   "id": "3e29d02e",
   "metadata": {},
   "source": [
    "They do! (Note there is a default test that was initialized by `poetry`, which checks the version number is 0.1.0!)"
   ]
  },
  {
   "cell_type": "markdown",
   "id": "ee4d3edf",
   "metadata": {},
   "source": [
    "Now we have a package with a module, and a passing test, let's create our documentation. "
   ]
  },
  {
   "cell_type": "code",
   "execution_count": 44,
   "id": "d20c3686",
   "metadata": {},
   "outputs": [
    {
     "name": "stdout",
     "output_type": "stream",
     "text": [
      "Writing docs/demo.md\n"
     ]
    }
   ],
   "source": [
    "%%writefile docs/demo.md\n",
    "# Documentation for `demo`\n",
    "::: demo.demo\n",
    "    handler: python\n",
    "    selection:\n",
    "      members:\n",
    "        - sin\n",
    "    rendering:\n",
    "      show_root_heading: false\n",
    "      show_source: false"
   ]
  },
  {
   "cell_type": "markdown",
   "id": "7b63481d",
   "metadata": {},
   "source": [
    "We're going to need to alter the `mkdocs.yaml` file, right now it looks like this"
   ]
  },
  {
   "cell_type": "code",
   "execution_count": 48,
   "id": "f75d39b2",
   "metadata": {},
   "outputs": [
    {
     "name": "stdout",
     "output_type": "stream",
     "text": [
      "site_name: My Docs\r\n",
      "site_url: https://example.com/\r\n"
     ]
    }
   ],
   "source": [
    "! head mkdocs.yml"
   ]
  },
  {
   "cell_type": "markdown",
   "id": "f61bc3f2",
   "metadata": {},
   "source": [
    "Let's write the following out to `mkdocs.yaml`, which will set up our default `index.md` as the landing page, our new `demo.md` file, will use the `material` theme, and will automatically document our docstrings!"
   ]
  },
  {
   "cell_type": "code",
   "execution_count": 54,
   "id": "2f1a2f55",
   "metadata": {},
   "outputs": [
    {
     "name": "stdout",
     "output_type": "stream",
     "text": [
      "Overwriting mkdocs.yml\n"
     ]
    }
   ],
   "source": [
    "%%writefile mkdocs.yml\n",
    "site_name: PSFMachine\n",
    "nav:\n",
    "    - Home: index.md\n",
    "    - Demo: demo.md\n",
    "theme:\n",
    "  name: \"material\"\n",
    "plugins:\n",
    "  - search\n",
    "  - mkdocstrings:\n",
    "      default_handler: python\n",
    "      handlers:\n",
    "        python:\n",
    "          selection:\n",
    "            docstring_style: \"numpy\"\n",
    "          rendering:\n",
    "            show_source: false\n",
    "      custom_templates: templates\n",
    "      watch:\n",
    "        - src/demo"
   ]
  },
  {
   "cell_type": "markdown",
   "id": "2b24844c",
   "metadata": {},
   "source": [
    "We can now test our docs using `mkdocs serve`, which will serve the documentation to a local host."
   ]
  },
  {
   "cell_type": "code",
   "execution_count": 56,
   "id": "4d27f2ee",
   "metadata": {},
   "outputs": [
    {
     "name": "stdout",
     "output_type": "stream",
     "text": [
      "INFO     -  Building documentation...\n",
      "\u001b[33mWARNING  -  \u001b[0mConfig value: 'site_url'. Warning: This option is now required. Set\n",
      "            to a valid URL or an empty string to avoid an error in a future\n",
      "            release.\n",
      "\u001b[33mWARNING  -  \u001b[0mConfig value: 'site_url'. Warning: The 'use_directory_urls' option\n",
      "            has been disabled because 'site_url' contains an empty value. Either\n",
      "            define a valid URL for 'site_url' or set 'use_directory_urls' to\n",
      "            False.\n",
      "INFO     -  Cleaning site directory\n",
      "INFO     -  Documentation built in 0.40 seconds\n",
      "INFO     -  [18:45:17] Serving on http://127.0.0.1:8000/\n",
      "INFO     -  [18:45:20] Browser connected: http://127.0.0.1:8000/demo.html\n",
      "^C\n",
      "INFO     -  Shutting down...\n"
     ]
    }
   ],
   "source": [
    "! poetry run mkdocs serve "
   ]
  },
  {
   "cell_type": "markdown",
   "id": "f76dbf11",
   "metadata": {},
   "source": [
    "If you use the cell above you should see something like this, which is the documentation for our function.\n",
    "\n",
    "![Demo docs](figures/demo.png)"
   ]
  },
  {
   "cell_type": "markdown",
   "id": "253fd371",
   "metadata": {},
   "source": [
    "This looks great! If we now wanted to store this on GitHub, we might want a `.gitignore` file to makes sure we don't track everything"
   ]
  },
  {
   "cell_type": "code",
   "execution_count": 59,
   "id": "eba4e12c",
   "metadata": {},
   "outputs": [
    {
     "name": "stdout",
     "output_type": "stream",
     "text": [
      "\u001b[34m.\u001b[m\u001b[m/              \u001b[34m.venv\u001b[m\u001b[m/          mkdocs.yaml     pyproject.toml\r\n",
      "\u001b[34m..\u001b[m\u001b[m/             README.rst      mkdocs.yml      \u001b[34msrc\u001b[m\u001b[m/\r\n",
      "\u001b[34m.pytest_cache\u001b[m\u001b[m/  \u001b[34mdocs\u001b[m\u001b[m/           poetry.lock     \u001b[34mtests\u001b[m\u001b[m/\r\n"
     ]
    }
   ],
   "source": [
    "ls -a"
   ]
  },
  {
   "cell_type": "code",
   "execution_count": 60,
   "id": "6290f9b8",
   "metadata": {},
   "outputs": [
    {
     "name": "stdout",
     "output_type": "stream",
     "text": [
      "Writing .gitignore\n"
     ]
    }
   ],
   "source": [
    "%%writefile .gitignore\n",
    "__pycache__\n",
    ".ipynb_checkpoints\n",
    ".pytest_cache\n",
    "site/\n",
    ".venv"
   ]
  },
  {
   "cell_type": "markdown",
   "id": "a866d500",
   "metadata": {},
   "source": [
    "If we want to track these files with `git` we can use\n",
    "\n",
    "```\n",
    "git init\n",
    "```\n",
    "\n",
    "To start a new repository"
   ]
  },
  {
   "cell_type": "code",
   "execution_count": 61,
   "id": "5e7f2843",
   "metadata": {},
   "outputs": [
    {
     "name": "stdout",
     "output_type": "stream",
     "text": [
      "Initialized empty Git repository in /Users/ch/repos/astronomy_workflow/docs/notebooks/3.0-building/demo/demo/.git/\r\n"
     ]
    }
   ],
   "source": [
    "! git init"
   ]
  },
  {
   "cell_type": "markdown",
   "id": "0fceec86",
   "metadata": {},
   "source": [
    "We can check the status"
   ]
  },
  {
   "cell_type": "code",
   "execution_count": 63,
   "id": "56e47fea",
   "metadata": {},
   "outputs": [
    {
     "name": "stdout",
     "output_type": "stream",
     "text": [
      "On branch master\r\n",
      "\r\n",
      "No commits yet\r\n",
      "\r\n",
      "Untracked files:\r\n",
      "  (use \"git add <file>...\" to include in what will be committed)\r\n",
      "\t\u001b[31m.gitignore\u001b[m\r\n",
      "\t\u001b[31mREADME.rst\u001b[m\r\n",
      "\t\u001b[31mdocs/\u001b[m\r\n",
      "\t\u001b[31mmkdocs.yml\u001b[m\r\n",
      "\t\u001b[31mpoetry.lock\u001b[m\r\n",
      "\t\u001b[31mpyproject.toml\u001b[m\r\n",
      "\t\u001b[31msrc/\u001b[m\r\n",
      "\t\u001b[31mtests/\u001b[m\r\n",
      "\r\n",
      "nothing added to commit but untracked files present (use \"git add\" to track)\r\n"
     ]
    }
   ],
   "source": [
    "! git status"
   ]
  },
  {
   "cell_type": "markdown",
   "id": "606ffdf1",
   "metadata": {},
   "source": [
    "We probably want to track all these files, so we can add them all using "
   ]
  },
  {
   "cell_type": "code",
   "execution_count": 64,
   "id": "34afccc8",
   "metadata": {},
   "outputs": [],
   "source": [
    "! git add ."
   ]
  },
  {
   "cell_type": "markdown",
   "id": "792f2191",
   "metadata": {},
   "source": [
    "Now we can use `git commit` to commit these changes, and version control what we've done so far."
   ]
  },
  {
   "cell_type": "code",
   "execution_count": 65,
   "id": "d2ea9718",
   "metadata": {},
   "outputs": [
    {
     "name": "stdout",
     "output_type": "stream",
     "text": [
      "[master (root-commit) d90c949] first commit\r\n",
      " 12 files changed, 1757 insertions(+)\r\n",
      " create mode 100644 .gitignore\r\n",
      " create mode 100644 README.rst\r\n",
      " create mode 100644 docs/demo.md\r\n",
      " create mode 100644 docs/index.md\r\n",
      " create mode 100644 mkdocs.yml\r\n",
      " create mode 100644 poetry.lock\r\n",
      " create mode 100644 pyproject.toml\r\n",
      " create mode 100644 src/demo/__init__.py\r\n",
      " create mode 100644 src/demo/demo.py\r\n",
      " create mode 100644 tests/__init__.py\r\n",
      " create mode 100644 tests/test_demo.py\r\n",
      " create mode 100644 tests/test_sin.py\r\n"
     ]
    }
   ],
   "source": [
    "! git commit -m 'first commit'"
   ]
  },
  {
   "cell_type": "markdown",
   "id": "610a5f2c",
   "metadata": {},
   "source": [
    "If we wanted to, we could now add a `remote`, and push these changes to GitHub!\n",
    "\n",
    "If we want to push our docs page to our remote GitHub, we would use\n",
    "\n",
    "```\n",
    "poetry run mkdocs gh-deploy\n",
    "```\n",
    "\n",
    "(You might need to tweak mkdocs.yml).\n",
    "\n",
    "Finally, if we wanted to publish our package to PyPI, we would use\n",
    "\n",
    "```\n",
    "poetry publish\n",
    "```"
   ]
  },
  {
   "cell_type": "markdown",
   "id": "87f507f9",
   "metadata": {},
   "source": [
    "If we want to add GitHub actions, we would need to make a workflows directory and add some more `.yml` files. If we want to use `black` or `flake8` we can install them as development dependencies and run them"
   ]
  },
  {
   "cell_type": "code",
   "execution_count": 66,
   "id": "8924952b",
   "metadata": {},
   "outputs": [
    {
     "name": "stdout",
     "output_type": "stream",
     "text": [
      "Using version \u001b[1m^21.6b0\u001b[0m for \u001b[36mblack\u001b[0m\n",
      "\n",
      "\u001b[34mUpdating dependencies\u001b[0m\n",
      "\u001b[2K\u001b[34mResolving dependencies...\u001b[0m \u001b[39;2m(0.9s)\u001b[0m\n",
      "\n",
      "\u001b[34mWriting lock file\u001b[0m\n",
      "\n",
      "\u001b[1mPackage operations\u001b[0m: \u001b[34m6\u001b[0m installs, \u001b[34m0\u001b[0m updates, \u001b[34m0\u001b[0m removals\n",
      "\n",
      "  \u001b[34;1m•\u001b[0m \u001b[39mInstalling \u001b[0m\u001b[36mappdirs\u001b[0m\u001b[39m (\u001b[0m\u001b[39;1m1.4.4\u001b[0m\u001b[39m)\u001b[0m: \u001b[34mPending...\u001b[0m\n",
      "  \u001b[34;1m•\u001b[0m \u001b[39mInstalling \u001b[0m\u001b[36mmypy-extensions\u001b[0m\u001b[39m (\u001b[0m\u001b[39;1m0.4.3\u001b[0m\u001b[39m)\u001b[0m: \u001b[34mPending...\u001b[0m\n",
      "  \u001b[34;1m•\u001b[0m \u001b[39mInstalling \u001b[0m\u001b[36mpathspec\u001b[0m\u001b[39m (\u001b[0m\u001b[39;1m0.8.1\u001b[0m\u001b[39m)\u001b[0m: \u001b[34mPending...\u001b[0m\n",
      "  \u001b[34;1m•\u001b[0m \u001b[39mInstalling \u001b[0m\u001b[36mregex\u001b[0m\u001b[39m (\u001b[0m\u001b[39;1m2021.4.4\u001b[0m\u001b[39m)\u001b[0m: \u001b[34mPending...\u001b[0m\n",
      "  \u001b[34;1m•\u001b[0m \u001b[39mInstalling \u001b[0m\u001b[36mtoml\u001b[0m\u001b[39m (\u001b[0m\u001b[39;1m0.10.2\u001b[0m\u001b[39m)\u001b[0m: \u001b[34mPending...\u001b[0m\n",
      "\u001b[5A\u001b[0J  \u001b[34;1m•\u001b[0m \u001b[39mInstalling \u001b[0m\u001b[36mmypy-extensions\u001b[0m\u001b[39m (\u001b[0m\u001b[39;1m0.4.3\u001b[0m\u001b[39m)\u001b[0m: \u001b[34mPending...\u001b[0m\n",
      "  \u001b[34;1m•\u001b[0m \u001b[39mInstalling \u001b[0m\u001b[36mpathspec\u001b[0m\u001b[39m (\u001b[0m\u001b[39;1m0.8.1\u001b[0m\u001b[39m)\u001b[0m: \u001b[34mPending...\u001b[0m\n",
      "  \u001b[34;1m•\u001b[0m \u001b[39mInstalling \u001b[0m\u001b[36mregex\u001b[0m\u001b[39m (\u001b[0m\u001b[39;1m2021.4.4\u001b[0m\u001b[39m)\u001b[0m: \u001b[34mPending...\u001b[0m\n",
      "  \u001b[34;1m•\u001b[0m \u001b[39mInstalling \u001b[0m\u001b[36mtoml\u001b[0m\u001b[39m (\u001b[0m\u001b[39;1m0.10.2\u001b[0m\u001b[39m)\u001b[0m: \u001b[34mPending...\u001b[0m\n",
      "\u001b[4A\u001b[0J  \u001b[34;1m•\u001b[0m \u001b[39mInstalling \u001b[0m\u001b[36mappdirs\u001b[0m\u001b[39m (\u001b[0m\u001b[39;1m1.4.4\u001b[0m\u001b[39m)\u001b[0m: \u001b[34mInstalling...\u001b[0m\n",
      "  \u001b[34;1m•\u001b[0m \u001b[39mInstalling \u001b[0m\u001b[36mmypy-extensions\u001b[0m\u001b[39m (\u001b[0m\u001b[39;1m0.4.3\u001b[0m\u001b[39m)\u001b[0m: \u001b[34mPending...\u001b[0m\n",
      "  \u001b[34;1m•\u001b[0m \u001b[39mInstalling \u001b[0m\u001b[36mpathspec\u001b[0m\u001b[39m (\u001b[0m\u001b[39;1m0.8.1\u001b[0m\u001b[39m)\u001b[0m: \u001b[34mPending...\u001b[0m\n",
      "  \u001b[34;1m•\u001b[0m \u001b[39mInstalling \u001b[0m\u001b[36mregex\u001b[0m\u001b[39m (\u001b[0m\u001b[39;1m2021.4.4\u001b[0m\u001b[39m)\u001b[0m: \u001b[34mPending...\u001b[0m\n",
      "  \u001b[34;1m•\u001b[0m \u001b[39mInstalling \u001b[0m\u001b[36mtoml\u001b[0m\u001b[39m (\u001b[0m\u001b[39;1m0.10.2\u001b[0m\u001b[39m)\u001b[0m: \u001b[34mPending...\u001b[0m\n",
      "\u001b[1A\u001b[0J  \u001b[34;1m•\u001b[0m \u001b[39mInstalling \u001b[0m\u001b[36mtoml\u001b[0m\u001b[39m (\u001b[0m\u001b[39;1m0.10.2\u001b[0m\u001b[39m)\u001b[0m: \u001b[34mInstalling...\u001b[0m\n",
      "\u001b[2A\u001b[0J  \u001b[34;1m•\u001b[0m \u001b[39mInstalling \u001b[0m\u001b[36mtoml\u001b[0m\u001b[39m (\u001b[0m\u001b[39;1m0.10.2\u001b[0m\u001b[39m)\u001b[0m: \u001b[34mInstalling...\u001b[0m\n",
      "\u001b[1A\u001b[0J  \u001b[34;1m•\u001b[0m \u001b[39mInstalling \u001b[0m\u001b[36mregex\u001b[0m\u001b[39m (\u001b[0m\u001b[39;1m2021.4.4\u001b[0m\u001b[39m)\u001b[0m: \u001b[34mInstalling...\u001b[0m\n",
      "  \u001b[34;1m•\u001b[0m \u001b[39mInstalling \u001b[0m\u001b[36mtoml\u001b[0m\u001b[39m (\u001b[0m\u001b[39;1m0.10.2\u001b[0m\u001b[39m)\u001b[0m: \u001b[34mInstalling...\u001b[0m\n",
      "\u001b[4A\u001b[0J  \u001b[34;1m•\u001b[0m \u001b[39mInstalling \u001b[0m\u001b[36mpathspec\u001b[0m\u001b[39m (\u001b[0m\u001b[39;1m0.8.1\u001b[0m\u001b[39m)\u001b[0m: \u001b[34mPending...\u001b[0m\n",
      "  \u001b[34;1m•\u001b[0m \u001b[39mInstalling \u001b[0m\u001b[36mregex\u001b[0m\u001b[39m (\u001b[0m\u001b[39;1m2021.4.4\u001b[0m\u001b[39m)\u001b[0m: \u001b[34mInstalling...\u001b[0m\n",
      "  \u001b[34;1m•\u001b[0m \u001b[39mInstalling \u001b[0m\u001b[36mtoml\u001b[0m\u001b[39m (\u001b[0m\u001b[39;1m0.10.2\u001b[0m\u001b[39m)\u001b[0m: \u001b[34mInstalling...\u001b[0m\n",
      "\u001b[3A\u001b[0J  \u001b[34;1m•\u001b[0m \u001b[39mInstalling \u001b[0m\u001b[36mmypy-extensions\u001b[0m\u001b[39m (\u001b[0m\u001b[39;1m0.4.3\u001b[0m\u001b[39m)\u001b[0m: \u001b[34mInstalling...\u001b[0m\n",
      "  \u001b[34;1m•\u001b[0m \u001b[39mInstalling \u001b[0m\u001b[36mpathspec\u001b[0m\u001b[39m (\u001b[0m\u001b[39;1m0.8.1\u001b[0m\u001b[39m)\u001b[0m: \u001b[34mPending...\u001b[0m\n",
      "  \u001b[34;1m•\u001b[0m \u001b[39mInstalling \u001b[0m\u001b[36mregex\u001b[0m\u001b[39m (\u001b[0m\u001b[39;1m2021.4.4\u001b[0m\u001b[39m)\u001b[0m: \u001b[34mInstalling...\u001b[0m\n",
      "  \u001b[34;1m•\u001b[0m \u001b[39mInstalling \u001b[0m\u001b[36mtoml\u001b[0m\u001b[39m (\u001b[0m\u001b[39;1m0.10.2\u001b[0m\u001b[39m)\u001b[0m: \u001b[34mInstalling...\u001b[0m\n",
      "\u001b[3A\u001b[0J  \u001b[34;1m•\u001b[0m \u001b[39mInstalling \u001b[0m\u001b[36mregex\u001b[0m\u001b[39m (\u001b[0m\u001b[39;1m2021.4.4\u001b[0m\u001b[39m)\u001b[0m: \u001b[34mInstalling...\u001b[0m\n",
      "  \u001b[34;1m•\u001b[0m \u001b[39mInstalling \u001b[0m\u001b[36mtoml\u001b[0m\u001b[39m (\u001b[0m\u001b[39;1m0.10.2\u001b[0m\u001b[39m)\u001b[0m: \u001b[34mInstalling...\u001b[0m\n",
      "\u001b[2A\u001b[0J  \u001b[34;1m•\u001b[0m \u001b[39mInstalling \u001b[0m\u001b[36mpathspec\u001b[0m\u001b[39m (\u001b[0m\u001b[39;1m0.8.1\u001b[0m\u001b[39m)\u001b[0m: \u001b[34mInstalling...\u001b[0m\n",
      "  \u001b[34;1m•\u001b[0m \u001b[39mInstalling \u001b[0m\u001b[36mregex\u001b[0m\u001b[39m (\u001b[0m\u001b[39;1m2021.4.4\u001b[0m\u001b[39m)\u001b[0m: \u001b[34mInstalling...\u001b[0m\n",
      "  \u001b[34;1m•\u001b[0m \u001b[39mInstalling \u001b[0m\u001b[36mtoml\u001b[0m\u001b[39m (\u001b[0m\u001b[39;1m0.10.2\u001b[0m\u001b[39m)\u001b[0m: \u001b[34mInstalling...\u001b[0m\n",
      "\u001b[1A\u001b[0J  \u001b[32;1m•\u001b[0m \u001b[39mInstalling \u001b[0m\u001b[36mtoml\u001b[0m\u001b[39m (\u001b[0m\u001b[32m0.10.2\u001b[0m\u001b[39m)\u001b[0m\n",
      "\u001b[5A\u001b[0J  \u001b[34;1m•\u001b[0m \u001b[39mInstalling \u001b[0m\u001b[36mmypy-extensions\u001b[0m\u001b[39m (\u001b[0m\u001b[39;1m0.4.3\u001b[0m\u001b[39m)\u001b[0m: \u001b[34mInstalling...\u001b[0m\n",
      "  \u001b[34;1m•\u001b[0m \u001b[39mInstalling \u001b[0m\u001b[36mpathspec\u001b[0m\u001b[39m (\u001b[0m\u001b[39;1m0.8.1\u001b[0m\u001b[39m)\u001b[0m: \u001b[34mInstalling...\u001b[0m\n",
      "  \u001b[34;1m•\u001b[0m \u001b[39mInstalling \u001b[0m\u001b[36mregex\u001b[0m\u001b[39m (\u001b[0m\u001b[39;1m2021.4.4\u001b[0m\u001b[39m)\u001b[0m: \u001b[34mInstalling...\u001b[0m\n",
      "  \u001b[32;1m•\u001b[0m \u001b[39mInstalling \u001b[0m\u001b[36mtoml\u001b[0m\u001b[39m (\u001b[0m\u001b[32m0.10.2\u001b[0m\u001b[39m)\u001b[0m\n",
      "\u001b[4A\u001b[0J  \u001b[32;1m•\u001b[0m \u001b[39mInstalling \u001b[0m\u001b[36mappdirs\u001b[0m\u001b[39m (\u001b[0m\u001b[32m1.4.4\u001b[0m\u001b[39m)\u001b[0m\n",
      "  \u001b[34;1m•\u001b[0m \u001b[39mInstalling \u001b[0m\u001b[36mmypy-extensions\u001b[0m\u001b[39m (\u001b[0m\u001b[39;1m0.4.3\u001b[0m\u001b[39m)\u001b[0m: \u001b[34mInstalling...\u001b[0m\n",
      "  \u001b[34;1m•\u001b[0m \u001b[39mInstalling \u001b[0m\u001b[36mpathspec\u001b[0m\u001b[39m (\u001b[0m\u001b[39;1m0.8.1\u001b[0m\u001b[39m)\u001b[0m: \u001b[34mInstalling...\u001b[0m\n",
      "  \u001b[34;1m•\u001b[0m \u001b[39mInstalling \u001b[0m\u001b[36mregex\u001b[0m\u001b[39m (\u001b[0m\u001b[39;1m2021.4.4\u001b[0m\u001b[39m)\u001b[0m: \u001b[34mInstalling...\u001b[0m\n",
      "  \u001b[32;1m•\u001b[0m \u001b[39mInstalling \u001b[0m\u001b[36mtoml\u001b[0m\u001b[39m (\u001b[0m\u001b[32m0.10.2\u001b[0m\u001b[39m)\u001b[0m\n",
      "\u001b[4A\u001b[0J  \u001b[34;1m•\u001b[0m \u001b[39mInstalling \u001b[0m\u001b[36mpathspec\u001b[0m\u001b[39m (\u001b[0m\u001b[39;1m0.8.1\u001b[0m\u001b[39m)\u001b[0m: \u001b[34mInstalling...\u001b[0m\n",
      "  \u001b[34;1m•\u001b[0m \u001b[39mInstalling \u001b[0m\u001b[36mregex\u001b[0m\u001b[39m (\u001b[0m\u001b[39;1m2021.4.4\u001b[0m\u001b[39m)\u001b[0m: \u001b[34mInstalling...\u001b[0m\n",
      "  \u001b[32;1m•\u001b[0m \u001b[39mInstalling \u001b[0m\u001b[36mtoml\u001b[0m\u001b[39m (\u001b[0m\u001b[32m0.10.2\u001b[0m\u001b[39m)\u001b[0m\n",
      "\u001b[3A\u001b[0J  \u001b[32;1m•\u001b[0m \u001b[39mInstalling \u001b[0m\u001b[36mmypy-extensions\u001b[0m\u001b[39m (\u001b[0m\u001b[32m0.4.3\u001b[0m\u001b[39m)\u001b[0m\n",
      "  \u001b[34;1m•\u001b[0m \u001b[39mInstalling \u001b[0m\u001b[36mpathspec\u001b[0m\u001b[39m (\u001b[0m\u001b[39;1m0.8.1\u001b[0m\u001b[39m)\u001b[0m: \u001b[34mInstalling...\u001b[0m\n",
      "  \u001b[34;1m•\u001b[0m \u001b[39mInstalling \u001b[0m\u001b[36mregex\u001b[0m\u001b[39m (\u001b[0m\u001b[39;1m2021.4.4\u001b[0m\u001b[39m)\u001b[0m: \u001b[34mInstalling...\u001b[0m\n",
      "  \u001b[32;1m•\u001b[0m \u001b[39mInstalling \u001b[0m\u001b[36mtoml\u001b[0m\u001b[39m (\u001b[0m\u001b[32m0.10.2\u001b[0m\u001b[39m)\u001b[0m\n",
      "\u001b[2A\u001b[0J  \u001b[32;1m•\u001b[0m \u001b[39mInstalling \u001b[0m\u001b[36mtoml\u001b[0m\u001b[39m (\u001b[0m\u001b[32m0.10.2\u001b[0m\u001b[39m)\u001b[0m\n",
      "\u001b[1A\u001b[0J  \u001b[32;1m•\u001b[0m \u001b[39mInstalling \u001b[0m\u001b[36mregex\u001b[0m\u001b[39m (\u001b[0m\u001b[32m2021.4.4\u001b[0m\u001b[39m)\u001b[0m\n",
      "  \u001b[32;1m•\u001b[0m \u001b[39mInstalling \u001b[0m\u001b[36mtoml\u001b[0m\u001b[39m (\u001b[0m\u001b[32m0.10.2\u001b[0m\u001b[39m)\u001b[0m\n",
      "\u001b[3A\u001b[0J  \u001b[32;1m•\u001b[0m \u001b[39mInstalling \u001b[0m\u001b[36mregex\u001b[0m\u001b[39m (\u001b[0m\u001b[32m2021.4.4\u001b[0m\u001b[39m)\u001b[0m\n",
      "  \u001b[32;1m•\u001b[0m \u001b[39mInstalling \u001b[0m\u001b[36mtoml\u001b[0m\u001b[39m (\u001b[0m\u001b[32m0.10.2\u001b[0m\u001b[39m)\u001b[0m\n",
      "\u001b[2A\u001b[0J  \u001b[32;1m•\u001b[0m \u001b[39mInstalling \u001b[0m\u001b[36mpathspec\u001b[0m\u001b[39m (\u001b[0m\u001b[32m0.8.1\u001b[0m\u001b[39m)\u001b[0m\n",
      "  \u001b[32;1m•\u001b[0m \u001b[39mInstalling \u001b[0m\u001b[36mregex\u001b[0m\u001b[39m (\u001b[0m\u001b[32m2021.4.4\u001b[0m\u001b[39m)\u001b[0m\n",
      "  \u001b[32;1m•\u001b[0m \u001b[39mInstalling \u001b[0m\u001b[36mtoml\u001b[0m\u001b[39m (\u001b[0m\u001b[32m0.10.2\u001b[0m\u001b[39m)\u001b[0m\n",
      "  \u001b[34;1m•\u001b[0m \u001b[39mInstalling \u001b[0m\u001b[36mblack\u001b[0m\u001b[39m (\u001b[0m\u001b[39;1m21.6b0\u001b[0m\u001b[39m)\u001b[0m: \u001b[34mPending...\u001b[0m\n",
      "\u001b[1A\u001b[0J  \u001b[34;1m•\u001b[0m \u001b[39mInstalling \u001b[0m\u001b[36mblack\u001b[0m\u001b[39m (\u001b[0m\u001b[39;1m21.6b0\u001b[0m\u001b[39m)\u001b[0m: \u001b[34mDownloading...\u001b[0m \u001b[1m0%\u001b[0m\n",
      "\u001b[1A\u001b[0J  \u001b[34;1m•\u001b[0m \u001b[39mInstalling \u001b[0m\u001b[36mblack\u001b[0m\u001b[39m (\u001b[0m\u001b[39;1m21.6b0\u001b[0m\u001b[39m)\u001b[0m: \u001b[34mDownloading...\u001b[0m \u001b[1m100%\u001b[0m\n",
      "\u001b[1A\u001b[0J  \u001b[34;1m•\u001b[0m \u001b[39mInstalling \u001b[0m\u001b[36mblack\u001b[0m\u001b[39m (\u001b[0m\u001b[39;1m21.6b0\u001b[0m\u001b[39m)\u001b[0m: \u001b[34mDownloading...\u001b[0m \u001b[1m100%\u001b[0m\n",
      "\u001b[1A\u001b[0J  \u001b[34;1m•\u001b[0m \u001b[39mInstalling \u001b[0m\u001b[36mblack\u001b[0m\u001b[39m (\u001b[0m\u001b[39;1m21.6b0\u001b[0m\u001b[39m)\u001b[0m: \u001b[34mInstalling...\u001b[0m\n",
      "\u001b[1A\u001b[0J  \u001b[32;1m•\u001b[0m \u001b[39mInstalling \u001b[0m\u001b[36mblack\u001b[0m\u001b[39m (\u001b[0m\u001b[32m21.6b0\u001b[0m\u001b[39m)\u001b[0m\n"
     ]
    }
   ],
   "source": [
    "! poetry add -D black"
   ]
  },
  {
   "cell_type": "code",
   "execution_count": 67,
   "id": "74ca019a",
   "metadata": {},
   "outputs": [
    {
     "name": "stdout",
     "output_type": "stream",
     "text": [
      "\u001b[1mreformatted src/demo/__init__.py\u001b[0m\n",
      "\u001b[1mreformatted src/demo/demo.py\u001b[0m\n",
      "\u001b[1mAll done! ✨ 🍰 ✨\u001b[0m\n",
      "\u001b[1m2 files reformatted\u001b[0m.\n"
     ]
    }
   ],
   "source": [
    "! poetry run black src"
   ]
  }
 ],
 "metadata": {
  "kernelspec": {
   "display_name": "Python 3",
   "language": "python",
   "name": "python3"
  },
  "language_info": {
   "codemirror_mode": {
    "name": "ipython",
    "version": 3
   },
   "file_extension": ".py",
   "mimetype": "text/x-python",
   "name": "python",
   "nbconvert_exporter": "python",
   "pygments_lexer": "ipython3",
   "version": "3.8.7"
  }
 },
 "nbformat": 4,
 "nbformat_minor": 5
}
