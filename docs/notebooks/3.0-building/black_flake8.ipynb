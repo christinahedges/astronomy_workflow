{
 "cells": [
  {
   "cell_type": "markdown",
   "metadata": {},
   "source": [
    "# black and flake8\n",
    "\n",
    "*TL;DR: `black` and `flake8` will make your code pretty and readable, automatically.*\n",
    "\n",
    "### `flake8`\n",
    "[This](https://flake8.pycqa.org/en/latest/) tool will enforce a style guide for you. `flake8` will throw an error if you run it on a script that doesn't obey your chosen style. You can set up a `.flake8` file which specifies the style you want to keep to. This will let you choose, for example, the max line length you would like. `flake8` will check through your code and look for errors, like importing a package that you don't use.\n",
    "\n",
    "You can set up a GitHub action so that flake8 will automatically check the style of any pull requests.\n",
    "\n",
    "### `black` \n",
    "[This](https://black.readthedocs.io/en/stable/?badge=stable) tool will automatically format your Python code, in a very sane way. It will automatically check for the right spaces between variables, push long lines into multiple lines, and will raise an error if you have a missing bracket somewhere. I highly recommend it.\n",
    "\n",
    "If you use an editor like [atom](https://atom.io/) for coding (which I also recommend) you can add an extension to have `black` automatically run whenever you save. \n"
   ]
  }
 ],
 "metadata": {
  "kernelspec": {
   "display_name": "Python 3",
   "language": "python",
   "name": "python3"
  },
  "language_info": {
   "codemirror_mode": {
    "name": "ipython",
    "version": 3
   },
   "file_extension": ".py",
   "mimetype": "text/x-python",
   "name": "python",
   "nbconvert_exporter": "python",
   "pygments_lexer": "ipython3",
   "version": "3.6.7"
  }
 },
 "nbformat": 4,
 "nbformat_minor": 4
}
