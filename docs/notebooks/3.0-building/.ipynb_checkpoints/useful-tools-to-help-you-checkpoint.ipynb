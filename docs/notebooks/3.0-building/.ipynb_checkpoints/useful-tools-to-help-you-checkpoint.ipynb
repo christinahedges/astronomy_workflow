{
 "cells": [
  {
   "cell_type": "markdown",
   "metadata": {},
   "source": [
    "# Recommended Python development tools\n",
    "\n",
    "Developing tools and software is hard. \n",
    "* Libraries your tool depends on can become obsolete (see theano?), or change their API (see lightkurve)\n",
    "* Whole languages fall out of fashion (Python won't always be the golden child)\n",
    "* Hardware changes (see M1 chip!)\n",
    "* Sometimes we move on to new methods, and our old tools stagnate (see my GitHub profile)"
   ]
  },
  {
   "cell_type": "markdown",
   "metadata": {},
   "source": [
    "Making tools really helps the community, and we really want to spend our time efficiently. Using efficient workflows, and good tools, can really help here. I'm going to talk about a few tools here that have helped me. \n",
    "\n",
    "But, the ground is always shifting, and in a few years opinions may change!\n",
    "\n",
    "Here I'm talking exclusively about Python tools. "
   ]
  }
 ],
 "metadata": {
  "kernelspec": {
   "display_name": "Python 3",
   "language": "python",
   "name": "python3"
  },
  "language_info": {
   "codemirror_mode": {
    "name": "ipython",
    "version": 3
   },
   "file_extension": ".py",
   "mimetype": "text/x-python",
   "name": "python",
   "nbconvert_exporter": "python",
   "pygments_lexer": "ipython3",
   "version": "3.8.7"
  }
 },
 "nbformat": 4,
 "nbformat_minor": 4
}
