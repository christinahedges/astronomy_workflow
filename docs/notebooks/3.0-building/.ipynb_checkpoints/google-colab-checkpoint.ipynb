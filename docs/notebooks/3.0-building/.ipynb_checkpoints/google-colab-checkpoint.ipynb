{
 "cells": [
  {
   "cell_type": "markdown",
   "metadata": {},
   "source": [
    "# Google colab\n",
    "*TL;DR: Google colab is free, and powerful, and if you or your students are struggling with package installs it will help you.*\n",
    "\n",
    "Sometimes setting up a machine is really hard. If you have students or you yourself use windows, you may find some of these tools just don't work. This can get really frustrating. I can highly recommend, if you get stuck, trying [google colab](https://research.google.com/colaboratory/). This is essentially what google docs is to Pages or Word. You can have a jupyter notebook, online, which is easy to run and share.\n",
    "\n",
    "Colab will let you\n",
    "\n",
    "* Save notebooks to your drive\n",
    "* Start notebooks from GitHub\n",
    "* Install whatever packages you want that work with thier Python version (3.7 at time of writing)\n",
    "\n",
    "I find them very useful to give to students, and to make \"live\" tutorials with my packages."
   ]
  }
 ],
 "metadata": {
  "kernelspec": {
   "display_name": "Python 3",
   "language": "python",
   "name": "python3"
  },
  "language_info": {
   "codemirror_mode": {
    "name": "ipython",
    "version": 3
   },
   "file_extension": ".py",
   "mimetype": "text/x-python",
   "name": "python",
   "nbconvert_exporter": "python",
   "pygments_lexer": "ipython3",
   "version": "3.6.7"
  }
 },
 "nbformat": 4,
 "nbformat_minor": 4
}
