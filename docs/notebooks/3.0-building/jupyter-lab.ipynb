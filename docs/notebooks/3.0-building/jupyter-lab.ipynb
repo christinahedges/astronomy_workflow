{
 "cells": [
  {
   "cell_type": "markdown",
   "id": "4a3ff2a1",
   "metadata": {},
   "source": [
    "# jupyter-lab \n",
    "\n",
    "*TL;DR: jupyter notebooks are common tools in astronomy, they're great for sharing work alongside notes. jupyter-lab let's you make notebooks and scripts at the same time.*\n",
    "\n",
    "Everyone develops in a slightly different way. I like using `jupyter-lab` to build notebooks and test ideas, and then when I'm ready to package stuff up I use an editor like [atom](https://atom.io) to build the final scripts.\n",
    "\n",
    "`jupyter-lab` let's you have a library of `jupyter notebooks` and Python scripts, and can be slightly easier to use than a single notebook. You can easily navigate through your working directory, and have tabs of different notebooks open, as well as tabs for images and other files. There's an image below of what a jupyter-lab instance looks like!"
   ]
  },
  {
   "cell_type": "markdown",
   "id": "cdd879ec",
   "metadata": {},
   "source": [
    "![jupyter-lab all the way down](figures/jupyterlab.png)"
   ]
  },
  {
   "cell_type": "markdown",
   "id": "c9d0fbce",
   "metadata": {},
   "source": [
    "To install jupyter-lab you can use pip, or poetry\n",
    "\n",
    "```\n",
    "pip install jupyterlab\n",
    "```\n",
    "or\n",
    "```\n",
    "poetry add jupyterlab\n",
    "```\n",
    "\n",
    "And then to start a serve you can use\n",
    "\n",
    "```\n",
    "jupyter-lab\n",
    "```"
   ]
  }
 ],
 "metadata": {
  "kernelspec": {
   "display_name": "Python 3",
   "language": "python",
   "name": "python3"
  },
  "language_info": {
   "codemirror_mode": {
    "name": "ipython",
    "version": 3
   },
   "file_extension": ".py",
   "mimetype": "text/x-python",
   "name": "python",
   "nbconvert_exporter": "python",
   "pygments_lexer": "ipython3",
   "version": "3.6.7"
  }
 },
 "nbformat": 4,
 "nbformat_minor": 5
}
