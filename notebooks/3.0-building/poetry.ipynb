{
 "cells": [
  {
   "cell_type": "markdown",
   "metadata": {},
   "source": [
    "# poetry\n",
    "\n",
    "*TL;DR: `poetry` makes versioning your tools and distributing them super easy.*\n",
    "\n",
    "When we're building tools, we often depend on dozens of libraries. Those libraries can change! If you return to your tool in 2 years, you may find that installing newer versions of the dependencies breaks your original work.\n",
    "\n",
    "So how do we ensure our work is future proof?\n",
    "\n",
    "We have to ensure that our tools come with a *list of requirements*.\n",
    "\n",
    "But, keeping up with those requirements is a pain. \n",
    "\n",
    "Luckily `poetry` solves this for us. You can read more about `poetry` here, but I'll sum it up for you: https://python-poetry.org/\n",
    "\n",
    "Using `poetry` is similar to using a virtual environment. All the packages are stored in a directory within your project, so you won't be able to use those versions outside. "
   ]
  },
  {
   "cell_type": "markdown",
   "metadata": {},
   "source": [
    "## 1. Starting a new project with Poetry\n",
    "\n",
    "Starting a new project with poetry is really easy. If you want to start completely from scratch \n",
    "\n",
    "```\n",
    "poetry new\n",
    "```\n",
    "\n",
    "will create some handy files and directory structures for you (e.g. a README, a src directory etc)\n",
    "\n",
    "If you have an existing structure, you can use\n",
    "\n",
    "```\n",
    "poetry init\n",
    "``` \n",
    "\n",
    "Both these commands will give you a `pyproject.toml` and a `poetry.lock` file. If anything, you will only ever interact with the `pyproject.toml` file. These files are tracking the specific dependencies of your project, and ensuring they all match and don't collide with each other."
   ]
  },
  {
   "cell_type": "markdown",
   "metadata": {},
   "source": [
    "## 2. Adding a new dependency\n",
    "\n",
    "If you have a dependency in your project, e.g. `numpy`, you can add this dependency using\n",
    "\n",
    "```\n",
    "poetry add numpy\n",
    "```\n",
    "\n",
    "This is installing `numpy` for you, in a new directory. `poetry` will **not** use your normal install of `numpy`, it will use the one installed for this project. \n",
    "\n",
    "You can specify particular versions when adding, you can also specify github urls to install tools.\n",
    "\n",
    "If you have a dependency that is just for developing tools, you can make it a \"development\" dependency\n",
    "\n",
    "```\n",
    "poetry add -D numpy\n",
    "```\n",
    "\n",
    "You'll get errors if\n",
    "* Your added packages don't work with the Python version you're using\n",
    "* Your added packages don't work with each other (e.g. requiring different versions of dependencies)"
   ]
  },
  {
   "cell_type": "markdown",
   "metadata": {},
   "source": [
    "## 3. Installing your package\n",
    "\n",
    "If you want to use your package, you'll have to use the install command\n",
    "\n",
    "```\n",
    "poetry install\n",
    "``` \n",
    "\n",
    "This will install everything that isn't already installed. If you have cloned a repo with a `pyproject.toml` and `poetry.lock` file, you can install the package and all the dependencies `poetry install`. Remember `poetry` is like a virtual environment, so this will only install the tools in this directory."
   ]
  },
  {
   "cell_type": "markdown",
   "metadata": {},
   "source": [
    "## 4. Using tools\n",
    "\n",
    "Poetry is making a sort of virtual environment for you, where all the packages are seperate from the rest of your machine. So how do you use it? If you execute the following in a terminal\n",
    "\n",
    "```\n",
    "poetry add lightkurve\n",
    "python\n",
    "import lightkurve as lk\n",
    "```\n",
    "\n",
    "This will result in an error. It's going to use your local version of Python, and local installs. If you try to import any of the libraries you've set up with `poetry add`, you won't be able to access them, because they're not in your local installs.\n",
    "\n",
    "Instead, we have to expressly as for `poetry` to run the command.\n",
    "\n",
    "```\n",
    "poetry add lightkurve\n",
    "poetry run python\n",
    "import lightkurve as lk\n",
    "```\n",
    "\n",
    "Specifying that `poetry` needs to run the command will let you use all the packages you added and installed with `poetry`. You need to do this with all commands you want to use your libraries. If, for example you wanted to use `jupyter-lab`, you would have to use\n",
    "\n",
    "```\n",
    "poetry add jupyterlab lightkurve\n",
    "poetry run jupyter-lab\n",
    "```"
   ]
  },
  {
   "cell_type": "markdown",
   "metadata": {},
   "source": [
    "## 5. Distributing tools\n",
    "\n",
    "This is where `poetry` is super handy. You can publish to PyPI, straight from your directory. When you're done with your development use\n",
    "\n",
    "```\n",
    "poetry publish\n",
    "```\n",
    "\n",
    "This will ask for your PyPI credentials, and will then publish your package to PyPI! Handy.\n",
    "\n",
    "One thing to watch out for is versioning. Make sure you update your package version number before publishing, otherwise `poetry` will tell you that you can't overwrite the current version on PyPI."
   ]
  }
 ],
 "metadata": {
  "kernelspec": {
   "display_name": "Python 3",
   "language": "python",
   "name": "python3"
  },
  "language_info": {
   "codemirror_mode": {
    "name": "ipython",
    "version": 3
   },
   "file_extension": ".py",
   "mimetype": "text/x-python",
   "name": "python",
   "nbconvert_exporter": "python",
   "pygments_lexer": "ipython3",
   "version": "3.6.7"
  }
 },
 "nbformat": 4,
 "nbformat_minor": 4
}
